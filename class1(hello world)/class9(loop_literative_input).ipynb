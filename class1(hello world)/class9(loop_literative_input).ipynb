{
 "cells": [
  {
   "cell_type": "markdown",
   "metadata": {},
   "source": [
    "# Loop and input from user\n",
    "* while\n",
    "* for\n",
    "* controls\n",
    "    * break\n",
    "    * continue\n",
    "    * pass\n",
    "* input with input function\n",
    "* input from console\n",
    "\n",
    "# Loop working on iterative data types\n",
    "* list\n",
    "* dictionary\n",
    "* tuple\n",
    "* string"
   ]
  },
  {
   "cell_type": "code",
   "execution_count": null,
   "metadata": {},
   "outputs": [],
   "source": [
    "#\n",
    "l1 : list[int] = [1,2,3,4,5,6]\n",
    "print(l1)"
   ]
  },
  {
   "cell_type": "code",
   "execution_count": null,
   "metadata": {},
   "outputs": [],
   "source": [
    "# iteration krwani h ak ak line mai print kre ga\n",
    "l1 : list[int] = [1,2,3,4,5,6]\n",
    "for n in l1:\n",
    "    print(n)\n",
    "   "
   ]
  },
  {
   "cell_type": "code",
   "execution_count": null,
   "metadata": {},
   "outputs": [],
   "source": [
    "# advance way\n",
    "l1 : list[int] = [1,2,3,4,5,6]\n",
    "for n in l1:\n",
    "    print(f\"Courrent number : {n}\")\n",
    "   "
   ]
  },
  {
   "cell_type": "code",
   "execution_count": null,
   "metadata": {},
   "outputs": [],
   "source": [
    "# tuple pe b iteration perfome hti h\n",
    "l1 : tuple[int] = [1,2,3,4,5,6]\n",
    "for n in l1:\n",
    "    print(f\"Courrent number : {n}\")\n",
    "   "
   ]
  },
  {
   "cell_type": "code",
   "execution_count": null,
   "metadata": {},
   "outputs": [],
   "source": [
    "# string\n",
    "l1 : str = \"pakistan\"\n",
    "for n in l1:\n",
    "    print(f\"Courrent number : {n}\")\n",
    "   "
   ]
  },
  {
   "cell_type": "code",
   "execution_count": null,
   "metadata": {},
   "outputs": [],
   "source": [
    "# Dictionary iteration perform on keys\n",
    "l1 : dict[str,str] = {\"name\":\"M Adeel\",\"fname\":\"M Khalid\"}\n",
    "for k in l1:\n",
    "    print(f\"dictionary key {k} and value is {l1[k]}\")\n",
    "   "
   ]
  },
  {
   "cell_type": "code",
   "execution_count": null,
   "metadata": {},
   "outputs": [],
   "source": [
    "# set data pe iteration perform \n",
    "l1 : set[int] = {1,2,3,4,5,6,1,1,1}\n",
    "for k in l1:\n",
    "    print(f\"dictionary key {k} \")\n",
    "   "
   ]
  },
  {
   "cell_type": "code",
   "execution_count": null,
   "metadata": {},
   "outputs": [],
   "source": [
    "# set data pe iteration perform ho gey\n",
    "l1 : list[set[int]] = list({1,2,3,4,5,6,1,1,1})\n",
    "for k in l1:\n",
    "    print(f\"value from list of set : {k} \")\n",
    "   "
   ]
  },
  {
   "cell_type": "markdown",
   "metadata": {},
   "source": [
    "# input from user\n",
    "* input function\n",
    "    * default type = string\n",
    "* sys.argv (for console input in abc.py file)\n",
    "    * default type = object"
   ]
  },
  {
   "cell_type": "code",
   "execution_count": null,
   "metadata": {},
   "outputs": [],
   "source": [
    "name : str = input(\"what is your name? : \\t\")\n",
    "\n",
    "print(type(name))\n",
    "\n",
    "print(f\"Welcome dear User Mr/Miss {name}!\")"
   ]
  },
  {
   "cell_type": "code",
   "execution_count": null,
   "metadata": {},
   "outputs": [],
   "source": [
    "# zip function jitne mrzi variable hn sb ko milne k liye zip use hti h\n",
    "names : list[str] = ['a','b','c']\n",
    "fname : list[str] = ['x','y','z']\n",
    "age : list[int] = [1,2,3]\n",
    "\n",
    "# zip(names,fname,age) # ase ye function ni chle ga\n",
    "list(zip(names,fname,age))"
   ]
  },
  {
   "cell_type": "code",
   "execution_count": null,
   "metadata": {},
   "outputs": [],
   "source": [
    " \n",
    "# sb variable ko mila k for loop lga skte\n",
    "names : list[str] = ['a','b','c']\n",
    "fname : list[str] = ['x','y','z']\n",
    "age : list[int] = [1,2,3]\n",
    "\n",
    "\n",
    "for name,fn,ag in zip(names,fname,age):\n",
    "    print(f\"Welcome dear {name}, s/o {fn}, {ag} !\")"
   ]
  },
  {
   "cell_type": "markdown",
   "metadata": {},
   "source": [
    "# while loop\n",
    " * work like if else / true false (tb tk chle gey jb tk true milta rhe ga)\n",
    " * while logic: # True/False\n",
    "    loop_body"
   ]
  },
  {
   "cell_type": "code",
   "execution_count": 1,
   "metadata": {},
   "outputs": [
    {
     "name": "stdout",
     "output_type": "stream",
     "text": [
      "current number is : 0\n",
      "current number is : 1\n",
      "current number is : 2\n",
      "current number is : 3\n",
      "current number is : 4\n",
      "current number is : 5\n",
      "current number is : 6\n",
      "current number is : 7\n",
      "current number is : 8\n",
      "current number is : 9\n"
     ]
    }
   ],
   "source": [
    "flag : bool = True  # flag\n",
    "current_number : int = 0\n",
    "\n",
    "while flag:\n",
    "    print(f\"current number is : {current_number}\")\n",
    "    current_number += 1\n",
    "\n",
    "    if current_number == 10: # flag false at some point (khud hame condition ko break krna pre ga)\n",
    "        break"
   ]
  },
  {
   "cell_type": "code",
   "execution_count": 2,
   "metadata": {},
   "outputs": [
    {
     "name": "stdout",
     "output_type": "stream",
     "text": [
      "current index is : 0 and list value is 100\n",
      "current index is : 1 and list value is 200\n",
      "current index is : 2 and list value is 300\n"
     ]
    }
   ],
   "source": [
    "l1 : list[int] = [100,200,300]\n",
    "\n",
    "index : int = 0\n",
    "while index < len(l1):\n",
    "    print(f\"current index is : {index} and list value is {l1[index]}\")\n",
    "    index +=1"
   ]
  },
  {
   "cell_type": "code",
   "execution_count": 2,
   "metadata": {},
   "outputs": [
    {
     "name": "stdout",
     "output_type": "stream",
     "text": [
      "write quite or exit to stop this program\n"
     ]
    },
    {
     "data": {
      "text/plain": [
       "[{'name': 'adeel', 'education': 'llm'}]"
      ]
     },
     "metadata": {},
     "output_type": "display_data"
    }
   ],
   "source": [
    "data : list[dict[str,str]] = []\n",
    "\n",
    "flag : bool = True\n",
    "while flag:\n",
    "    print(\"write quite or exit to stop this program\")\n",
    "    name : str = input(\"your good name ? \\t\")\n",
    "    education: str = input(\"your last education ? \\t\")\n",
    "\n",
    "    if name in ['exit','quite','close','stop'] or education in ['exit','quite','close','stop']:\n",
    "        flag = False\n",
    "        break\n",
    "    data.append({\"name\":name,\"education\": education})\n",
    "    display(data)\n",
    "    break\n"
   ]
  },
  {
   "cell_type": "markdown",
   "metadata": {},
   "source": [
    "# controls\n",
    "    * break\n",
    "    * continue\n",
    "        * skip\n",
    "    * pass"
   ]
  },
  {
   "cell_type": "code",
   "execution_count": 4,
   "metadata": {},
   "outputs": [
    {
     "name": "stdout",
     "output_type": "stream",
     "text": [
      "1\n",
      "2\n",
      "3\n",
      "4\n",
      "5\n"
     ]
    }
   ],
   "source": [
    "# break ( as example mai 1 se 10 tk chlna tha likn 5 pe rok dia. khe b rok skte hai control mojod h)\n",
    "\n",
    "for i in range(1,11):\n",
    "    print(i)\n",
    "    if i == 5:\n",
    "        break"
   ]
  },
  {
   "cell_type": "code",
   "execution_count": 12,
   "metadata": {},
   "outputs": [
    {
     "name": "stdout",
     "output_type": "stream",
     "text": [
      "2 x 1 = 2\n"
     ]
    }
   ],
   "source": [
    "# break direct sara code ni chla dena phle ak chote se value pe implement krna h phr us k bd sara code chlna h q k cloud pe chlne k paise lg rhe hte hai\n",
    "\n",
    "for i in range(1,11):\n",
    "   print(f\"2 x {i} = {i*2}\")\n",
    "   break"
   ]
  },
  {
   "cell_type": "code",
   "execution_count": 13,
   "metadata": {},
   "outputs": [
    {
     "name": "stdout",
     "output_type": "stream",
     "text": [
      "2 x 1 = 2\n",
      "2 x 2 = 4\n",
      "2 x 3 = 6\n",
      "2 x 4 = 8\n",
      "2 x 5 = 10\n",
      "2 x 6 = 12\n",
      "2 x 7 = 14\n",
      "2 x 8 = 16\n",
      "2 x 9 = 18\n",
      "2 x 10 = 20\n"
     ]
    }
   ],
   "source": [
    "# break \n",
    "\n",
    "for i in range(1,11):\n",
    "   print(f\"2 x {i} = {i*2}\")"
   ]
  },
  {
   "cell_type": "code",
   "execution_count": 14,
   "metadata": {},
   "outputs": [
    {
     "name": "stdout",
     "output_type": "stream",
     "text": [
      "1\n",
      "2\n",
      "3\n",
      "4\n",
      "6\n",
      "7\n",
      "8\n",
      "9\n",
      "10\n"
     ]
    }
   ],
   "source": [
    "# continue as example mai 5 ko skip kr de ga baki code same chle ga\n",
    "for i in range(1,11):\n",
    "    if i == 5 :\n",
    "        continue\n",
    "    print(i)"
   ]
  },
  {
   "cell_type": "code",
   "execution_count": 16,
   "metadata": {},
   "outputs": [
    {
     "ename": "SyntaxError",
     "evalue": "incomplete input (2249072592.py, line 2)",
     "output_type": "error",
     "traceback": [
      "\u001b[1;36m  Cell \u001b[1;32mIn[16], line 2\u001b[1;36m\u001b[0m\n\u001b[1;33m    for i in range(1,1000):\u001b[0m\n\u001b[1;37m                           ^\u001b[0m\n\u001b[1;31mSyntaxError\u001b[0m\u001b[1;31m:\u001b[0m incomplete input\n"
     ]
    }
   ],
   "source": [
    "# pass as mai logic incomplite h\n",
    "for i in range(1,1000):"
   ]
  },
  {
   "cell_type": "code",
   "execution_count": 18,
   "metadata": {},
   "outputs": [
    {
     "name": "stdout",
     "output_type": "stream",
     "text": [
      "pakistan\n",
      "second\n"
     ]
    }
   ],
   "source": [
    "# pass likhne k error generate ni ho ga (pass wale kam ko hm bd mai krne k liye rok dete hai or baki kam krne lg jte\n",
    "#  as code mai b range wala kam rok dia h or neche pakistan or second print ho rha)\n",
    "for i in range(1,1000):\n",
    "    pass\n",
    "print('pakistan')\n",
    "print('second')"
   ]
  },
  {
   "cell_type": "code",
   "execution_count": 19,
   "metadata": {},
   "outputs": [
    {
     "data": {
      "text/plain": [
       "[6, 18]"
      ]
     },
     "execution_count": 19,
     "metadata": {},
     "output_type": "execute_result"
    }
   ],
   "source": [
    "# extract even numbers from this list\n",
    "data : list[int] = [1,3,5,6,3,15,18]\n",
    "\n",
    "[i for i in data if i%2==0]"
   ]
  },
  {
   "cell_type": "code",
   "execution_count": 20,
   "metadata": {},
   "outputs": [
    {
     "data": {
      "text/plain": [
       "[1, 3, 5, 3, 15]"
      ]
     },
     "execution_count": 20,
     "metadata": {},
     "output_type": "execute_result"
    }
   ],
   "source": [
    "# extract odd numbers from this list\n",
    "data : list[int] = [1,3,5,6,3,15,18]\n",
    "\n",
    "[i for i in data if i%2!=0]"
   ]
  }
 ],
 "metadata": {
  "kernelspec": {
   "display_name": "python12",
   "language": "python",
   "name": "python3"
  },
  "language_info": {
   "codemirror_mode": {
    "name": "ipython",
    "version": 3
   },
   "file_extension": ".py",
   "mimetype": "text/x-python",
   "name": "python",
   "nbconvert_exporter": "python",
   "pygments_lexer": "ipython3",
   "version": "3.12.0"
  }
 },
 "nbformat": 4,
 "nbformat_minor": 2
}
