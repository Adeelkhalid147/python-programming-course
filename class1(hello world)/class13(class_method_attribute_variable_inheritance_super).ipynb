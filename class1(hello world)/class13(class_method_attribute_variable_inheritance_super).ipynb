{
 "cells": [
  {
   "cell_type": "code",
   "execution_count": null,
   "metadata": {},
   "outputs": [],
   "source": []
  },
  {
   "cell_type": "code",
   "execution_count": 2,
   "metadata": {},
   "outputs": [],
   "source": [
    "def obj1_speak():pass\n",
    "def obj2_speak():pass\n",
    "\n",
    "obj1_name : str = \"Sir zia\"\n",
    "obj2_name : str = \"M qasim\""
   ]
  },
  {
   "cell_type": "markdown",
   "metadata": {},
   "source": [
    "## OOP (object oriened programming)\n",
    "\n",
    "* class\n",
    "    * method\n",
    "        * first argument must be additional variable (self,this,or anything else)\n",
    "    * attribute\n",
    "        * connect with individual object\n",
    "    * class variables\n",
    "    * constructor\n",
    "        * def ```__init__(self,arg1,arg2)```\n",
    "    * class variable\n",
    "        * this value use for all objects\n",
    "            * `ClassName.class_variable`\n",
    "\n",
    "```\n",
    "class CLassName():\n",
    "    class_variable : type = value\n",
    "```\n",
    "\n",
    "## syntax of class\n",
    "```\n",
    "class ClassName():\n",
    "    pass\n",
    "```"
   ]
  },
  {
   "cell_type": "code",
   "execution_count": 4,
   "metadata": {},
   "outputs": [],
   "source": [
    "# Class\n",
    "# jse js mai this word use krte hai wse he yha self use krna h\n",
    "class Teacher():\n",
    "    def __init__(self, teacher_id : int, teacher_name : str) -> None:\n",
    "        self.name : str = teacher_name \n",
    "        self.teacher_id : int = teacher_id\n",
    "        self.organization_name : str = \"PIAIC\"\n",
    "\n",
    "    def speak(self,words:str):\n",
    "        print(f\"{self.name} is speaking {words}\")\n",
    "\n",
    "    def teaching(self,subject:str) ->None:\n",
    "        print(f\"{self.name} is teaching {subject}\")"
   ]
  },
  {
   "cell_type": "code",
   "execution_count": 19,
   "metadata": {},
   "outputs": [
    {
     "name": "stdout",
     "output_type": "stream",
     "text": [
      "sir zia\n",
      "1\n",
      "PIAIC\n",
      "sir qasim\n",
      "2\n",
      "PIAIC\n"
     ]
    }
   ],
   "source": [
    "\n",
    "obj1 : Teacher = Teacher(1,\"sir zia\")\n",
    "obj2 : Teacher = Teacher(2,\"sir qasim\")\n",
    "\n",
    "print(obj1.name)\n",
    "print(obj1.teacher_id)\n",
    "print(obj1.organization_name)\n",
    "\n",
    "print(obj2.name)\n",
    "print(obj2.teacher_id)\n",
    "print(obj2.organization_name)"
   ]
  },
  {
   "cell_type": "code",
   "execution_count": 16,
   "metadata": {},
   "outputs": [
    {
     "name": "stdout",
     "output_type": "stream",
     "text": [
      "sir zia is teaching \n"
     ]
    }
   ],
   "source": [
    "obj1.teaching(\"Generative AI\")"
   ]
  },
  {
   "cell_type": "code",
   "execution_count": 20,
   "metadata": {},
   "outputs": [
    {
     "name": "stdout",
     "output_type": "stream",
     "text": [
      "sir qasim is teaching Deep Learning\n"
     ]
    }
   ],
   "source": [
    "obj2.teaching(\"Deep Learning\")"
   ]
  },
  {
   "cell_type": "code",
   "execution_count": 22,
   "metadata": {},
   "outputs": [
    {
     "name": "stdout",
     "output_type": "stream",
     "text": [
      "sir zia\n",
      "1\n",
      "PIAIC\n",
      "sir qasim\n",
      "2\n",
      "PIAIC\n"
     ]
    }
   ],
   "source": [
    "# Class\n",
    "# jse js mai this word use krte hai wse he yha this or self dono use kr skte h\n",
    "class Teacher():\n",
    "    def __init__(this, teacher_id : int, teacher_name : str) -> None:\n",
    "        this.name : str = teacher_name \n",
    "        this.teacher_id : int = teacher_id\n",
    "        this.organization_name : str = \"PIAIC\"\n",
    "\n",
    "    def speak(this,words:str):\n",
    "        print(f\"{this.name} is speaking {words}\")\n",
    "\n",
    "    def teaching(this,subject:str) ->None:\n",
    "        print(f\"{this.name} is teaching {subject}\")\n",
    "\n",
    "\n",
    "obj1 : Teacher = Teacher(1,\"sir zia\")\n",
    "obj2 : Teacher = Teacher(2,\"sir qasim\")\n",
    "\n",
    "print(obj1.name)\n",
    "print(obj1.teacher_id)\n",
    "print(obj1.organization_name)\n",
    "\n",
    "print(obj2.name)\n",
    "print(obj2.teacher_id)\n",
    "print(obj2.organization_name)"
   ]
  },
  {
   "cell_type": "code",
   "execution_count": 12,
   "metadata": {},
   "outputs": [
    {
     "name": "stdout",
     "output_type": "stream",
     "text": [
      "\n",
      "        Teacher name is sir zia\n",
      "        our help line number is 0321-XXXXXXXX\n",
      "        \n",
      "0\n",
      "0\n",
      "0\n",
      "0321-XXXXXXXX\n",
      "0321-XXXXXXXX\n",
      "0321-XXXXXXXX\n"
     ]
    }
   ],
   "source": [
    "# Class\n",
    "class Teacher():\n",
    "    counter : int = 0 # class variable1\n",
    "    help_lne_number : str = \"0321-XXXXXXXX\" # class variable1\n",
    "\n",
    "    def __init__(self, teacher_id : int, teacher_name : str) -> None:\n",
    "        self.name : str = teacher_name \n",
    "        self.teacher_id : int = teacher_id\n",
    "        self.organization_name : str = \"PIAIC\"\n",
    "\n",
    "    def speak(self,words:str)->None:\n",
    "        print(f\"{self.name} is speaking {words}\")\n",
    "\n",
    "    def teaching(self, subject:str) ->None:\n",
    "        print(f\"{self.name} is teaching {subject}\")\n",
    "\n",
    "    def details(self) -> None :\n",
    "        information : str = f\"\"\"\n",
    "        Teacher name is {self.name}\n",
    "        our help line number is {Teacher.help_lne_number}\n",
    "        \"\"\"\n",
    "        print(information)\n",
    "\n",
    "obj1 : Teacher = Teacher(1,\"sir zia\")\n",
    "obj2 : Teacher = Teacher(2,\"sir qasim\")\n",
    "\n",
    "obj1.details()\n",
    "\n",
    "print(obj1.counter)\n",
    "print(obj2.counter)\n",
    "print(Teacher.counter)\n",
    "\n",
    "print(obj1.help_lne_number)\n",
    "print(obj2.help_lne_number)\n",
    "print(Teacher.help_lne_number)"
   ]
  },
  {
   "cell_type": "code",
   "execution_count": 34,
   "metadata": {},
   "outputs": [
    {
     "name": "stdout",
     "output_type": "stream",
     "text": [
      "2 2 2\n"
     ]
    }
   ],
   "source": [
    "# Class\n",
    "class Teacher():\n",
    "    counter : int = 0 # class variable1\n",
    "    help_lne_number : str = \"0321-XXXXXXXX\" # class variable1\n",
    "\n",
    "    def __init__(self, teacher_id : int, teacher_name : str) -> None:\n",
    "        self.name : str = teacher_name \n",
    "        self.teacher_id : int = teacher_id\n",
    "        self.organization_name : str = \"PIAIC\"\n",
    "        Teacher.counter +=1\n",
    "\n",
    "    def speak(self,words:str)->None:\n",
    "        print(f\"{self.name} is speaking {words}\")\n",
    "\n",
    "    def teaching(self, subject:str) ->None:\n",
    "        print(f\"{self.name} is teaching {subject}\")\n",
    "\n",
    "    def details(self) -> None :\n",
    "        information : str = f\"\"\"\n",
    "        Teacher name is {self.name}\n",
    "        our help line number is {Teacher.help_lne_number}\n",
    "        \"\"\"\n",
    "        print(information)\n",
    "\n",
    "obj1 : Teacher = Teacher(1,\"sir zia\")\n",
    "obj2 : Teacher = Teacher(2,\"sir qasim\")\n",
    "\n",
    "print(Teacher.counter, obj1.counter, obj2.counter)\n"
   ]
  },
  {
   "cell_type": "markdown",
   "metadata": {},
   "source": []
  },
  {
   "cell_type": "markdown",
   "metadata": {},
   "source": [
    "# 4 pillars\n",
    "* Inheritance\n",
    "    * warasat(voice virsa) warast mai milna bethe bethe milna.(parents to child)\n",
    "* Polymorphism\n",
    "    * \n",
    "* Encapsulation\n",
    "    * a\n",
    "* Abstraction\n",
    "    * "
   ]
  },
  {
   "cell_type": "markdown",
   "metadata": {},
   "source": [
    "## 1. Inheritance\n",
    "``` \n",
    "class ChildClasss(ParentClass):\n",
    "    pass\n",
    "\n",
    "```"
   ]
  },
  {
   "cell_type": "code",
   "execution_count": 40,
   "metadata": {},
   "outputs": [
    {
     "name": "stdout",
     "output_type": "stream",
     "text": [
      "Brown\n",
      "black\n",
      "parent method speak: Pakistan\n",
      "you are looking TV!\n",
      "=======print Child==========\n",
      "you are looking cinema!\n",
      "None\n",
      "parent method speak: english\n",
      "None\n",
      "Brown\n",
      "black\n"
     ]
    }
   ],
   "source": [
    "class Parents():\n",
    "    def __init__(self)->None:\n",
    "        self.eye_color : str = \"Brown\"\n",
    "        self.hair_color : str = \"black\"\n",
    "    def speak(self,words: str)->None:\n",
    "        print(f\"parent method speak: {words}\")\n",
    "    def watching(self, object_name : str)->None:\n",
    "        print(f\"you are looking {object_name}!\")\n",
    "\n",
    "class Child(Parents):\n",
    "    pass\n",
    "\n",
    "obj1 : Parents = Parents()\n",
    "print(obj1.eye_color)\n",
    "print(obj1.hair_color)\n",
    "obj1.speak(\"Pakistan\")\n",
    "obj1.watching(\"TV\")\n",
    "\n",
    "print(\"=======print Child==========\")\n",
    "\n",
    "### Child object\n",
    "\n",
    "obj2 : Child = Child()\n",
    "print(obj2.watching(\"cinema\"))\n",
    "print(obj2.speak(\"english\"))\n",
    "print(obj2.eye_color)\n",
    "print(obj2.hair_color)\n"
   ]
  },
  {
   "cell_type": "code",
   "execution_count": 44,
   "metadata": {},
   "outputs": [
    {
     "name": "stdout",
     "output_type": "stream",
     "text": [
      "Brown\n",
      "black\n",
      "parent method speak: Pakistan\n",
      "you are looking TV!\n",
      "=======print Child==========\n",
      "you are looking cinema!\n",
      "parent method speak: english\n",
      "Brown\n",
      "black\n",
      "Child method for teaching : Generative AI\n"
     ]
    }
   ],
   "source": [
    "class Parents():\n",
    "    def __init__(self)->None:\n",
    "        self.eye_color : str = \"Brown\"\n",
    "        self.hair_color : str = \"black\"\n",
    "    def speak(self,words: str)->None:\n",
    "        print(f\"parent method speak: {words}\")\n",
    "    def watching(self, object_name : str)->None:\n",
    "        print(f\"you are looking {object_name}!\")\n",
    "\n",
    "class Child(Parents):\n",
    "    def teaching(self, subject : str = None)->None:\n",
    "        print(f\"Child method for teaching : {subject}\")\n",
    "\n",
    "obj1 : Parents = Parents()\n",
    "print(obj1.eye_color)\n",
    "print(obj1.hair_color)\n",
    "obj1.speak(\"Pakistan\")\n",
    "obj1.watching(\"TV\")\n",
    "\n",
    "print(\"=======print Child==========\")\n",
    "\n",
    "### Child object\n",
    "\n",
    "obj2 : Child = Child()\n",
    "obj2.watching(\"cinema\")\n",
    "obj2.speak(\"english\")\n",
    "print(obj2.eye_color)\n",
    "print(obj2.hair_color)\n",
    "obj2.teaching(\"Generative AI\")\n"
   ]
  },
  {
   "cell_type": "code",
   "execution_count": 50,
   "metadata": {},
   "outputs": [
    {
     "name": "stdout",
     "output_type": "stream",
     "text": [
      "Animation Artist\n",
      "['Python']\n"
     ]
    }
   ],
   "source": [
    "class Employee():\n",
    "    def __init__(self, name: str) -> None:\n",
    "        self.name: str = name\n",
    "        self.education: str = \"\"\n",
    "        self.department: str = \"\"\n",
    "\n",
    "class Designer(Employee):\n",
    "    def __init__(self, title: str, name: str) -> None:\n",
    "        super().__init__(name)\n",
    "        self.title: str = title\n",
    "\n",
    "class Developer(Employee):\n",
    "    def __init__(self, title: str, name: str) -> None:\n",
    "        super().__init__(name)\n",
    "        self.title: str = title\n",
    "        self.programming_skills: list[str] = [\"Python\"]\n",
    "\n",
    "designer = Designer(\"Animation Artist\", \"Adeel\")\n",
    "dev1 = Developer(\"GenAI Engineer\", \"Khalid\")\n",
    "\n",
    "print(designer.title)\n",
    "print(dev1.programming_skills)\n"
   ]
  }
 ],
 "metadata": {
  "kernelspec": {
   "display_name": "python12",
   "language": "python",
   "name": "python3"
  },
  "language_info": {
   "codemirror_mode": {
    "name": "ipython",
    "version": 3
   },
   "file_extension": ".py",
   "mimetype": "text/x-python",
   "name": "python",
   "nbconvert_exporter": "python",
   "pygments_lexer": "ipython3",
   "version": "3.12.0"
  }
 },
 "nbformat": 4,
 "nbformat_minor": 2
}
