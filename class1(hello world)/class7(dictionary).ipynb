{
 "cells": [
  {
   "cell_type": "code",
   "execution_count": null,
   "metadata": {},
   "outputs": [],
   "source": [
    "# List\n",
    "data : list[str] = [\"Muhammad Adeel\",\"Khalid\",\"MBA\"]"
   ]
  },
  {
   "cell_type": "markdown",
   "metadata": {},
   "source": [
    "# Dictionary\n",
    "* key:value (items)\n",
    "   * key replacement of indexes\n",
    "   * value item\n",
    "* dict_variable[key]\n",
    "   * dict_variable[new_key] = new_value\n",
    "      * add new value\n",
    "      * update value\n"
   ]
  },
  {
   "cell_type": "code",
   "execution_count": 6,
   "metadata": {},
   "outputs": [
    {
     "data": {
      "text/plain": [
       "{'fname': 'Muhammad Adeel', 'name': 'Khalid', 'education': 'MBA'}"
      ]
     },
     "metadata": {},
     "output_type": "display_data"
    },
    {
     "name": "stdout",
     "output_type": "stream",
     "text": [
      "{'education': 'MBA', 'fname': 'Muhammad Adeel', 'name': 'Khalid'}\n"
     ]
    }
   ],
   "source": [
    "from typing import Dict\n",
    "import pprint\n",
    "# List\n",
    "data : Dict[str,str] = {\n",
    "                        \"fname\":\"Muhammad Adeel\",\n",
    "                        \"name\":\"Khalid\",\n",
    "                        \"education\":\"MBA\"\n",
    "                        }\n",
    "display(data)\n",
    "pprint.pprint(data)"
   ]
  },
  {
   "cell_type": "code",
   "execution_count": 15,
   "metadata": {},
   "outputs": [
    {
     "name": "stdout",
     "output_type": "stream",
     "text": [
      "{100: 'pakistan',\n",
      " 'education': 'MBA',\n",
      " 'fname': 'Muhammad Adeel',\n",
      " 'name': 'Khalid'}\n",
      "Muhammad Adeel\n",
      "Khalid\n",
      "MBA\n",
      "pakistan\n"
     ]
    }
   ],
   "source": [
    "from typing import Dict, Union,Optional\n",
    "import pprint\n",
    "\n",
    "key = Union[int,str] # create custom type\n",
    "value = Union[int,str,list,dict,tuple,set]\n",
    "# List\n",
    "data : Dict[key,value] = {\n",
    "                        \"fname\":\"Muhammad Adeel\",\n",
    "                        \"name\":\"Khalid\",\n",
    "                        \"education\":\"MBA\",\n",
    "                        100 : \"pakistan\"\n",
    "                        }\n",
    "\n",
    "pprint.pprint(data)\n",
    "print(data[\"fname\"])\n",
    "print(data['name'])\n",
    "print(data['education'])\n",
    "print(data[100])"
   ]
  },
  {
   "cell_type": "code",
   "execution_count": 19,
   "metadata": {},
   "outputs": [
    {
     "ename": "TypeError",
     "evalue": "unhashable type: 'set'",
     "output_type": "error",
     "traceback": [
      "\u001b[1;31m---------------------------------------------------------------------------\u001b[0m",
      "\u001b[1;31mTypeError\u001b[0m                                 Traceback (most recent call last)",
      "\u001b[1;32md:\\python\\class1(hello world)\\class7(dictionary).ipynb Cell 5\u001b[0m line \u001b[0;36m7\n\u001b[0;32m      <a href='vscode-notebook-cell:/d%3A/python/class1%28hello%20world%29/class7%28dictionary%29.ipynb#W6sZmlsZQ%3D%3D?line=4'>5</a>\u001b[0m value \u001b[39m=\u001b[39m Union[\u001b[39mint\u001b[39m,\u001b[39mstr\u001b[39m,\u001b[39mlist\u001b[39m,\u001b[39mdict\u001b[39m,\u001b[39mtuple\u001b[39m,\u001b[39mset\u001b[39m]\n\u001b[0;32m      <a href='vscode-notebook-cell:/d%3A/python/class1%28hello%20world%29/class7%28dictionary%29.ipynb#W6sZmlsZQ%3D%3D?line=5'>6</a>\u001b[0m \u001b[39m# List\u001b[39;00m\n\u001b[1;32m----> <a href='vscode-notebook-cell:/d%3A/python/class1%28hello%20world%29/class7%28dictionary%29.ipynb#W6sZmlsZQ%3D%3D?line=6'>7</a>\u001b[0m data : Dict[key,value] \u001b[39m=\u001b[39m {\n\u001b[0;32m      <a href='vscode-notebook-cell:/d%3A/python/class1%28hello%20world%29/class7%28dictionary%29.ipynb#W6sZmlsZQ%3D%3D?line=7'>8</a>\u001b[0m                         \u001b[39m\"\u001b[39m\u001b[39mfname\u001b[39m\u001b[39m\"\u001b[39m:\u001b[39m\"\u001b[39m\u001b[39mMuhammad Adeel\u001b[39m\u001b[39m\"\u001b[39m,\n\u001b[0;32m      <a href='vscode-notebook-cell:/d%3A/python/class1%28hello%20world%29/class7%28dictionary%29.ipynb#W6sZmlsZQ%3D%3D?line=8'>9</a>\u001b[0m                         \u001b[39m\"\u001b[39m\u001b[39mname\u001b[39m\u001b[39m\"\u001b[39m:\u001b[39m\"\u001b[39m\u001b[39mKhalid\u001b[39m\u001b[39m\"\u001b[39m,\n\u001b[0;32m     <a href='vscode-notebook-cell:/d%3A/python/class1%28hello%20world%29/class7%28dictionary%29.ipynb#W6sZmlsZQ%3D%3D?line=9'>10</a>\u001b[0m                         \u001b[39m\"\u001b[39m\u001b[39meducation\u001b[39m\u001b[39m\"\u001b[39m:\u001b[39m\"\u001b[39m\u001b[39mMBA\u001b[39m\u001b[39m\"\u001b[39m,\n\u001b[0;32m     <a href='vscode-notebook-cell:/d%3A/python/class1%28hello%20world%29/class7%28dictionary%29.ipynb#W6sZmlsZQ%3D%3D?line=10'>11</a>\u001b[0m                         \u001b[39m# [100,200,300] : \"pakistan\" # list apply krn gy to error de ga\u001b[39;00m\n\u001b[0;32m     <a href='vscode-notebook-cell:/d%3A/python/class1%28hello%20world%29/class7%28dictionary%29.ipynb#W6sZmlsZQ%3D%3D?line=11'>12</a>\u001b[0m                         \u001b[39m# (100,200,300) : \"pakistan\" # tuple apply krn gy to error de \u001b[39;00m\n\u001b[0;32m     <a href='vscode-notebook-cell:/d%3A/python/class1%28hello%20world%29/class7%28dictionary%29.ipynb#W6sZmlsZQ%3D%3D?line=12'>13</a>\u001b[0m                         {\u001b[39m100\u001b[39m,\u001b[39m200\u001b[39m,\u001b[39m300\u001b[39m} : \u001b[39m\"\u001b[39m\u001b[39mpakistan\u001b[39m\u001b[39m\"\u001b[39m\n\u001b[0;32m     <a href='vscode-notebook-cell:/d%3A/python/class1%28hello%20world%29/class7%28dictionary%29.ipynb#W6sZmlsZQ%3D%3D?line=13'>14</a>\u001b[0m                         }\n\u001b[0;32m     <a href='vscode-notebook-cell:/d%3A/python/class1%28hello%20world%29/class7%28dictionary%29.ipynb#W6sZmlsZQ%3D%3D?line=15'>16</a>\u001b[0m pprint\u001b[39m.\u001b[39mpprint(data)\n\u001b[0;32m     <a href='vscode-notebook-cell:/d%3A/python/class1%28hello%20world%29/class7%28dictionary%29.ipynb#W6sZmlsZQ%3D%3D?line=16'>17</a>\u001b[0m \u001b[39mprint\u001b[39m(data[\u001b[39m\"\u001b[39m\u001b[39mfname\u001b[39m\u001b[39m\"\u001b[39m])\n",
      "\u001b[1;31mTypeError\u001b[0m: unhashable type: 'set'"
     ]
    }
   ],
   "source": [
    "from typing import Dict, Union,Optional\n",
    "import pprint\n",
    "\n",
    "key = Union[int,str] # create custom type\n",
    "value = Union[int,str,list,dict,tuple,set]\n",
    "# List\n",
    "data : Dict[key,value] = {\n",
    "                        \"fname\":\"Muhammad Adeel\",\n",
    "                        \"name\":\"Khalid\",\n",
    "                        \"education\":\"MBA\",\n",
    "                        # [100,200,300] : \"pakistan\" # list apply krn gy to error de ga\n",
    "                        # (100,200,300) : \"pakistan\" # tuple apply krn gy to error de \n",
    "                        # {100,200,300} : \"pakistan\" # error\n",
    "                        }\n",
    "\n",
    "pprint.pprint(data)\n",
    "print(data[\"fname\"])\n",
    "print(data['name'])\n",
    "print(data['education'])\n",
    "print(data[100])"
   ]
  },
  {
   "cell_type": "code",
   "execution_count": null,
   "metadata": {},
   "outputs": [],
   "source": []
  },
  {
   "cell_type": "code",
   "execution_count": 27,
   "metadata": {},
   "outputs": [
    {
     "name": "stdout",
     "output_type": "stream",
     "text": [
      "{'abc': [1, 2, 3],\n",
      " 'cde': {'a': 1, 'b': 2},\n",
      " 'education': 'MBA',\n",
      " 'efc': {1, 2, 3},\n",
      " 'fname': 'Muhammad Adeel',\n",
      " 'name': 'Khalid',\n",
      " 'xyz': {1, 2, 3}}\n",
      "Muhammad Adeel\n",
      "Khalid\n",
      "{1, 2, 3}\n",
      "MBA\n",
      "2\n"
     ]
    }
   ],
   "source": [
    "from typing import Dict, Union,Optional\n",
    "import pprint\n",
    "\n",
    "key = Union[int,str] # create custom type\n",
    "value = Union[int,str,list,dict,tuple,set]\n",
    "# List\n",
    "data : Dict[key,value] = {\n",
    "                        \"fname\":\"Muhammad Adeel\",\n",
    "                        \"name\":\"Khalid\",\n",
    "                        \"education\":\"MBA\",\n",
    "                        \"abc\" : [1,2,3], # value list\n",
    "                        \"xyz\" : {1,2,3}, # set\n",
    "                        \"efc\" : {1,2,3}, # tuple\n",
    "                        \"cde\" : {\"a\":1,\"b\":2}, # Dictionary\n",
    "                        }\n",
    "\n",
    "pprint.pprint(data)\n",
    "print(data[\"fname\"])\n",
    "print(data['name'])\n",
    "print(data['xyz'])\n",
    "print(data['education'])\n",
    "print(data['cde']['b']) # nested value abstract\n"
   ]
  },
  {
   "cell_type": "code",
   "execution_count": 29,
   "metadata": {},
   "outputs": [
    {
     "name": "stdout",
     "output_type": "stream",
     "text": [
      "{'name': 'Muhammad Adeel', 'fname': 'Khalid', 'education': 'MBA'}\n"
     ]
    }
   ],
   "source": [
    "from typing import Dict, Union,Optional\n",
    "import pprint\n",
    "\n",
    "key = Union[int,str] # create custom type\n",
    "value = Union[int,str,list,dict,tuple,set]\n",
    "\n",
    "data : dict[key,value] = {} # dictionary khali h or as mai key or value add kr skte hai\n",
    "data['name'] = \"Muhammad Adeel\"\n",
    "data['fname'] = \"Khalid\"\n",
    "data['education'] = \"MBA\"\n",
    "\n",
    "print(data)\n"
   ]
  },
  {
   "cell_type": "code",
   "execution_count": 30,
   "metadata": {},
   "outputs": [
    {
     "name": "stdout",
     "output_type": "stream",
     "text": [
      "{'education': 'MBA', 'fname': 'Muhammad Adeel', 'name': 'Khalid'}\n",
      "{'fname': 'Muhammad Adeel', 'name': 'M.Khalid', 'education': 'MBA'}\n"
     ]
    }
   ],
   "source": [
    "from typing import Dict, Union,Optional\n",
    "import pprint\n",
    "\n",
    "key = Union[int,str] # create custom type\n",
    "value = Union[int,str,list,dict,tuple,set]\n",
    "# List\n",
    "data : Dict[key,value] = {\n",
    "                        \"fname\":\"Muhammad Adeel\",\n",
    "                        \"name\":\"Khalid\",\n",
    "                        \"education\":\"MBA\",\n",
    "                        }\n",
    "\n",
    "pprint.pprint(data)\n",
    "\n",
    "data['name'] = \"M.Khalid\" # update theh value\n",
    "print(data)\n",
    "\n",
    "\n"
   ]
  },
  {
   "cell_type": "code",
   "execution_count": 35,
   "metadata": {},
   "outputs": [
    {
     "name": "stdout",
     "output_type": "stream",
     "text": [
      "NA\n",
      "Khalid\n"
     ]
    },
    {
     "data": {
      "text/plain": [
       "['clear',\n",
       " 'copy',\n",
       " 'fromkeys',\n",
       " 'get',\n",
       " 'items',\n",
       " 'keys',\n",
       " 'pop',\n",
       " 'popitem',\n",
       " 'setdefault',\n",
       " 'update',\n",
       " 'values']"
      ]
     },
     "execution_count": 35,
     "metadata": {},
     "output_type": "execute_result"
    }
   ],
   "source": [
    "from typing import Dict, Union,Optional\n",
    "import pprint\n",
    "\n",
    "key = Union[int,str] # create custom type\n",
    "value = Union[int,str,list,dict,tuple,set]\n",
    "# List\n",
    "data : Dict[key,value] = {\n",
    "                        \"fname\":\"Muhammad Adeel\",\n",
    "                        \"name\":\"Khalid\",\n",
    "                        \"education\":\"MBA\",\n",
    "                        }\n",
    "print(data.get('pakistan',\"NA\")) # agr key ni h to NA dekhae ha(.get() k function use)\n",
    "print(data.get('name',\"NA\")) # agr key h to key show kre ga(.get() k function use)\n",
    "\n",
    "[i for i in dir(data) if \"__\" not in i]"
   ]
  },
  {
   "cell_type": "code",
   "execution_count": 36,
   "metadata": {},
   "outputs": [
    {
     "name": "stdout",
     "output_type": "stream",
     "text": [
      "fname\n",
      "name\n",
      "education\n"
     ]
    }
   ],
   "source": [
    "from typing import Dict, Union,Optional\n",
    "import pprint\n",
    "\n",
    "key = Union[int,str] # create custom type\n",
    "value = Union[int,str,list,dict,tuple,set]\n",
    "# List\n",
    "data : Dict[key,value] = {\n",
    "                        \"fname\":\"Muhammad Adeel\",\n",
    "                        \"name\":\"Khalid\",\n",
    "                        \"education\":\"MBA\",\n",
    "                        }\n",
    "for d in data:\n",
    "    print(d) # keys\n",
    "\n",
    "# [i for i in dir(data) if \"__\" not in i]"
   ]
  },
  {
   "cell_type": "code",
   "execution_count": 42,
   "metadata": {},
   "outputs": [
    {
     "name": "stdout",
     "output_type": "stream",
     "text": [
      "dict_keys(['fname', 'name', 'education'])\n",
      "dict_values(['Muhammad Adeel', 'Khalid', 'MBA'])\n",
      "dict_items([('fname', 'Muhammad Adeel'), ('name', 'Khalid'), ('education', 'MBA')])\n",
      "fname Muhammad Adeel\n",
      "name Khalid\n",
      "education MBA\n"
     ]
    }
   ],
   "source": [
    "from typing import Dict, Union,Optional\n",
    "import pprint\n",
    "\n",
    "key = Union[int,str] # create custom type\n",
    "value = Union[int,str,list,dict,tuple,set]\n",
    "# List\n",
    "data : Dict[key,value] = {\n",
    "                        \"fname\":\"Muhammad Adeel\",\n",
    "                        \"name\":\"Khalid\",\n",
    "                        \"education\":\"MBA\",\n",
    "                        }\n",
    "print(data.keys()) # keys\n",
    "print(data.values()) # values\n",
    "print(data.items()) # list of tuple de rha h\n",
    "\n",
    "for k in data.keys():\n",
    "    print(k,data[k])\n",
    "\n",
    "# [i for i in dir(data) if \"__\" not in i]"
   ]
  },
  {
   "cell_type": "code",
   "execution_count": 43,
   "metadata": {},
   "outputs": [
    {
     "name": "stdout",
     "output_type": "stream",
     "text": [
      "dict_keys(['fname', 'name', 'education'])\n",
      "dict_values(['Muhammad Adeel', 'Khalid', 'MBA'])\n",
      "dict_items([('fname', 'Muhammad Adeel'), ('name', 'Khalid'), ('education', 'MBA')])\n",
      "Muhammad Adeel\n",
      "Khalid\n",
      "MBA\n"
     ]
    }
   ],
   "source": [
    "from typing import Dict, Union,Optional\n",
    "import pprint\n",
    "\n",
    "key = Union[int,str] # create custom type\n",
    "value = Union[int,str,list,dict,tuple,set]\n",
    "# List\n",
    "data : Dict[key,value] = {\n",
    "                        \"fname\":\"Muhammad Adeel\",\n",
    "                        \"name\":\"Khalid\",\n",
    "                        \"education\":\"MBA\",\n",
    "                        }\n",
    "print(data.keys()) # keys\n",
    "print(data.values()) # values\n",
    "print(data.items()) # list of tuple de rha h\n",
    "\n",
    "for v in data.values():\n",
    "    print(v)\n",
    "\n",
    "# [i for i in dir(data) if \"__\" not in i]"
   ]
  },
  {
   "cell_type": "code",
   "execution_count": 45,
   "metadata": {},
   "outputs": [
    {
     "name": "stdout",
     "output_type": "stream",
     "text": [
      "dict_keys(['fname', 'name', 'education'])\n",
      "dict_values(['Muhammad Adeel', 'Khalid', 'MBA'])\n",
      "dict_items([('fname', 'Muhammad Adeel'), ('name', 'Khalid'), ('education', 'MBA')])\n",
      "fname Muhammad Adeel\n",
      "name Khalid\n",
      "education MBA\n"
     ]
    }
   ],
   "source": [
    "from typing import Dict, Union,Optional\n",
    "import pprint\n",
    "\n",
    "key = Union[int,str] # create custom type\n",
    "value = Union[int,str,list,dict,tuple,set]\n",
    "# List\n",
    "data : Dict[key,value] = {\n",
    "                        \"fname\":\"Muhammad Adeel\",\n",
    "                        \"name\":\"Khalid\",\n",
    "                        \"education\":\"MBA\",\n",
    "                        }\n",
    "print(data.keys()) # keys\n",
    "print(data.values()) # values\n",
    "print(data.items()) # list of tuple de rha h\n",
    "\n",
    "for k,v in data.items():  # key or value combine show krne k liye\n",
    "    print(k,v)\n"
   ]
  },
  {
   "cell_type": "code",
   "execution_count": 48,
   "metadata": {},
   "outputs": [
    {
     "data": {
      "text/plain": [
       "{'Muhammad Adeel': 'fname', 'Khalid': 'name', 'MBA': 'education'}"
      ]
     },
     "execution_count": 48,
     "metadata": {},
     "output_type": "execute_result"
    }
   ],
   "source": [
    "{k:v for k,v in data.items()} # comprehansice style"
   ]
  },
  {
   "cell_type": "code",
   "execution_count": 50,
   "metadata": {},
   "outputs": [
    {
     "name": "stdout",
     "output_type": "stream",
     "text": [
      "{}\n"
     ]
    },
    {
     "data": {
      "text/plain": [
       "{'id': None, 'name': None, 'fname': None, 'course': None}"
      ]
     },
     "execution_count": 50,
     "metadata": {},
     "output_type": "execute_result"
    }
   ],
   "source": [
    "keys : list[str] = ['id','name','fname','course']\n",
    "\n",
    "data : dict[key,value] = {}\n",
    "\n",
    "print(data)\n",
    "data.fromkeys(keys)"
   ]
  },
  {
   "cell_type": "code",
   "execution_count": 1,
   "metadata": {},
   "outputs": [
    {
     "name": "stdout",
     "output_type": "stream",
     "text": [
      "9 7\n"
     ]
    }
   ],
   "source": [
    "a : int = 7\n",
    "b : int = 9\n",
    "a, b = b, a # shuffle\n",
    "print(a,b)"
   ]
  }
 ],
 "metadata": {
  "kernelspec": {
   "display_name": "python12",
   "language": "python",
   "name": "python3"
  },
  "language_info": {
   "codemirror_mode": {
    "name": "ipython",
    "version": 3
   },
   "file_extension": ".py",
   "mimetype": "text/x-python",
   "name": "python",
   "nbconvert_exporter": "python",
   "pygments_lexer": "ipython3",
   "version": "3.12.0"
  }
 },
 "nbformat": 4,
 "nbformat_minor": 2
}
