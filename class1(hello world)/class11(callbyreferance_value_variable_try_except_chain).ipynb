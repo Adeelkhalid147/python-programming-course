{
 "cells": [
  {
   "cell_type": "code",
   "execution_count": 1,
   "metadata": {},
   "outputs": [
    {
     "name": "stdout",
     "output_type": "stream",
     "text": [
      "list_b [1, 2, 3, 4]\n"
     ]
    }
   ],
   "source": [
    "# changes list_a mai k hai butt b mai b ho gye hai\n",
    "list_a : list[int] = [1,2,3]  # 4\n",
    "list_b = list_a\n",
    "list_a.append(4)\n",
    "print(\"list_b\",list_b) "
   ]
  },
  {
   "cell_type": "code",
   "execution_count": 2,
   "metadata": {},
   "outputs": [
    {
     "name": "stdout",
     "output_type": "stream",
     "text": [
      "num_b:  5\n"
     ]
    }
   ],
   "source": [
    "num_a : int = 5\n",
    "num_b = num_a\n",
    "num_a += 1\n",
    "print(\"num_b: \", num_b)"
   ]
  },
  {
   "cell_type": "markdown",
   "metadata": {},
   "source": [
    "# Addressing changes without function calls"
   ]
  },
  {
   "cell_type": "code",
   "execution_count": 3,
   "metadata": {},
   "outputs": [
    {
     "name": "stdout",
     "output_type": "stream",
     "text": [
      "Brfore modification 10 140716643338968\n",
      "After modification 11 140716643339000\n"
     ]
    }
   ],
   "source": [
    "x= 10\n",
    "print(\"Brfore modification\", x, id(x))\n",
    "x += 1\n",
    "print(\"After modification\", x, id(x))\n"
   ]
  },
  {
   "cell_type": "code",
   "execution_count": 1,
   "metadata": {},
   "outputs": [
    {
     "name": "stdout",
     "output_type": "stream",
     "text": [
      "num1 value is 6\n",
      "5\n"
     ]
    }
   ],
   "source": [
    "# pass by value imutable\n",
    "a : int = 5\n",
    "def abc(num1:int)->None:\n",
    "    num1=6 # copy\n",
    "    print(f\"num1 value is {num1}\")\n",
    "\n",
    "abc(a)\n",
    "\n",
    "print(a)"
   ]
  },
  {
   "cell_type": "code",
   "execution_count": 2,
   "metadata": {},
   "outputs": [
    {
     "name": "stdout",
     "output_type": "stream",
     "text": [
      "num1 value is [1, 2, 3, 4, 200]\n",
      "[1, 2, 3, 4, 200]\n"
     ]
    }
   ],
   "source": [
    "# pass by referace its change able\n",
    "\n",
    "a : list[int] = [1,2,3,4]\n",
    "\n",
    "def abc(num1:list[int])->None:\n",
    "    num1.append(200) # added one more value\n",
    "    print(f\"num1 value is {num1}\")\n",
    "\n",
    "abc(a) # pass by referace\n",
    "\n",
    "print(a)"
   ]
  },
  {
   "cell_type": "code",
   "execution_count": 3,
   "metadata": {},
   "outputs": [
    {
     "name": "stdout",
     "output_type": "stream",
     "text": [
      "num1 value is [7, 200]\n",
      "[1, 2, 3, 4]\n"
     ]
    }
   ],
   "source": [
    "# list k andr k value change ho skti hai ase krne se id mai koi fark ni ae ga likn jse he hm equal to ka sign lg k value likhn gy as ka mtl ho ga k new object dia h a sexample mai bhr wala wse he rhe ga hm ne new assign kiya h function mai to function wala change ho ga\n",
    "\n",
    "a : list[int] = [1,2,3,4]\n",
    "\n",
    "def abc(num1:list[int])->None:\n",
    "    num1 =[7] # reassign list variable -> create new object q k is equal to k agy new value likhi h\n",
    "    num1.append(200) # added one more value\n",
    "    print(f\"num1 value is {num1}\")\n",
    "\n",
    "abc(a)\n",
    "\n",
    "print(a)"
   ]
  },
  {
   "cell_type": "code",
   "execution_count": 5,
   "metadata": {},
   "outputs": [
    {
     "name": "stdout",
     "output_type": "stream",
     "text": [
      "First Assignment of variable a value is 140717650823736\n",
      "\tvalue of start of function 5 address 140717650823736\n",
      "\tnum1 value end of function 6 address 140717650823768\n",
      "\tEnd of program\n",
      "End of program variable value is 5 address of a 140717650823736\n"
     ]
    }
   ],
   "source": [
    "a : int = 5\n",
    "print(f\"First Assignment of variable a value is {id(a)}\")\n",
    "def abc(num1:int)->None:\n",
    "    print(f\"\\tvalue of start of function {num1} address {id(num1)}\")\n",
    "    num1 = 6 # copy\n",
    "    print(f\"\\tnum1 value end of function {num1} address {id(num1)}\")\n",
    "    print(\"\\tEnd of program\")\n",
    "\n",
    "abc(a)\n",
    "\n",
    "print(f\"End of program variable value is {a} address of a {id(a)}\")"
   ]
  },
  {
   "cell_type": "markdown",
   "metadata": {},
   "source": [
    "# Run time error"
   ]
  },
  {
   "cell_type": "code",
   "execution_count": 6,
   "metadata": {},
   "outputs": [
    {
     "name": "stdout",
     "output_type": "stream",
     "text": [
      "5.0\n"
     ]
    }
   ],
   "source": [
    "a : int = int(input(\"Enter number1 \\t\"))\n",
    "b : int = int(input(\"Enter number2 \\t\"))\n",
    "\n",
    "print(a / b)\n"
   ]
  },
  {
   "cell_type": "code",
   "execution_count": 7,
   "metadata": {},
   "outputs": [
    {
     "ename": "ZeroDivisionError",
     "evalue": "division by zero",
     "output_type": "error",
     "traceback": [
      "\u001b[1;31m---------------------------------------------------------------------------\u001b[0m",
      "\u001b[1;31mZeroDivisionError\u001b[0m                         Traceback (most recent call last)",
      "\u001b[1;32md:\\python\\class1(hello world)\\class11(callbyreferance_value_variable_try_except_chain).ipynb Cell 11\u001b[0m line \u001b[0;36m4\n\u001b[0;32m      <a href='vscode-notebook-cell:/d%3A/python/class1%28hello%20world%29/class11%28callbyreferance_value_variable_try_except_chain%29.ipynb#X15sZmlsZQ%3D%3D?line=0'>1</a>\u001b[0m a : \u001b[39mint\u001b[39m \u001b[39m=\u001b[39m \u001b[39mint\u001b[39m(\u001b[39minput\u001b[39m(\u001b[39m\"\u001b[39m\u001b[39mEnter number1 \u001b[39m\u001b[39m\\t\u001b[39;00m\u001b[39m\"\u001b[39m))\n\u001b[0;32m      <a href='vscode-notebook-cell:/d%3A/python/class1%28hello%20world%29/class11%28callbyreferance_value_variable_try_except_chain%29.ipynb#X15sZmlsZQ%3D%3D?line=1'>2</a>\u001b[0m b : \u001b[39mint\u001b[39m \u001b[39m=\u001b[39m \u001b[39mint\u001b[39m(\u001b[39minput\u001b[39m(\u001b[39m\"\u001b[39m\u001b[39mEnter number2 \u001b[39m\u001b[39m\\t\u001b[39;00m\u001b[39m\"\u001b[39m))\n\u001b[1;32m----> <a href='vscode-notebook-cell:/d%3A/python/class1%28hello%20world%29/class11%28callbyreferance_value_variable_try_except_chain%29.ipynb#X15sZmlsZQ%3D%3D?line=3'>4</a>\u001b[0m \u001b[39mprint\u001b[39m(a\u001b[39m/\u001b[39;49mb)\n",
      "\u001b[1;31mZeroDivisionError\u001b[0m: division by zero"
     ]
    }
   ],
   "source": [
    "# agr user ksi b value ko 0 se devide krwae ga to ZeroDivisionError ae ga jo k user k galti h na k programer k\n",
    "\n",
    "a : int = int(input(\"Enter number1 \\t\"))\n",
    "b : int = int(input(\"Enter number2 \\t\"))\n",
    "\n",
    "print(a / b)\n"
   ]
  },
  {
   "cell_type": "code",
   "execution_count": 10,
   "metadata": {},
   "outputs": [
    {
     "ename": "IndexError",
     "evalue": "list index out of range",
     "output_type": "error",
     "traceback": [
      "\u001b[1;31m---------------------------------------------------------------------------\u001b[0m",
      "\u001b[1;31mIndexError\u001b[0m                                Traceback (most recent call last)",
      "\u001b[1;32md:\\python\\class1(hello world)\\class11(callbyreferance_value_variable_try_except_chain).ipynb Cell 12\u001b[0m line \u001b[0;36m3\n\u001b[0;32m      <a href='vscode-notebook-cell:/d%3A/python/class1%28hello%20world%29/class11%28callbyreferance_value_variable_try_except_chain%29.ipynb#X16sZmlsZQ%3D%3D?line=0'>1</a>\u001b[0m name : \u001b[39mlist\u001b[39m[\u001b[39mstr\u001b[39m] \u001b[39m=\u001b[39m [\u001b[39m'\u001b[39m\u001b[39msir zia\u001b[39m\u001b[39m'\u001b[39m,\u001b[39m'\u001b[39m\u001b[39msir inam\u001b[39m\u001b[39m'\u001b[39m,\u001b[39m'\u001b[39m\u001b[39mMuhammad qasim\u001b[39m\u001b[39m'\u001b[39m]\n\u001b[0;32m      <a href='vscode-notebook-cell:/d%3A/python/class1%28hello%20world%29/class11%28callbyreferance_value_variable_try_except_chain%29.ipynb#X16sZmlsZQ%3D%3D?line=1'>2</a>\u001b[0m indx : \u001b[39mint\u001b[39m \u001b[39m=\u001b[39m \u001b[39mint\u001b[39m(\u001b[39minput\u001b[39m(\u001b[39m\"\u001b[39m\u001b[39mEnter indexnumber:\u001b[39m\u001b[39m\\t\u001b[39;00m\u001b[39m\"\u001b[39m))\n\u001b[1;32m----> <a href='vscode-notebook-cell:/d%3A/python/class1%28hello%20world%29/class11%28callbyreferance_value_variable_try_except_chain%29.ipynb#X16sZmlsZQ%3D%3D?line=2'>3</a>\u001b[0m \u001b[39mprint\u001b[39m(name[indx])\n",
      "\u001b[1;31mIndexError\u001b[0m: list index out of range"
     ]
    }
   ],
   "source": [
    "# agr user koi wo value deta h jo k variable mai h he ni to IndexError ae ga jo k user k galti h na k programer k\n",
    "\n",
    "name : list[str] = ['sir zia','sir inam','Muhammad qasim']\n",
    "indx : int = int(input(\"Enter indexnumber:\\t\"))\n",
    "print(name[indx])"
   ]
  },
  {
   "cell_type": "code",
   "execution_count": 13,
   "metadata": {},
   "outputs": [
    {
     "ename": "TypeError",
     "evalue": "'tuple' object does not support item assignment",
     "output_type": "error",
     "traceback": [
      "\u001b[1;31m---------------------------------------------------------------------------\u001b[0m",
      "\u001b[1;31mTypeError\u001b[0m                                 Traceback (most recent call last)",
      "\u001b[1;32md:\\python\\class1(hello world)\\class11(callbyreferance_value_variable_try_except_chain).ipynb Cell 13\u001b[0m line \u001b[0;36m3\n\u001b[0;32m      <a href='vscode-notebook-cell:/d%3A/python/class1%28hello%20world%29/class11%28callbyreferance_value_variable_try_except_chain%29.ipynb#X20sZmlsZQ%3D%3D?line=0'>1</a>\u001b[0m \u001b[39m# TypeError  \u001b[39;00m\n\u001b[0;32m      <a href='vscode-notebook-cell:/d%3A/python/class1%28hello%20world%29/class11%28callbyreferance_value_variable_try_except_chain%29.ipynb#X20sZmlsZQ%3D%3D?line=1'>2</a>\u001b[0m data : \u001b[39mtuple\u001b[39m[\u001b[39mint\u001b[39m,\u001b[39mint\u001b[39m,\u001b[39mint\u001b[39m] \u001b[39m=\u001b[39m (\u001b[39m1\u001b[39m,\u001b[39m2\u001b[39m,\u001b[39m3\u001b[39m)\n\u001b[1;32m----> <a href='vscode-notebook-cell:/d%3A/python/class1%28hello%20world%29/class11%28callbyreferance_value_variable_try_except_chain%29.ipynb#X20sZmlsZQ%3D%3D?line=2'>3</a>\u001b[0m data[\u001b[39m0\u001b[39;49m] \u001b[39m=\u001b[39m \u001b[39m2000\u001b[39m\n\u001b[0;32m      <a href='vscode-notebook-cell:/d%3A/python/class1%28hello%20world%29/class11%28callbyreferance_value_variable_try_except_chain%29.ipynb#X20sZmlsZQ%3D%3D?line=4'>5</a>\u001b[0m \u001b[39m# 2nd example\u001b[39;00m\n\u001b[0;32m      <a href='vscode-notebook-cell:/d%3A/python/class1%28hello%20world%29/class11%28callbyreferance_value_variable_try_except_chain%29.ipynb#X20sZmlsZQ%3D%3D?line=5'>6</a>\u001b[0m \u001b[39m'\u001b[39m\u001b[39m2\u001b[39m\u001b[39m'\u001b[39m \u001b[39m+\u001b[39m \u001b[39m2\u001b[39m\n",
      "\u001b[1;31mTypeError\u001b[0m: 'tuple' object does not support item assignment"
     ]
    }
   ],
   "source": [
    "\n",
    "# TypeError  \n",
    "data : tuple[int,int,int] = (1,2,3)\n",
    "data[0] = 2000\n",
    "\n",
    "# 2nd example\n",
    "'2' + 2"
   ]
  },
  {
   "cell_type": "code",
   "execution_count": 14,
   "metadata": {},
   "outputs": [
    {
     "ename": "KeyError",
     "evalue": "'father name'",
     "output_type": "error",
     "traceback": [
      "\u001b[1;31m---------------------------------------------------------------------------\u001b[0m",
      "\u001b[1;31mKeyError\u001b[0m                                  Traceback (most recent call last)",
      "\u001b[1;32md:\\python\\class1(hello world)\\class11(callbyreferance_value_variable_try_except_chain).ipynb Cell 14\u001b[0m line \u001b[0;36m6\n\u001b[0;32m      <a href='vscode-notebook-cell:/d%3A/python/class1%28hello%20world%29/class11%28callbyreferance_value_variable_try_except_chain%29.ipynb#X21sZmlsZQ%3D%3D?line=0'>1</a>\u001b[0m data : \u001b[39mdict\u001b[39m[\u001b[39mstr\u001b[39m,\u001b[39mstr\u001b[39m] \u001b[39m=\u001b[39m {\n\u001b[0;32m      <a href='vscode-notebook-cell:/d%3A/python/class1%28hello%20world%29/class11%28callbyreferance_value_variable_try_except_chain%29.ipynb#X21sZmlsZQ%3D%3D?line=1'>2</a>\u001b[0m     \u001b[39m\"\u001b[39m\u001b[39mname\u001b[39m\u001b[39m\"\u001b[39m : \u001b[39m\"\u001b[39m\u001b[39mMuhammad Qasim\u001b[39m\u001b[39m\"\u001b[39m,\n\u001b[0;32m      <a href='vscode-notebook-cell:/d%3A/python/class1%28hello%20world%29/class11%28callbyreferance_value_variable_try_except_chain%29.ipynb#X21sZmlsZQ%3D%3D?line=2'>3</a>\u001b[0m     \u001b[39m\"\u001b[39m\u001b[39meducation\u001b[39m\u001b[39m\"\u001b[39m : \u001b[39m\"\u001b[39m\u001b[39mMSDS\u001b[39m\u001b[39m\"\u001b[39m\n\u001b[0;32m      <a href='vscode-notebook-cell:/d%3A/python/class1%28hello%20world%29/class11%28callbyreferance_value_variable_try_except_chain%29.ipynb#X21sZmlsZQ%3D%3D?line=3'>4</a>\u001b[0m }\n\u001b[1;32m----> <a href='vscode-notebook-cell:/d%3A/python/class1%28hello%20world%29/class11%28callbyreferance_value_variable_try_except_chain%29.ipynb#X21sZmlsZQ%3D%3D?line=5'>6</a>\u001b[0m data[\u001b[39m'\u001b[39;49m\u001b[39mfather name\u001b[39;49m\u001b[39m'\u001b[39;49m]\n",
      "\u001b[1;31mKeyError\u001b[0m: 'father name'"
     ]
    }
   ],
   "source": [
    "# KeyError tb ati h jb dictionary mai key ho gey na jis ko change kia ja rha h \n",
    "data : dict[str,str] = {\n",
    "    \"name\" : \"Muhammad Qasim\",\n",
    "    \"education\" : \"MSDS\"\n",
    "}\n",
    "\n",
    "data['father name']"
   ]
  },
  {
   "cell_type": "code",
   "execution_count": 15,
   "metadata": {},
   "outputs": [
    {
     "ename": "FileNotFoundError",
     "evalue": "[Errno 2] No such file or directory: 'abc.txt'",
     "output_type": "error",
     "traceback": [
      "\u001b[1;31m---------------------------------------------------------------------------\u001b[0m",
      "\u001b[1;31mFileNotFoundError\u001b[0m                         Traceback (most recent call last)",
      "\u001b[1;32md:\\python\\class1(hello world)\\class11(callbyreferance_value_variable_try_except_chain).ipynb Cell 15\u001b[0m line \u001b[0;36m2\n\u001b[0;32m      <a href='vscode-notebook-cell:/d%3A/python/class1%28hello%20world%29/class11%28callbyreferance_value_variable_try_except_chain%29.ipynb#X22sZmlsZQ%3D%3D?line=0'>1</a>\u001b[0m \u001b[39m# as mai keh rhe hai k ye wali file kholo or ye file h he ni to error ae ga or ye user k galti h\u001b[39;00m\n\u001b[1;32m----> <a href='vscode-notebook-cell:/d%3A/python/class1%28hello%20world%29/class11%28callbyreferance_value_variable_try_except_chain%29.ipynb#X22sZmlsZQ%3D%3D?line=1'>2</a>\u001b[0m \u001b[39mopen\u001b[39;49m(\u001b[39m\"\u001b[39;49m\u001b[39mabc.txt\u001b[39;49m\u001b[39m\"\u001b[39;49m)\n",
      "File \u001b[1;32mc:\\Users\\adeel\\.conda\\envs\\python12\\Lib\\site-packages\\IPython\\core\\interactiveshell.py:286\u001b[0m, in \u001b[0;36m_modified_open\u001b[1;34m(file, *args, **kwargs)\u001b[0m\n\u001b[0;32m    279\u001b[0m \u001b[39mif\u001b[39;00m file \u001b[39min\u001b[39;00m {\u001b[39m0\u001b[39m, \u001b[39m1\u001b[39m, \u001b[39m2\u001b[39m}:\n\u001b[0;32m    280\u001b[0m     \u001b[39mraise\u001b[39;00m \u001b[39mValueError\u001b[39;00m(\n\u001b[0;32m    281\u001b[0m         \u001b[39mf\u001b[39m\u001b[39m\"\u001b[39m\u001b[39mIPython won\u001b[39m\u001b[39m'\u001b[39m\u001b[39mt let you open fd=\u001b[39m\u001b[39m{\u001b[39;00mfile\u001b[39m}\u001b[39;00m\u001b[39m by default \u001b[39m\u001b[39m\"\u001b[39m\n\u001b[0;32m    282\u001b[0m         \u001b[39m\"\u001b[39m\u001b[39mas it is likely to crash IPython. If you know what you are doing, \u001b[39m\u001b[39m\"\u001b[39m\n\u001b[0;32m    283\u001b[0m         \u001b[39m\"\u001b[39m\u001b[39myou can use builtins\u001b[39m\u001b[39m'\u001b[39m\u001b[39m open.\u001b[39m\u001b[39m\"\u001b[39m\n\u001b[0;32m    284\u001b[0m     )\n\u001b[1;32m--> 286\u001b[0m \u001b[39mreturn\u001b[39;00m io_open(file, \u001b[39m*\u001b[39;49margs, \u001b[39m*\u001b[39;49m\u001b[39m*\u001b[39;49mkwargs)\n",
      "\u001b[1;31mFileNotFoundError\u001b[0m: [Errno 2] No such file or directory: 'abc.txt'"
     ]
    }
   ],
   "source": [
    "# FileNotFoundError as mai keh rhe hai k ye wali file kholo or ye file h he ni to error ae ga or ye user k galti h\n",
    "open(\"abc.txt\")"
   ]
  },
  {
   "cell_type": "markdown",
   "metadata": {},
   "source": [
    "# Handle Run time error\n",
    "\n",
    "```\n",
    "try:\n",
    "    logic \n",
    "except (Error_class1, Error_class2)\n",
    "    if error accured then run this block\n",
    "else:\n",
    "    if error not accured\n",
    "finally:\n",
    "    always run\n",
    "```"
   ]
  },
  {
   "cell_type": "code",
   "execution_count": 16,
   "metadata": {},
   "outputs": [
    {
     "name": "stdout",
     "output_type": "stream",
     "text": [
      "logic1\n",
      "logic2\n"
     ]
    },
    {
     "ename": "ZeroDivisionError",
     "evalue": "division by zero",
     "output_type": "error",
     "traceback": [
      "\u001b[1;31m---------------------------------------------------------------------------\u001b[0m",
      "\u001b[1;31mZeroDivisionError\u001b[0m                         Traceback (most recent call last)",
      "\u001b[1;32md:\\python\\class1(hello world)\\class11(callbyreferance_value_variable_try_except_chain).ipynb Cell 17\u001b[0m line \u001b[0;36m4\n\u001b[0;32m      <a href='vscode-notebook-cell:/d%3A/python/class1%28hello%20world%29/class11%28callbyreferance_value_variable_try_except_chain%29.ipynb#X26sZmlsZQ%3D%3D?line=1'>2</a>\u001b[0m \u001b[39mprint\u001b[39m(\u001b[39m\"\u001b[39m\u001b[39mlogic1\u001b[39m\u001b[39m\"\u001b[39m)\n\u001b[0;32m      <a href='vscode-notebook-cell:/d%3A/python/class1%28hello%20world%29/class11%28callbyreferance_value_variable_try_except_chain%29.ipynb#X26sZmlsZQ%3D%3D?line=2'>3</a>\u001b[0m \u001b[39mprint\u001b[39m(\u001b[39m\"\u001b[39m\u001b[39mlogic2\u001b[39m\u001b[39m\"\u001b[39m)\n\u001b[1;32m----> <a href='vscode-notebook-cell:/d%3A/python/class1%28hello%20world%29/class11%28callbyreferance_value_variable_try_except_chain%29.ipynb#X26sZmlsZQ%3D%3D?line=3'>4</a>\u001b[0m \u001b[39mprint\u001b[39m(\u001b[39m5\u001b[39;49m\u001b[39m/\u001b[39;49m\u001b[39m0\u001b[39;49m) \u001b[39m# Error\u001b[39;00m\n\u001b[0;32m      <a href='vscode-notebook-cell:/d%3A/python/class1%28hello%20world%29/class11%28callbyreferance_value_variable_try_except_chain%29.ipynb#X26sZmlsZQ%3D%3D?line=4'>5</a>\u001b[0m \u001b[39mprint\u001b[39m(\u001b[39m\"\u001b[39m\u001b[39mlogic4\u001b[39m\u001b[39m\"\u001b[39m)\n\u001b[0;32m      <a href='vscode-notebook-cell:/d%3A/python/class1%28hello%20world%29/class11%28callbyreferance_value_variable_try_except_chain%29.ipynb#X26sZmlsZQ%3D%3D?line=5'>6</a>\u001b[0m \u001b[39mprint\u001b[39m(\u001b[39m\"\u001b[39m\u001b[39mlogic5\u001b[39m\u001b[39m\"\u001b[39m)\n",
      "\u001b[1;31mZeroDivisionError\u001b[0m: division by zero"
     ]
    }
   ],
   "source": [
    "# ye interprater h jha galti ho gey code whi rok jae ga jb tk error resolve ni ho gey code agy ni chle ga\n",
    "print(\"logic1\")\n",
    "print(\"logic2\")\n",
    "print(5/0) # Error\n",
    "print(\"logic4\")\n",
    "print(\"logic5\")"
   ]
  },
  {
   "cell_type": "code",
   "execution_count": 18,
   "metadata": {},
   "outputs": [
    {
     "name": "stdout",
     "output_type": "stream",
     "text": [
      "logic1\n",
      "logic2\n",
      "Zerro Division Error!\n",
      "logic4\n",
      "logic5\n"
     ]
    }
   ],
   "source": [
    "# jha lgta ho k error ae gey us jo try mai likh dena h \n",
    "print(\"logic1\")\n",
    "print(\"logic2\")\n",
    "try:\n",
    "    print(5/0) # Error\n",
    "except ZeroDivisionError:\n",
    "    print(\"Zerro Division Error!\")\n",
    "print(\"logic4\")\n",
    "print(\"logic5\")"
   ]
  },
  {
   "cell_type": "code",
   "execution_count": 19,
   "metadata": {},
   "outputs": [
    {
     "name": "stdout",
     "output_type": "stream",
     "text": [
      "logic1\n",
      "logic2\n",
      "logic4\n",
      "logic5\n"
     ]
    }
   ],
   "source": [
    "# pass likhne se code agy chl prta h likn usre ko pta ni chlta k kia msla h q k logic3 missing h\n",
    "print(\"logic1\")\n",
    "print(\"logic2\")\n",
    "try:\n",
    "    print(5/0) # Error\n",
    "except ZeroDivisionError:\n",
    "    pass\n",
    "print(\"logic4\")\n",
    "print(\"logic5\")"
   ]
  },
  {
   "cell_type": "code",
   "execution_count": null,
   "metadata": {},
   "outputs": [],
   "source": [
    "print(\"logic1\")\n",
    "print(\"logic2\")\n",
    "\n",
    "l1 : list[int] = [1,2,3]\n",
    "\n",
    "try:\n",
    "    print(5/0) # Error\n",
    "    print(l1[0])\n",
    "    print(xyz)\n",
    "\n",
    "    \n",
    "except (ZeroDivisionError,IndexError):\n",
    "    print(\"Zerro Division Error!\")\n",
    "print(\"logic4\")\n",
    "print(\"logic5\")"
   ]
  },
  {
   "cell_type": "code",
   "execution_count": 22,
   "metadata": {},
   "outputs": [
    {
     "name": "stdout",
     "output_type": "stream",
     "text": [
      "logic1\n",
      "logic2\n",
      "2.5\n",
      "1\n",
      "Zerro Division Error!\n",
      "logic4\n",
      "logic5\n"
     ]
    }
   ],
   "source": [
    "print(\"logic1\")\n",
    "print(\"logic2\")\n",
    "\n",
    "l1 : list[int] = [1,2,3]\n",
    "\n",
    "try:\n",
    "    print(5/2) \n",
    "    print(l1[0])\n",
    "    print(xyz) # Error\n",
    "\n",
    "    \n",
    "except (ZeroDivisionError,IndexError,NameError):\n",
    "    print(\"Zerro Division Error!\")\n",
    "print(\"logic4\")\n",
    "print(\"logic5\")"
   ]
  },
  {
   "cell_type": "code",
   "execution_count": null,
   "metadata": {},
   "outputs": [],
   "source": [
    "print(\"logic1\")\n",
    "print(\"logic2\")\n",
    "\n",
    "try:\n",
    "    print(7/0) # logic code\n",
    "    except (ZeroDivisionError):\n",
    "        print(\"there is error\")\n"
   ]
  }
 ],
 "metadata": {
  "kernelspec": {
   "display_name": "python12",
   "language": "python",
   "name": "python3"
  },
  "language_info": {
   "codemirror_mode": {
    "name": "ipython",
    "version": 3
   },
   "file_extension": ".py",
   "mimetype": "text/x-python",
   "name": "python",
   "nbconvert_exporter": "python",
   "pygments_lexer": "ipython3",
   "version": "3.12.0"
  }
 },
 "nbformat": 4,
 "nbformat_minor": 2
}
