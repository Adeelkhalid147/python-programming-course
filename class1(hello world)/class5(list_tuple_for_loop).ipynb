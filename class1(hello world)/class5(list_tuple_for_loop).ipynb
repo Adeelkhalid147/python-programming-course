{
 "cells": [
  {
   "cell_type": "markdown",
   "id": "4eb481b8-40e7-460b-9d70-efeb6a221611",
   "metadata": {},
   "source": [
    "# List \n",
    "* iteration operation with loop\n",
    "* apply any operation on element\n",
    "* "
   ]
  },
  {
   "cell_type": "code",
   "execution_count": 1,
   "id": "bec84148-4573-4a4b-90b6-4add5c285513",
   "metadata": {},
   "outputs": [
    {
     "name": "stdout",
     "output_type": "stream",
     "text": [
      "['Sir a', 'M adeel', 'M add']\n"
     ]
    }
   ],
   "source": [
    "names : list[str] = [\"Sir a\" , \"M adeel\" , \"M add\"]\n",
    "print(names)"
   ]
  },
  {
   "cell_type": "code",
   "execution_count": 4,
   "id": "25a1c05a-e68f-4102-a6d2-6f72853d9068",
   "metadata": {},
   "outputs": [
    {
     "name": "stdout",
     "output_type": "stream",
     "text": [
      "Sir a\n",
      "m adeel\n",
      "M add\n"
     ]
    }
   ],
   "source": [
    "names : list[str] = [\"Sir a\" , \"m adeel\" , \"M add\"]\n",
    "\n",
    "for name in names:\n",
    "    print(name)"
   ]
  },
  {
   "cell_type": "code",
   "execution_count": 6,
   "id": "166ea01a-c575-4f61-9e22-7fb5eb49e44c",
   "metadata": {},
   "outputs": [
    {
     "name": "stdout",
     "output_type": "stream",
     "text": [
      "Welcome Dear Teacher Sir A\n",
      "Welcome Dear Teacher M Adeel\n",
      "Welcome Dear Teacher M Add\n"
     ]
    }
   ],
   "source": [
    "for name in names:\n",
    "    print(f'Welcome Dear Teacher {name.title()}')"
   ]
  },
  {
   "cell_type": "code",
   "execution_count": 8,
   "id": "d643af09-2c8e-47df-a17c-28aaca4d3545",
   "metadata": {},
   "outputs": [
    {
     "name": "stdout",
     "output_type": "stream",
     "text": [
      "Welcome Dear Teacher Sir A\n",
      "PIAIC Gen AI Team\n",
      "\n",
      "Welcome Dear Teacher M Adeel\n",
      "PIAIC Gen AI Team\n",
      "\n",
      "Welcome Dear Teacher M Add\n",
      "PIAIC Gen AI Team\n",
      "\n"
     ]
    }
   ],
   "source": [
    "names : list[str] = [\"Sir a\" , \"m adeel\" , \"M add\"]\n",
    "for name in names:\n",
    "    print(f'Welcome Dear Teacher {name.title()}')\n",
    "    print(\"PIAIC Gen AI Team\\n\")"
   ]
  },
  {
   "cell_type": "code",
   "execution_count": 9,
   "id": "5ef426ac-6a84-45b4-b9db-060a8157e45a",
   "metadata": {},
   "outputs": [
    {
     "name": "stdout",
     "output_type": "stream",
     "text": [
      "Welcome Dear Teacher Sir A\n",
      "PIAIC Gen AI Team\n",
      "\n",
      "Welcome Dear Teacher M Adeel\n",
      "PIAIC Gen AI Team\n",
      "\n",
      "Welcome Dear Teacher M Add\n",
      "PIAIC Gen AI Team\n",
      "\n",
      "Pakistan Zinda Bad\n"
     ]
    }
   ],
   "source": [
    "names : list[str] = [\"Sir a\" , \"m adeel\" , \"M add\"]\n",
    "for name in names:\n",
    "    print(f'Welcome Dear Teacher {name.title()}')\n",
    "    print(\"PIAIC Gen AI Team\\n\")\n",
    "    print(\"AD\n",
    "print(\"Pakistan Zinda Bad\")"
   ]
  },
  {
   "cell_type": "code",
   "execution_count": 4,
   "id": "55f20c15",
   "metadata": {},
   "outputs": [
    {
     "name": "stdout",
     "output_type": "stream",
     "text": [
      "('a', '123')\n",
      "('b', '1234')\n",
      "('c', '12345')\n"
     ]
    }
   ],
   "source": [
    "# tuple mai value ari h bracket mai comma wgra lga hwa \n",
    "data_base : list[tuple[str,str]] = [(\"a\",\"123\"),(\"b\",\"1234\"),(\"c\",\"12345\")]\n",
    "for row in data_base:\n",
    "    print(row)"
   ]
  },
  {
   "cell_type": "code",
   "execution_count": 5,
   "id": "554c2a51",
   "metadata": {},
   "outputs": [
    {
     "name": "stdout",
     "output_type": "stream",
     "text": [
      "a 123\n",
      "b 1234\n",
      "c 12345\n"
     ]
    }
   ],
   "source": [
    "# tuple se nikla k jse username or paswrod hta wse show krne k liye\n",
    "data_base : list[tuple[str,str]] = [(\"a\",\"123\"),(\"b\",\"1234\"),(\"c\",\"12345\")]\n",
    "for row in data_base:\n",
    "    user, password = row\n",
    "    print(user,password)"
   ]
  },
  {
   "cell_type": "code",
   "execution_count": 6,
   "id": "028a23ef",
   "metadata": {},
   "outputs": [
    {
     "name": "stdout",
     "output_type": "stream",
     "text": [
      "Adeel Khalid Ansari\n"
     ]
    }
   ],
   "source": [
    "# user se input lena jse js mai lete\n",
    "input_user : str = input(\"Enter user name\")\n",
    "print(input_user)"
   ]
  },
  {
   "cell_type": "code",
   "execution_count": 10,
   "id": "b7ff9978",
   "metadata": {},
   "outputs": [
    {
     "name": "stdout",
     "output_type": "stream",
     "text": [
      "valid User\n"
     ]
    }
   ],
   "source": [
    "data_base : list[tuple[str,str]] = [(\"a\",\"123\"),(\"b\",\"1234\"),(\"c\",\"12345\")]\n",
    "input_user : str = input(\"Enter user name\")\n",
    "input_password : str = input(\"Enter user password\")\n",
    "\n",
    "for row in data_base:\n",
    "    user, password = row  # ye user or password data base mai jo hai wo wale hai\n",
    "    if input_user == user and input_password == password:   # user jo data de ga us ko data base wale data se match krwanyn gy\n",
    "        print(\"valid User\")\n",
    "        break\n",
    "else:\n",
    "    print(\"Not found or Invalid user name or password\")    \n",
    "    "
   ]
  },
  {
   "cell_type": "code",
   "execution_count": 16,
   "id": "e8fc25b9",
   "metadata": {},
   "outputs": [
    {
     "name": "stdout",
     "output_type": "stream",
     "text": [
      "Alice, that was a great trick!\n",
      "David, that was a great trick!\n",
      "Carolina, that was a great trick!\n",
      "I can't wait to see your next trick, Carolina.\n",
      "\n"
     ]
    }
   ],
   "source": [
    "magicians: list[str] = ['alice','david','carolina']\n",
    "for magician in magicians:\n",
    "    print(f\"{magician.title()}, that was a great trick!\")\n",
    "print(f\"I can't wait to see your next trick, {magician.title()}.\\n\")\n",
    "# loop k jo last value hti h wo global mai excessable hti h baki koi ni ho gey as mai b last value carolina h to as liye show ho ri (ye chez sirf python mai he h)"
   ]
  },
  {
   "cell_type": "code",
   "execution_count": 17,
   "id": "542ed30a",
   "metadata": {},
   "outputs": [
    {
     "name": "stdout",
     "output_type": "stream",
     "text": [
      "Alice, that was a great trick!\n",
      "I can't wait to see your next trick, Alice.\n",
      "\n",
      "David, that was a great trick!\n",
      "I can't wait to see your next trick, David.\n",
      "\n",
      "Carolina, that was a great trick!\n",
      "I can't wait to see your next trick, Carolina.\n",
      "\n",
      "Thank you everyone, that was a great magic show\n"
     ]
    }
   ],
   "source": [
    "magicians: list[str] = ['alice','david','carolina']\n",
    "for magician in magicians:\n",
    "    print(f\"{magician.title()}, that was a great trick!\")\n",
    "    print(f\"I can't wait to see your next trick, {magician.title()}.\\n\")\n",
    "print(\"Thank you everyone, that was a great magic show\") # last message for everyone"
   ]
  },
  {
   "cell_type": "code",
   "execution_count": 23,
   "id": "ad56faa0",
   "metadata": {},
   "outputs": [
    {
     "data": {
      "text/plain": [
       "[(0, 'alice'), (1, 'david'), (2, 'carolina')]"
      ]
     },
     "execution_count": 23,
     "metadata": {},
     "output_type": "execute_result"
    }
   ],
   "source": [
    "magicians: list[str] = ['alice','david','carolina']\n",
    "\n",
    "list(enumerate(magicians)) # index number btae ga tuple mai"
   ]
  },
  {
   "cell_type": "code",
   "execution_count": 27,
   "id": "142c4b7c",
   "metadata": {},
   "outputs": [
    {
     "name": "stdout",
     "output_type": "stream",
     "text": [
      "0 alice\n",
      "1 david\n",
      "2 carolina\n"
     ]
    }
   ],
   "source": [
    "magicians = ['alice','david','carolina']\n",
    "\n",
    "for index, name in enumerate(magicians):\n",
    "    print(index, name) # index or name ak sth show kre ga ye tuple mai ni h data indual h"
   ]
  },
  {
   "cell_type": "markdown",
   "id": "badc038c",
   "metadata": {},
   "source": [
    "# Number with Loop\n",
    "* `range(start,end,step)`"
   ]
  },
  {
   "cell_type": "code",
   "execution_count": 19,
   "id": "66e853bb",
   "metadata": {},
   "outputs": [
    {
     "data": {
      "text/plain": [
       "[0, 1, 2, 3, 4, 5, 6, 7, 8, 9]"
      ]
     },
     "execution_count": 19,
     "metadata": {},
     "output_type": "execute_result"
    }
   ],
   "source": [
    "list(range(10)) # starting=0, ending = n-1"
   ]
  },
  {
   "cell_type": "code",
   "execution_count": 20,
   "id": "483f163e",
   "metadata": {},
   "outputs": [
    {
     "data": {
      "text/plain": [
       "[2, 3, 4, 5, 6, 7, 8, 9]"
      ]
     },
     "execution_count": 20,
     "metadata": {},
     "output_type": "execute_result"
    }
   ],
   "source": [
    "list(range(2,10)) # starting=2, ending = n-1"
   ]
  },
  {
   "cell_type": "code",
   "execution_count": 21,
   "id": "8f95e859",
   "metadata": {},
   "outputs": [
    {
     "data": {
      "text/plain": [
       "[2, 4, 6, 8, 10, 12, 14, 16, 18, 20]"
      ]
     },
     "execution_count": 21,
     "metadata": {},
     "output_type": "execute_result"
    }
   ],
   "source": [
    "list(range(2,21,2)) # starting=2, ending = n-1 step = 2"
   ]
  },
  {
   "cell_type": "markdown",
   "id": "2a087dbb",
   "metadata": {},
   "source": [
    "# Table print"
   ]
  },
  {
   "cell_type": "code",
   "execution_count": 30,
   "id": "514f0d36",
   "metadata": {},
   "outputs": [
    {
     "name": "stdout",
     "output_type": "stream",
     "text": [
      "1\n",
      "2\n",
      "3\n",
      "4\n",
      "5\n",
      "6\n",
      "7\n",
      "8\n",
      "9\n",
      "10\n"
     ]
    }
   ],
   "source": [
    "for n in range(1,11):\n",
    "    print(n)"
   ]
  },
  {
   "cell_type": "code",
   "execution_count": 28,
   "id": "f8831c74",
   "metadata": {},
   "outputs": [
    {
     "name": "stdout",
     "output_type": "stream",
     "text": [
      "3\n",
      "6\n",
      "9\n",
      "12\n",
      "15\n",
      "18\n",
      "21\n",
      "24\n",
      "27\n",
      "30\n"
     ]
    }
   ],
   "source": [
    "for n in range(3,31,3):\n",
    "    print(n)"
   ]
  },
  {
   "cell_type": "code",
   "execution_count": 34,
   "id": "9e820f91",
   "metadata": {},
   "outputs": [
    {
     "name": "stdout",
     "output_type": "stream",
     "text": [
      "3 X 1 = 3\n",
      "3 X 2 = 6\n",
      "3 X 3 = 9\n",
      "3 X 4 = 12\n",
      "3 X 5 = 15\n",
      "3 X 6 = 18\n",
      "3 X 7 = 21\n",
      "3 X 8 = 24\n",
      "3 X 9 = 27\n",
      "3 X 10 = 30\n"
     ]
    }
   ],
   "source": [
    "for n in range(1,11):\n",
    "    print(f\"{3} X {n} = {n*3}\")"
   ]
  },
  {
   "cell_type": "code",
   "execution_count": 35,
   "id": "7870350e",
   "metadata": {},
   "outputs": [
    {
     "name": "stdout",
     "output_type": "stream",
     "text": [
      "[1, 4, 9, 16, 25, 36, 49, 64, 81, 100]\n"
     ]
    }
   ],
   "source": [
    "squares:list[int] = []\n",
    "for value in range(1,11):\n",
    "    square = value **2\n",
    "    squares.append(square)\n",
    "print(squares) # ye kam hm ne 5 lino mai perfome kiya h jb k ye km mai ho skta tha"
   ]
  },
  {
   "cell_type": "markdown",
   "id": "adf29369",
   "metadata": {},
   "source": [
    "# List comprehansive"
   ]
  },
  {
   "cell_type": "code",
   "execution_count": 38,
   "id": "fe17e4b8",
   "metadata": {},
   "outputs": [
    {
     "name": "stdout",
     "output_type": "stream",
     "text": [
      "1\n",
      "4\n",
      "9\n",
      "16\n",
      "25\n",
      "36\n",
      "49\n",
      "64\n",
      "81\n",
      "100\n"
     ]
    }
   ],
   "source": [
    "# old treka h\n",
    "for i in range(1,11):\n",
    "    print(i**2)"
   ]
  },
  {
   "cell_type": "code",
   "execution_count": 41,
   "id": "998dfcc2",
   "metadata": {},
   "outputs": [
    {
     "data": {
      "text/plain": [
       "[1, 4, 9, 16, 25, 36, 49, 64, 81, 100]"
      ]
     },
     "execution_count": 41,
     "metadata": {},
     "output_type": "execute_result"
    }
   ],
   "source": [
    "# uper wale se or as wale code se result same arha h ye new treka h. ye 1 line mai ho ga\n",
    "[i**2 for i in range(1,11)] # ** power k liye use hta h\n",
    "# jupiter note book k ye khasiyt h k ye last wale ko print lgae bgr b print kr deta h jse k as code mai bger print k command k print hwa.(always return last line)"
   ]
  },
  {
   "cell_type": "code",
   "execution_count": 44,
   "id": "09c69c87",
   "metadata": {},
   "outputs": [
    {
     "name": "stdout",
     "output_type": "stream",
     "text": [
      "[1, 2, 3, 4, 5, 6, 7, 8, 9, 0]\n",
      "9\n",
      "0\n",
      "45\n"
     ]
    }
   ],
   "source": [
    "digits:list[int] = [1,2,3,4,5,6,7,8,9,0]\n",
    "print(digits)\n",
    "print(max(digits)) # as list mai sb se bri value kon c h\n",
    "print(min(digits)) # as list mai sb se choti value kon c h\n",
    "print(sum(digits)) # as list mai sb ko sum krna h"
   ]
  },
  {
   "cell_type": "markdown",
   "id": "ef489148",
   "metadata": {},
   "source": [
    "# Tuples\n",
    "* constant value can not be changed\n"
   ]
  },
  {
   "cell_type": "code",
   "execution_count": 45,
   "id": "4c5e80e7",
   "metadata": {},
   "outputs": [
    {
     "name": "stdout",
     "output_type": "stream",
     "text": [
      "a\n",
      "('a', 'b')\n"
     ]
    }
   ],
   "source": [
    "names:tuple[str] = ('a','b','c')\n",
    "print(names[0])\n",
    "print(names[0:2])"
   ]
  },
  {
   "cell_type": "code",
   "execution_count": 46,
   "id": "7e7918ed",
   "metadata": {},
   "outputs": [
    {
     "ename": "SyntaxError",
     "evalue": "invalid syntax (3883322849.py, line 3)",
     "output_type": "error",
     "traceback": [
      "\u001b[1;36m  Cell \u001b[1;32mIn[46], line 3\u001b[1;36m\u001b[0m\n\u001b[1;33m    names[0] \"Pakistan\"\u001b[0m\n\u001b[1;37m             ^\u001b[0m\n\u001b[1;31mSyntaxError\u001b[0m\u001b[1;31m:\u001b[0m invalid syntax\n"
     ]
    }
   ],
   "source": [
    "names:tuple[str] = ('a','b','c')\n",
    "\n",
    "names[0] \"Pakistan\" # error de ga q k update ni kr skte tuple ko tuple ko re assign kr skte hai mtlb k new bna ln butt not update k value"
   ]
  }
 ],
 "metadata": {
  "kernelspec": {
   "display_name": "Python 3 (ipykernel)",
   "language": "python",
   "name": "python3"
  },
  "language_info": {
   "codemirror_mode": {
    "name": "ipython",
    "version": 3
   },
   "file_extension": ".py",
   "mimetype": "text/x-python",
   "name": "python",
   "nbconvert_exporter": "python",
   "pygments_lexer": "ipython3",
   "version": "3.12.0"
  }
 },
 "nbformat": 4,
 "nbformat_minor": 5
}
