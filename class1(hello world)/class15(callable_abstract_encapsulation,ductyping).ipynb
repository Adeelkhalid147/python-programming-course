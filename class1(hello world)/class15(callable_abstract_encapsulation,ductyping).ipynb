{
 "cells": [
  {
   "cell_type": "markdown",
   "metadata": {},
   "source": [
    "# Callable function"
   ]
  },
  {
   "cell_type": "code",
   "execution_count": 3,
   "metadata": {},
   "outputs": [],
   "source": [
    "# cumulative_average\n",
    "\n",
    "\n",
    "class CumulativeAverager:\n",
    "    def __init__(self):\n",
    "        self.data = []\n",
    "\n",
    "    def __call__(self,new_value):\n",
    "        self.data.append(new_value)\n",
    "        print(self.data)\n",
    "        return sum(self.data) / len(self.data)\n"
   ]
  },
  {
   "cell_type": "code",
   "execution_count": 6,
   "metadata": {},
   "outputs": [
    {
     "name": "stdout",
     "output_type": "stream",
     "text": [
      "[12]\n",
      "12.0\n",
      "[12, 13]\n",
      "12.5\n",
      "[12, 13, 15]\n",
      "13.333333333333334\n",
      "[12, 13, 15, 10]\n",
      "12.5\n"
     ]
    },
    {
     "data": {
      "text/plain": [
       "[12, 13, 15, 10]"
      ]
     },
     "execution_count": 6,
     "metadata": {},
     "output_type": "execute_result"
    }
   ],
   "source": [
    "stream_average = CumulativeAverager() # __init\n",
    "\n",
    "# data = []\n",
    "\n",
    "print(stream_average(12))  # data = [12]  (12/1) = 12\n",
    "print(stream_average(13))  # data = [12,13]  (12+13/2) = 12.5\n",
    "print(stream_average(15))  # data = [12,13,15]  (12+13+15/3) = 13.33\n",
    "print(stream_average(10))  # data = [12,13,15,10]  (12+13+15+10/4) = 12.5\n",
    "stream_average.data"
   ]
  },
  {
   "cell_type": "code",
   "execution_count": 7,
   "metadata": {},
   "outputs": [],
   "source": [
    "# factorial \n",
    "\n",
    "\n",
    "class Factorial:\n",
    "    def __init__(self):\n",
    "        self.cache = {0: 1, 1: 1}\n",
    "\n",
    "    def __call__(self,number):\n",
    "        if number not in self.cache:\n",
    "            self.cache[number] = number * self(number - 1)\n",
    "        return self.cache[number]"
   ]
  },
  {
   "cell_type": "code",
   "execution_count": 9,
   "metadata": {},
   "outputs": [
    {
     "data": {
      "text/plain": [
       "120"
      ]
     },
     "execution_count": 9,
     "metadata": {},
     "output_type": "execute_result"
    }
   ],
   "source": [
    "factorial_of = Factorial()\n",
    "\n",
    "factorial_of(4)\n",
    "\n",
    "factorial_of(5)\n",
    "\n",
    "factorial_of(6)\n",
    "\n",
    "factorial_of.cache"
   ]
  },
  {
   "cell_type": "markdown",
   "metadata": {},
   "source": [
    "# Model / Modul (py k file k ye name hai)"
   ]
  },
  {
   "cell_type": "code",
   "execution_count": 2,
   "metadata": {},
   "outputs": [],
   "source": [
    "from genai import ExecutionTimer"
   ]
  },
  {
   "cell_type": "code",
   "execution_count": 14,
   "metadata": {},
   "outputs": [
    {
     "ename": "AttributeError",
     "evalue": "module 'time' has no attribute 'pref_counter'",
     "output_type": "error",
     "traceback": [
      "\u001b[1;31m---------------------------------------------------------------------------\u001b[0m",
      "\u001b[1;31mAttributeError\u001b[0m                            Traceback (most recent call last)",
      "\u001b[1;32md:\\python\\class1(hello world)\\class15(callable_abstract_encapsulation,ductyping).ipynb Cell 8\u001b[0m line \u001b[0;36m5\n\u001b[0;32m      <a href='vscode-notebook-cell:/d%3A/python/class1%28hello%20world%29/class15%28callable_abstract_encapsulation%2Cductyping%29.ipynb#X12sZmlsZQ%3D%3D?line=0'>1</a>\u001b[0m \u001b[39m@ExecutionTimer\u001b[39m\n\u001b[0;32m      <a href='vscode-notebook-cell:/d%3A/python/class1%28hello%20world%29/class15%28callable_abstract_encapsulation%2Cductyping%29.ipynb#X12sZmlsZQ%3D%3D?line=1'>2</a>\u001b[0m \u001b[39mdef\u001b[39;00m \u001b[39msquare_numbers\u001b[39m(numbers):\n\u001b[0;32m      <a href='vscode-notebook-cell:/d%3A/python/class1%28hello%20world%29/class15%28callable_abstract_encapsulation%2Cductyping%29.ipynb#X12sZmlsZQ%3D%3D?line=2'>3</a>\u001b[0m     \u001b[39mreturn\u001b[39;00m [number \u001b[39m*\u001b[39m\u001b[39m*\u001b[39m \u001b[39m2\u001b[39m \u001b[39mfor\u001b[39;00m number \u001b[39min\u001b[39;00m numbers]\n\u001b[1;32m----> <a href='vscode-notebook-cell:/d%3A/python/class1%28hello%20world%29/class15%28callable_abstract_encapsulation%2Cductyping%29.ipynb#X12sZmlsZQ%3D%3D?line=4'>5</a>\u001b[0m square_numbers(\u001b[39mlist\u001b[39;49m(\u001b[39mrange\u001b[39;49m(\u001b[39m10\u001b[39;49m)))\n",
      "File \u001b[1;32md:\\python\\class1(hello world)\\genai.py:11\u001b[0m, in \u001b[0;36mExecutionTimer.__call__\u001b[1;34m(self, *args, **kwargs)\u001b[0m\n\u001b[0;32m      9\u001b[0m start \u001b[39m=\u001b[39m time\u001b[39m.\u001b[39mperf_counter()\n\u001b[0;32m     10\u001b[0m result \u001b[39m=\u001b[39m \u001b[39mself\u001b[39m\u001b[39m.\u001b[39mfunc(\u001b[39m*\u001b[39margs, \u001b[39m*\u001b[39m\u001b[39m*\u001b[39mkwargs)\n\u001b[1;32m---> 11\u001b[0m end \u001b[39m=\u001b[39m time\u001b[39m.\u001b[39;49mpref_counter()\n\u001b[0;32m     12\u001b[0m \u001b[39mprint\u001b[39m(\u001b[39mf\u001b[39m\u001b[39m\"\u001b[39m\u001b[39m{\u001b[39;00m\u001b[39mself\u001b[39m\u001b[39m.\u001b[39mfunc__name__\u001b[39m}\u001b[39;00m\u001b[39m() took \u001b[39m\u001b[39m{\u001b[39;00m(end\u001b[39m \u001b[39m\u001b[39m-\u001b[39m\u001b[39m \u001b[39mstart)\u001b[39m \u001b[39m\u001b[39m*\u001b[39m\u001b[39m \u001b[39m\u001b[39m1000\u001b[39m\u001b[39m:\u001b[39;00m\u001b[39m.4f\u001b[39m\u001b[39m}\u001b[39;00m\u001b[39m ms\u001b[39m\u001b[39m\"\u001b[39m)\n\u001b[0;32m     13\u001b[0m \u001b[39mreturn\u001b[39;00m result\n",
      "\u001b[1;31mAttributeError\u001b[0m: module 'time' has no attribute 'pref_counter'"
     ]
    }
   ],
   "source": [
    "@ExecutionTimer\n",
    "def square_numbers(numbers):\n",
    "    return [number ** 2 for number in numbers]\n",
    "\n",
    "square_numbers(list(range(10)))"
   ]
  },
  {
   "cell_type": "code",
   "execution_count": 20,
   "metadata": {},
   "outputs": [
    {
     "name": "stdout",
     "output_type": "stream",
     "text": [
      "(public data koi b change kr skta: ) 0123\n"
     ]
    }
   ],
   "source": [
    "class Piaic():\n",
    "    def __init__(self) -> None:\n",
    "        self.piaic_helpline : str = \"0123\"  # public data\n",
    "        self._total_expense : int = 60000  # protected (_) name k sth ye lgyn gy to protected\n",
    "        self.__test_announcement : str = \"5 Nov 2023\" # Private(__) double understore\n",
    "\n",
    "\n",
    "isfhan : Piaic = Piaic()\n",
    "\n",
    "\n",
    "print(f\"(public data koi b change kr skta: )\",isfhan.piaic_helpline)\n"
   ]
  },
  {
   "cell_type": "code",
   "execution_count": 22,
   "metadata": {},
   "outputs": [
    {
     "name": "stdout",
     "output_type": "stream",
     "text": [
      "00000\n"
     ]
    }
   ],
   "source": [
    "# koi b data change kr skta phle nbr 0123 tha ab 00000\n",
    "\n",
    "isfhan.piaic_helpline = \"00000\"\n",
    "print(isfhan.piaic_helpline)"
   ]
  },
  {
   "cell_type": "code",
   "execution_count": 23,
   "metadata": {},
   "outputs": [
    {
     "ename": "AttributeError",
     "evalue": "'Piaic' object has no attribute '__test_announcement'",
     "output_type": "error",
     "traceback": [
      "\u001b[1;31m---------------------------------------------------------------------------\u001b[0m",
      "\u001b[1;31mAttributeError\u001b[0m                            Traceback (most recent call last)",
      "\u001b[1;32md:\\python\\class1(hello world)\\class15(callable_abstract_encapsulation,ductyping).ipynb Cell 11\u001b[0m line \u001b[0;36m1\n\u001b[1;32m----> <a href='vscode-notebook-cell:/d%3A/python/class1%28hello%20world%29/class15%28callable_abstract_encapsulation%2Cductyping%29.ipynb#X15sZmlsZQ%3D%3D?line=0'>1</a>\u001b[0m isfhan\u001b[39m.\u001b[39;49m__test_announcement\n",
      "\u001b[1;31mAttributeError\u001b[0m: 'Piaic' object has no attribute '__test_announcement'"
     ]
    }
   ],
   "source": [
    "# private \n",
    "isfhan.__test_announcement"
   ]
  },
  {
   "cell_type": "code",
   "execution_count": 24,
   "metadata": {},
   "outputs": [
    {
     "data": {
      "text/plain": [
       "'5 Nov 2023'"
      ]
     },
     "execution_count": 24,
     "metadata": {},
     "output_type": "execute_result"
    }
   ],
   "source": [
    "isfhan._Piaic__test_announcement"
   ]
  },
  {
   "cell_type": "markdown",
   "metadata": {},
   "source": [
    "# Encapsulation\n",
    "* ksi b class ya object ko pvt kr skte hai\n",
    "* koi excess b ni kr skta\n",
    "* Na he koi update kr skta"
   ]
  },
  {
   "cell_type": "code",
   "execution_count": 3,
   "metadata": {},
   "outputs": [],
   "source": [
    "class StudentLogin():\n",
    "    def __init__(self) -> None:\n",
    "        self.__username : str = \"Admin\"  # private variable\n",
    "        self.__password : str = \"Admin\"  # private \n",
    "\n",
    "\n",
    "    def __dbconnectivity(self,user:str, password:str):\n",
    "        print(\"Successfully Connected\")\n",
    "        if user == self.__username and password == self.__password:\n",
    "            print(\"Print: valid user\")\n",
    "            return \"valid user\"\n",
    "        else:\n",
    "            print(\"Print: invalid user\")\n",
    "            return \"invalid user\"\n",
    "\n",
    "    # password update krna ho to\n",
    "\n",
    "    def update_password(self,password:str):\n",
    "        self.__password = password\n",
    "    # student Login\n",
    "    def student_login(self,user:str,pass1:str):\n",
    "        message : str = self.__dbconnectivity(user,pass1)\n",
    "        print(message)\n",
    "        \n",
    "    def display_information(self):\n",
    "        print(f\"Hello Dear, username {self.__username} and password {self.__password}\")\n",
    "\n",
    "\n",
    "# check krne k liye \n",
    "qasim : StudentLogin = StudentLogin()\n"
   ]
  },
  {
   "cell_type": "code",
   "execution_count": null,
   "metadata": {},
   "outputs": [],
   "source": [
    "# ye bnya h k paswword change kr skte ya ni likn ni change ho ga\n",
    "qasim.__password = \"asaaaa\""
   ]
  },
  {
   "cell_type": "code",
   "execution_count": 32,
   "metadata": {},
   "outputs": [
    {
     "name": "stdout",
     "output_type": "stream",
     "text": [
      "Hello Dear, username Admin and password Admin\n"
     ]
    }
   ],
   "source": [
    "# yha dekh skte k kuch b change ni hwa\n",
    "qasim.display_information()"
   ]
  },
  {
   "cell_type": "code",
   "execution_count": 6,
   "metadata": {},
   "outputs": [
    {
     "name": "stdout",
     "output_type": "stream",
     "text": [
      "Successfully Connected\n",
      "Print: invalid user\n",
      "invalid user\n"
     ]
    }
   ],
   "source": [
    "# wrong username and password dia h to invalid user ae ga\n",
    "qasim.student_login(\"qasim\",\"qasim123\")"
   ]
  },
  {
   "cell_type": "code",
   "execution_count": 7,
   "metadata": {},
   "outputs": [
    {
     "name": "stdout",
     "output_type": "stream",
     "text": [
      "Successfully Connected\n",
      "Print: valid user\n",
      "valid user\n"
     ]
    }
   ],
   "source": [
    "# right username and password dia h to valid user ae ga\n",
    "qasim.student_login(\"Admin\",\"Admin\")"
   ]
  },
  {
   "cell_type": "code",
   "execution_count": 8,
   "metadata": {},
   "outputs": [],
   "source": [
    "# password ko update krne k liye jo upr function bnya h us mai update kren gy\n",
    "\n",
    "qasim.update_password(\"qasim123\")"
   ]
  },
  {
   "cell_type": "code",
   "execution_count": 9,
   "metadata": {},
   "outputs": [
    {
     "name": "stdout",
     "output_type": "stream",
     "text": [
      "Hello Dear, username Admin and password qasim123\n"
     ]
    }
   ],
   "source": [
    "# ab dekhte hai password update hwa ya ni.  ho gya update\n",
    "\n",
    "qasim.display_information()"
   ]
  },
  {
   "cell_type": "markdown",
   "metadata": {},
   "source": [
    "#  __str__"
   ]
  },
  {
   "cell_type": "code",
   "execution_count": 11,
   "metadata": {},
   "outputs": [
    {
     "name": "stdout",
     "output_type": "stream",
     "text": [
      "<__main__.Teacher object at 0x000002285F189F70>\n"
     ]
    }
   ],
   "source": [
    "class Teacher():\n",
    "    def __init__(self,name)->None:\n",
    "        self.name : str = name\n",
    "\n",
    "sir_zia : Teacher = Teacher(\"sir Ziaaa\")\n",
    "print(sir_zia)\n"
   ]
  },
  {
   "cell_type": "code",
   "execution_count": 13,
   "metadata": {},
   "outputs": [
    {
     "name": "stdout",
     "output_type": "stream",
     "text": [
      "Teacher name is sir Ziaaa\n"
     ]
    }
   ],
   "source": [
    "# jb b class bnyen to __str__ ka method use krna h ta k jb b print kre to sai info mil jae\n",
    "class Teacher():\n",
    "    def __init__(self,name)->None:\n",
    "        self.name : str = name\n",
    "\n",
    "    def __str__(self) -> str:\n",
    "        return f\"Teacher name is {self.name}\"\n",
    "\n",
    "sir_zia : Teacher = Teacher(\"sir Ziaaa\")\n",
    "print(sir_zia)\n"
   ]
  },
  {
   "cell_type": "markdown",
   "metadata": {},
   "source": [
    "# Abstract class"
   ]
  },
  {
   "cell_type": "code",
   "execution_count": 15,
   "metadata": {},
   "outputs": [
    {
     "ename": "TypeError",
     "evalue": "Can't instantiate abstract class Animal without an implementation for abstract method '_Animal__init_'",
     "output_type": "error",
     "traceback": [
      "\u001b[1;31m---------------------------------------------------------------------------\u001b[0m",
      "\u001b[1;31mTypeError\u001b[0m                                 Traceback (most recent call last)",
      "\u001b[1;32md:\\python\\class1(hello world)\\class15(callable_abstract_encapsulation,ductyping).ipynb Cell 25\u001b[0m line \u001b[0;36m1\n\u001b[0;32m      <a href='vscode-notebook-cell:/d%3A/python/class1%28hello%20world%29/class15%28callable_abstract_encapsulation%2Cductyping%29.ipynb#X33sZmlsZQ%3D%3D?line=6'>7</a>\u001b[0m         \u001b[39msuper\u001b[39m()\u001b[39m.\u001b[39m\u001b[39m__init__\u001b[39m()\n\u001b[0;32m      <a href='vscode-notebook-cell:/d%3A/python/class1%28hello%20world%29/class15%28callable_abstract_encapsulation%2Cductyping%29.ipynb#X33sZmlsZQ%3D%3D?line=7'>8</a>\u001b[0m         \u001b[39mself\u001b[39m\u001b[39m.\u001b[39mliving_thing : \u001b[39mbool\u001b[39m \u001b[39m=\u001b[39m \u001b[39mTrue\u001b[39;00m\n\u001b[1;32m---> <a href='vscode-notebook-cell:/d%3A/python/class1%28hello%20world%29/class15%28callable_abstract_encapsulation%2Cductyping%29.ipynb#X33sZmlsZQ%3D%3D?line=10'>11</a>\u001b[0m isfhan : Animal \u001b[39m=\u001b[39m Animal()\n",
      "\u001b[1;31mTypeError\u001b[0m: Can't instantiate abstract class Animal without an implementation for abstract method '_Animal__init_'"
     ]
    }
   ],
   "source": [
    "from abc import ABC, abstractmethod\n",
    "from traitlets import Bool\n",
    "\n",
    "class Animal(ABC):\n",
    "    @abstractmethod\n",
    "    def __init_(self) ->None:\n",
    "        super().__init__()\n",
    "        self.living_thing : bool = True\n",
    "\n",
    "\n",
    "isfhan : Animal = Animal()\n"
   ]
  },
  {
   "cell_type": "code",
   "execution_count": 19,
   "metadata": {},
   "outputs": [
    {
     "name": "stdout",
     "output_type": "stream",
     "text": [
      "True\n"
     ]
    }
   ],
   "source": [
    "from abc import ABC, abstractmethod\n",
    "from traitlets import Bool\n",
    "\n",
    "class Animal(ABC):\n",
    "    @abstractmethod\n",
    "    def __init__(self) -> None:\n",
    "        super().__init__()\n",
    "        self.living_thing: bool = True\n",
    "\n",
    "    @abstractmethod\n",
    "    def eat(self,food:str):\n",
    "        ...  # body na ho method k to 3dot\n",
    "\n",
    "class Cat(Animal):\n",
    "    def __init__(self) -> None:\n",
    "        super().__init__()\n",
    "\n",
    "isfhan = Cat()\n",
    "print(isfhan.living_thing)\n"
   ]
  },
  {
   "cell_type": "code",
   "execution_count": 20,
   "metadata": {},
   "outputs": [
    {
     "name": "stdout",
     "output_type": "stream",
     "text": [
      "True\n"
     ]
    }
   ],
   "source": [
    "from abc import ABC, abstractmethod\n",
    "from traitlets import Bool\n",
    "\n",
    "class Animal(ABC):\n",
    "    @abstractmethod\n",
    "    def __init__(self) -> None:\n",
    "        super().__init__()\n",
    "        self.living_thing: bool = True\n",
    "\n",
    "    @abstractmethod\n",
    "    def eat(self,food:str):\n",
    "        ...  # body na ho method k to 3dot\n",
    "\n",
    "class Cat(Animal):\n",
    "    def __init__(self) -> None:\n",
    "        super().__init__()\n",
    "    def eat(self,food:str):\n",
    "        return f\"Cat is eating {food}\"\n",
    "\n",
    "isfhan = Cat()\n",
    "print(isfhan.living_thing)\n"
   ]
  },
  {
   "cell_type": "code",
   "execution_count": 21,
   "metadata": {},
   "outputs": [
    {
     "name": "stdout",
     "output_type": "stream",
     "text": [
      "Cat is eating Mouse\n"
     ]
    }
   ],
   "source": [
    "print(isfhan.eat(\"Mouse\"))"
   ]
  },
  {
   "cell_type": "markdown",
   "metadata": {},
   "source": [
    "# Duck typing"
   ]
  },
  {
   "cell_type": "code",
   "execution_count": 24,
   "metadata": {},
   "outputs": [
    {
     "name": "stdout",
     "output_type": "stream",
     "text": [
      "Quack!\n",
      "Im Quacking like a Duck!\n"
     ]
    }
   ],
   "source": [
    "class Duck:\n",
    "    def quack(self)->str:\n",
    "        return \"Quack!\"\n",
    "\n",
    "class Person:\n",
    "    def quack(self)->str:\n",
    "        return \"Im Quacking like a Duck!\"\n",
    "\n",
    "def in_the_forest(malard):\n",
    "    print(malard.quack())\n",
    "\n",
    "donald : Duck = Duck()\n",
    "john : Person = Person()\n",
    "in_the_forest(donald)\n",
    "in_the_forest(john)\n"
   ]
  },
  {
   "cell_type": "code",
   "execution_count": 25,
   "metadata": {},
   "outputs": [
    {
     "name": "stdout",
     "output_type": "stream",
     "text": [
      "Quack!\n",
      "Im Quacking like a Duck!\n"
     ]
    }
   ],
   "source": [
    "# jha Duck use krni h wha type define na kren\n",
    "class Duck:\n",
    "    def quack(self)->str:\n",
    "        return \"Quack!\"\n",
    "\n",
    "class Person:\n",
    "    def quack(self)->str:\n",
    "        return \"Im Quacking like a Duck!\"\n",
    "\n",
    "def in_the_forest(malard:Duck):\n",
    "    print(malard.quack())\n",
    "\n",
    "donald : Duck = Duck()\n",
    "john : Person = Person()\n",
    "in_the_forest(donald)\n",
    "in_the_forest(john)\n"
   ]
  }
 ],
 "metadata": {
  "kernelspec": {
   "display_name": "python12",
   "language": "python",
   "name": "python3"
  },
  "language_info": {
   "codemirror_mode": {
    "name": "ipython",
    "version": 3
   },
   "file_extension": ".py",
   "mimetype": "text/x-python",
   "name": "python",
   "nbconvert_exporter": "python",
   "pygments_lexer": "ipython3",
   "version": "3.12.0"
  }
 },
 "nbformat": 4,
 "nbformat_minor": 2
}
