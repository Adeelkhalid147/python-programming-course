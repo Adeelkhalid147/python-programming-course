{
 "cells": [
  {
   "cell_type": "markdown",
   "metadata": {},
   "source": [
    "# Function\n",
    "* pre-define function\n",
    "    * provided by in language\n",
    "* user-define function\n",
    "    * custom made function\n",
    "## Similar properties on both type\n",
    "* Return and None-return function\n",
    "    * Return\n",
    "        * we can assign this function output in any variable\n",
    "    * None-Return\n",
    "        * only run we cant assign value to variable\n",
    "\n",
    "## components\n",
    "* function declaration\n",
    "* function body\n",
    "* function calling\n",
    "\n",
    "### syntax function\n",
    "'''\n",
    "def function_name(param1:type, param2:type,...)->Return_type: # declaration\n",
    "\n",
    "\n",
    "    function_body # body\n",
    "\n",
    "\n",
    "function_name(arg1,arg2) # calling\n",
    "\n",
    "\n",
    "'''\n",
    "\n",
    "# Syntaxt lambda function\n",
    "* one line function\n",
    "* without name\n",
    "* only use in this line\n"
   ]
  },
  {
   "cell_type": "markdown",
   "metadata": {},
   "source": [
    "# Pre-define function\n",
    "* print\n",
    "* len\n",
    "* id\n",
    "* dir\n",
    "* chr\n",
    "* ord\n",
    "* exec"
   ]
  },
  {
   "cell_type": "markdown",
   "metadata": {},
   "source": [
    "# Return and None-Return Function"
   ]
  },
  {
   "cell_type": "code",
   "execution_count": 4,
   "metadata": {},
   "outputs": [
    {
     "name": "stdout",
     "output_type": "stream",
     "text": [
      "pakistan\n"
     ]
    },
    {
     "data": {
      "text/plain": [
       "None"
      ]
     },
     "metadata": {},
     "output_type": "display_data"
    }
   ],
   "source": [
    "# return function example\n",
    "a : str = print(\"pakistan\")  # a = \"pakistan | None\"\n",
    "display(a) # None"
   ]
  },
  {
   "cell_type": "code",
   "execution_count": 5,
   "metadata": {},
   "outputs": [
    {
     "data": {
      "text/plain": [
       "8"
      ]
     },
     "metadata": {},
     "output_type": "display_data"
    }
   ],
   "source": [
    "# ksi b function ko dekhna ho ye return function h ya none return to us k value ko return krwan agr value agye to return or agr na ae to Non return. jse as mai value 8 ae gey ye return function h\n",
    "a : int = len(\"pakistan\")\n",
    "display(a)"
   ]
  },
  {
   "cell_type": "code",
   "execution_count": 6,
   "metadata": {},
   "outputs": [
    {
     "name": "stdout",
     "output_type": "stream",
     "text": [
      "PIAIC Genaritive AI\n",
      "Phthon crash course\n"
     ]
    }
   ],
   "source": [
    "# simple function without any argument\n",
    "\n",
    "def piaic()->None:  # declaration/function signature\n",
    "    # function body start\n",
    "    print(\"PIAIC Genaritive AI\") # statement 1\n",
    "    print(\"Phthon crash course\") # statement 2\n",
    "    # function body end\n",
    "\n",
    "piaic() # calling"
   ]
  },
  {
   "cell_type": "code",
   "execution_count": 7,
   "metadata": {},
   "outputs": [
    {
     "name": "stdout",
     "output_type": "stream",
     "text": [
      "PIAIC Genaritive AI\n",
      "Phthon crash course\n"
     ]
    }
   ],
   "source": [
    "piaic()"
   ]
  },
  {
   "cell_type": "code",
   "execution_count": 10,
   "metadata": {},
   "outputs": [
    {
     "data": {
      "text/plain": [
       "26"
      ]
     },
     "execution_count": 10,
     "metadata": {},
     "output_type": "execute_result"
    }
   ],
   "source": [
    "# required params and agrument function\n",
    "def add_two_number(num1:int,num2:int)->int:\n",
    "    return num1 + num2\n",
    "\n",
    "add_two_number(13,1)"
   ]
  },
  {
   "cell_type": "code",
   "execution_count": null,
   "metadata": {},
   "outputs": [],
   "source": [
    "# positional argument function call krte hoe 1st arg num1 mai jae ga or 2nd arg num2 mai\n",
    "def add_two_number(num1:int,num2:int)->int:\n",
    "    print(f\"num1 value {num1} and num2 value {num2}\")\n",
    "    return num1 + num2\n",
    "\n",
    "add_two_number(13,1) #agr1, arg2 positional"
   ]
  },
  {
   "cell_type": "code",
   "execution_count": 36,
   "metadata": {},
   "outputs": [
    {
     "name": "stdout",
     "output_type": "stream",
     "text": [
      "num1 value 50 and num2 value 13\n"
     ]
    },
    {
     "data": {
      "text/plain": [
       "63"
      ]
     },
     "execution_count": 36,
     "metadata": {},
     "output_type": "execute_result"
    }
   ],
   "source": [
    "# key word arguments\n",
    "def add_two_number(num1:int,num2:int)->int:\n",
    "    print(f\"num1 value {num1} and num2 value {num2}\")\n",
    "    return num1 + num2\n",
    "\n",
    "add_two_number(num2=13,num1=50) # key word arguments name se utha le ga argument agy pechle b ho to"
   ]
  },
  {
   "cell_type": "code",
   "execution_count": 17,
   "metadata": {},
   "outputs": [
    {
     "name": "stdout",
     "output_type": "stream",
     "text": [
      "11 5\n"
     ]
    },
    {
     "data": {
      "text/plain": [
       "16"
      ]
     },
     "execution_count": 17,
     "metadata": {},
     "output_type": "execute_result"
    }
   ],
   "source": [
    "# set optional value in function parm2 mai value fix kr de h cal krte waqt jo value ho gey wo he count ho gey over-write kr de gey\n",
    "\n",
    "def add_two_numbers(num1:int,num2:int=41) -> int:\n",
    "    print(num1 , num2)\n",
    "    return num1 + num2\n",
    "\n",
    "add_two_numbers(11)"
   ]
  },
  {
   "cell_type": "code",
   "execution_count": 18,
   "metadata": {},
   "outputs": [
    {
     "data": {
      "text/plain": [
       "14"
      ]
     },
     "execution_count": 18,
     "metadata": {},
     "output_type": "execute_result"
    }
   ],
   "source": [
    "# lambda function jis ka koi name ni hta na as se phle use ho ga na as k bd\n",
    "\n",
    "a = lambda num1, num2 : num1 + num2\n",
    "a(7,7)"
   ]
  },
  {
   "cell_type": "code",
   "execution_count": 20,
   "metadata": {},
   "outputs": [
    {
     "data": {
      "text/plain": [
       "[1, 4, 9, 16, 25, 36, 49, 64, 100]"
      ]
     },
     "execution_count": 20,
     "metadata": {},
     "output_type": "execute_result"
    }
   ],
   "source": [
    "# lambda and map function\n",
    "data : list[int] = [1,2,3,4,5,6,7,8,10]\n",
    "\n",
    "data = list(map(lambda x:x**2,data))\n",
    "\n",
    "data"
   ]
  },
  {
   "cell_type": "code",
   "execution_count": 21,
   "metadata": {},
   "outputs": [
    {
     "data": {
      "text/plain": [
       "[2, 4, 6, 8, 10]"
      ]
     },
     "execution_count": 21,
     "metadata": {},
     "output_type": "execute_result"
    }
   ],
   "source": [
    "# filter function\n",
    "\n",
    "data : list[int] = [1,2,3,4,5,6,7,8,10]\n",
    "\n",
    "data = list(filter(lambda x:x%2==0,data))\n",
    "\n",
    "data"
   ]
  },
  {
   "cell_type": "code",
   "execution_count": 22,
   "metadata": {},
   "outputs": [
    {
     "name": "stdout",
     "output_type": "stream",
     "text": [
      "<generator object my_range at 0x0000012FCDF4D120>\n",
      "[1, 2, 3, 4, 5, 6, 7, 8, 9, 10]\n"
     ]
    }
   ],
   "source": [
    "# Generator function very imported function\n",
    "\n",
    "def my_range(start:int, end:int,step:int=1):\n",
    "    for i in range(start,end+1,step):\n",
    "        yield i # Generator function\n",
    "\n",
    "a = my_range(1,10)\n",
    "print(a) # ase ye ni chle ga q k ye generator function h\n",
    "print(list(a)) # list mai dalne se ye chl jae ga as ye as sth sb show kr de ha or agr ak sth show na krwane hn one by one show krne hn to print(next(a)) as ho ga"
   ]
  },
  {
   "cell_type": "code",
   "execution_count": 31,
   "metadata": {},
   "outputs": [
    {
     "name": "stdout",
     "output_type": "stream",
     "text": [
      "<generator object my_range at 0x0000012FCDF4E4D0>\n",
      "1\n",
      "2\n",
      "3\n",
      "4\n"
     ]
    }
   ],
   "source": [
    "# jitni dfa print(next(a)) likhen gy step by step chlta jae ga\n",
    "a = my_range(1,10)\n",
    "print(a)\n",
    "print(next(a))\n",
    "print(next(a))\n",
    "print(next(a))\n",
    "print(next(a))"
   ]
  },
  {
   "cell_type": "code",
   "execution_count": 32,
   "metadata": {},
   "outputs": [
    {
     "name": "stdout",
     "output_type": "stream",
     "text": [
      "(1, 2, 3, 4, 5, 6) <class 'tuple'>\n"
     ]
    },
    {
     "data": {
      "text/plain": [
       "21"
      ]
     },
     "execution_count": 32,
     "metadata": {},
     "output_type": "execute_result"
    }
   ],
   "source": [
    "# pass unlimited argument use * with variable name\n",
    "\n",
    "def abc(*nums): # use * for unlimited perams\n",
    "    print(nums, type(nums))\n",
    "    total = 0\n",
    "    for n in nums:\n",
    "        total += n\n",
    "    return total\n",
    "\n",
    "abc(1,2,3,4,5,6) # unlimted argument"
   ]
  },
  {
   "cell_type": "code",
   "execution_count": 1,
   "metadata": {},
   "outputs": [
    {
     "name": "stdout",
     "output_type": "stream",
     "text": [
      "Hello Monica\n",
      "Hello Luke\n",
      "Hello Steve\n",
      "Hello John\n"
     ]
    }
   ],
   "source": [
    "# tuple mai unl length receive krne k liye\n",
    "from typing import Tuple\n",
    "\n",
    "def greet(*names: Tuple[str,...]) -> None:\n",
    "    '''\n",
    "    This function greets all persons in the names tuple.\n",
    "    '''\n",
    "\n",
    "    for name in names:\n",
    "        print(\"Hello\", name)\n",
    "\n",
    "greet(\"Monica\",\"Luke\",\"Steve\",\"John\") # unlimted name yha pass krte jyn gy wo as ka part bnti jyn gey"
   ]
  },
  {
   "cell_type": "code",
   "execution_count": 4,
   "metadata": {},
   "outputs": [
    {
     "name": "stdout",
     "output_type": "stream",
     "text": [
      "{'a': 'pakistan', 'b': 'china', 'c': 'ssss'}\n"
     ]
    }
   ],
   "source": [
    "# Dictionary mai b double ** k bd \n",
    "from typing import Dict\n",
    "\n",
    "def greet(**xyz: Dict[str,str]) -> None:\n",
    "    print(xyz)\n",
    "\n",
    "greet(a=\"pakistan\",b=\"china\",c=\"ssss\")  # unlimted name yha pass krte jyn gy wo as ka part bnti jyn gey"
   ]
  },
  {
   "cell_type": "code",
   "execution_count": 37,
   "metadata": {},
   "outputs": [
    {
     "name": "stdout",
     "output_type": "stream",
     "text": [
      "{'a': 7, 'b': 20, 'c': 30, 'x': 1, 'y': 2, 'name': 'M Adeel'} <class 'dict'>\n"
     ]
    }
   ],
   "source": [
    "# ** se hr trha ka argument de skte hai dictionar return kre ga\n",
    "\n",
    "def xyz(**kargs):\n",
    "    print(kargs, type(kargs))\n",
    "\n",
    "xyz(a=7, b=20, c=30, x=1, y=2, name=\"M Adeel\")"
   ]
  },
  {
   "cell_type": "code",
   "execution_count": 42,
   "metadata": {},
   "outputs": [
    {
     "name": "stdout",
     "output_type": "stream",
     "text": [
      "1 2 (7, 9, 9, 9) {'c': 20, 'd': 30, 'x': 100}\n"
     ]
    }
   ],
   "source": [
    "# as mai a or b required h us k bd kuch b pas kr skte\n",
    "\n",
    "def my_function(a, b, *abc, **xyz):\n",
    "    print(a, b, abc, xyz)\n",
    "\n",
    "my_function(1, 2, 7, 9, 9, 9, c=20, d=30, x=100)\n"
   ]
  },
  {
   "cell_type": "code",
   "execution_count": 5,
   "metadata": {},
   "outputs": [
    {
     "name": "stdout",
     "output_type": "stream",
     "text": [
      "1 2 (7, 9, 9, 9) {'c': 20, 'd': 30, 'x': 100}\n"
     ]
    }
   ],
   "source": [
    "# assign the type in function params\n",
    "def my_function(a:int, b:int, *abc:int, **xyz:int) -> None:\n",
    "    print(a, b, abc, xyz)\n",
    "\n",
    "my_function(1, 2, 7, 9, 9, 9, c=20, d=30, x=100)\n"
   ]
  },
  {
   "cell_type": "code",
   "execution_count": 10,
   "metadata": {},
   "outputs": [
    {
     "name": "stdout",
     "output_type": "stream",
     "text": [
      "something is happening before the function is called.\n",
      "Hello!\n",
      "something is happening after the function is called.\n"
     ]
    }
   ],
   "source": [
    "# decorator function\n",
    "\n",
    "from typing import Callable\n",
    "\n",
    "def my_decorator(func:Callable[[],None])-> Callable[[],None]:\n",
    "    def wrapper():\n",
    "        print(\"something is happening before the function is called.\")\n",
    "        func()  # ye manually likha h agr as ko comment kr dn to say_hello function kbi call he ni ho ga\n",
    "        print(\"something is happening after the function is called.\")\n",
    "    return wrapper\n",
    "\n",
    "@my_decorator\n",
    "def say_hello():\n",
    "    print(\"Hello!\")\n",
    "\n",
    "say_hello()"
   ]
  },
  {
   "cell_type": "code",
   "execution_count": 11,
   "metadata": {},
   "outputs": [
    {
     "name": "stdout",
     "output_type": "stream",
     "text": [
      "something is happening before the function is called.\n",
      "200\n",
      "something is happening after the function is called.\n"
     ]
    }
   ],
   "source": [
    "# decorator function\n",
    "\n",
    "from typing import Callable\n",
    "\n",
    "def my_decorator(func:Callable[[int],None])-> Callable[[int],None]:\n",
    "    def wrapper(num1:int) -> None:\n",
    "        print(\"something is happening before the function is called.\")\n",
    "        func(num1)  # ye manually likha h agr as ko comment kr dn to say_hello function kbi call he ni ho ga\n",
    "        print(\"something is happening after the function is called.\")\n",
    "    return wrapper\n",
    "\n",
    "@my_decorator\n",
    "def say_hello(num1: int) -> None:\n",
    "    print(num1)\n",
    "\n",
    "say_hello(200)"
   ]
  },
  {
   "cell_type": "code",
   "execution_count": null,
   "metadata": {},
   "outputs": [],
   "source": [
    "# Recursion Function asa function jo apne andr apne ap ko call krta h\n",
    "\n",
    "def factorial(x: int) -> int:\n",
    "    '''This is a recursive function \n",
    "    to find the factorial of an integer'''\n",
    "    if x == 1:\n",
    "        return 1\n",
    "    else:\n",
    "        return (x * factorial(x-1))\n",
    "\n",
    "num = 5\n",
    "print(\"The factorial of\", num, \"is\", factorial(num))"
   ]
  }
 ],
 "metadata": {
  "kernelspec": {
   "display_name": "python12",
   "language": "python",
   "name": "python3"
  },
  "language_info": {
   "codemirror_mode": {
    "name": "ipython",
    "version": 3
   },
   "file_extension": ".py",
   "mimetype": "text/x-python",
   "name": "python",
   "nbconvert_exporter": "python",
   "pygments_lexer": "ipython3",
   "version": "3.12.0"
  }
 },
 "nbformat": 4,
 "nbformat_minor": 2
}
