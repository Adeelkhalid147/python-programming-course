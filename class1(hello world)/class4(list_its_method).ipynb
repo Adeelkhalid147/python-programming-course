{
 "cells": [
  {
   "cell_type": "code",
   "execution_count": null,
   "metadata": {},
   "outputs": [],
   "source": []
  },
  {
   "cell_type": "markdown",
   "metadata": {},
   "source": [
    "# List\n",
    "* dynamic length  (unlimited length)\n",
    "* hetrogenous data types (Multiple type store)\n",
    "* index\n",
    "   * positive 0 to n-1\n",
    "   * negative -1 to length\n",
    "* Slicing\n",
    "  * variable `names[start:end:step]`\n",
    "  * start : int = include\n",
    "  * end : int = n-1\n",
    "  * step : int = sequance (numeric value)\n"
   ]
  },
  {
   "cell_type": "code",
   "execution_count": 1,
   "metadata": {},
   "outputs": [
    {
     "name": "stdout",
     "output_type": "stream",
     "text": [
      "adeel\n",
      "adeel\n"
     ]
    }
   ],
   "source": [
    "# old method\n",
    "names = [\"adeel\", \"khalid\", \"Ansari\"]\n",
    "\n",
    "print(names[0])  # adeel\n",
    "print(names[-3]) # adeel\n"
   ]
  },
  {
   "cell_type": "code",
   "execution_count": 11,
   "metadata": {},
   "outputs": [
    {
     "name": "stdout",
     "output_type": "stream",
     "text": [
      "<class 'list'>\n",
      "<class 'str'>\n",
      "Founder of Abc KHALID\n"
     ]
    }
   ],
   "source": [
    "# new method\n",
    "from typing import Any\n",
    "\n",
    "#->                      0        1          2\n",
    "names : list[Any] = [\"adeel\", \"khalid\", \"Ansari\"]\n",
    "#<-                     -3        -2         -1\n",
    "\n",
    "\n",
    "print(type(names)) # type of name variable list h\n",
    "print(type(names[-2])) # list mai se koi ak niklen gy to us k jo type ho gey wo show kre ga\n",
    "print(f'Founder of Abc {names[-2].upper()}')"
   ]
  },
  {
   "cell_type": "code",
   "execution_count": 12,
   "metadata": {},
   "outputs": [
    {
     "name": "stdout",
     "output_type": "stream",
     "text": [
      "['A', 'B', 'C', 'D', 'E', 'F', 'G', 'H', 'I', 'J', 'K', 'L', 'M', 'N']\n"
     ]
    }
   ],
   "source": [
    "characters : list[str] = list(\"ABCDEFGHIJKLMN\")\n",
    "\n",
    "print(characters)"
   ]
  },
  {
   "cell_type": "code",
   "execution_count": 17,
   "metadata": {},
   "outputs": [
    {
     "name": "stdout",
     "output_type": "stream",
     "text": [
      "['A', 'B']\n",
      "['A', 'B']\n",
      "['A', 'B']\n",
      "['A', 'B']\n"
     ]
    }
   ],
   "source": [
    "characters : list[str] = ['A', 'B', 'C', 'D', 'E', 'F', 'G', 'H', 'I', 'J', 'K', 'L']\n",
    "\n",
    "# default slicing go from left to right\n",
    "print(characters[0:2])  # 0 = include : 2-1 = 1\n",
    "print(characters[:2])  # not pass any number = all\n",
    "print(characters[-12:-10])\n",
    "print(characters[0:2:1]) \n"
   ]
  },
  {
   "cell_type": "code",
   "execution_count": 19,
   "metadata": {},
   "outputs": [
    {
     "name": "stdout",
     "output_type": "stream",
     "text": [
      "['A', 'B', 'C', 'D', 'E', 'F', 'G', 'H', 'I', 'J', 'K', 'L']\n",
      "['A', 'C', 'E', 'G', 'I', 'K']\n"
     ]
    }
   ],
   "source": [
    "characters : list[str] = ['A', 'B', 'C', 'D', 'E', 'F', 'G', 'H', 'I', 'J', 'K', 'L']\n",
    "\n",
    "print(characters[::])\n",
    "print(characters[::2])\n"
   ]
  },
  {
   "cell_type": "code",
   "execution_count": 20,
   "metadata": {},
   "outputs": [
    {
     "name": "stdout",
     "output_type": "stream",
     "text": [
      "['L', 'K', 'J', 'I', 'H', 'G', 'F', 'E', 'D', 'C', 'B', 'A']\n"
     ]
    }
   ],
   "source": [
    "characters : list[str] = ['A', 'B', 'C', 'D', 'E', 'F', 'G', 'H', 'I', 'J', 'K', 'L']\n",
    "\n",
    "print(characters[::-1])"
   ]
  },
  {
   "cell_type": "code",
   "execution_count": 21,
   "metadata": {},
   "outputs": [
    {
     "name": "stdout",
     "output_type": "stream",
     "text": [
      "['B', 'C', 'D', 'E', 'F', 'G', 'H', 'I']\n"
     ]
    }
   ],
   "source": [
    "characters : list[str] = ['A', 'B', 'C', 'D', 'E', 'F', 'G', 'H', 'I', 'J', 'K', 'L']\n",
    "\n",
    "print(characters[1:-3])"
   ]
  },
  {
   "cell_type": "code",
   "execution_count": 22,
   "metadata": {},
   "outputs": [
    {
     "ename": "IndentationError",
     "evalue": "unexpected indent (2396530063.py, line 2)",
     "output_type": "error",
     "traceback": [
      "\u001b[1;36m  Cell \u001b[1;32mIn[22], line 2\u001b[1;36m\u001b[0m\n\u001b[1;33m    print(characters[-1:-5])\u001b[0m\n\u001b[1;37m    ^\u001b[0m\n\u001b[1;31mIndentationError\u001b[0m\u001b[1;31m:\u001b[0m unexpected indent\n"
     ]
    }
   ],
   "source": [
    "characters : list[str] = ['A', 'B', 'C', 'D', 'E', 'F', 'G', 'H', 'I', 'J', 'K', 'L']\n",
    " print(characters[-1:-5])"
   ]
  },
  {
   "cell_type": "markdown",
   "metadata": {},
   "source": [
    "# List Methods"
   ]
  },
  {
   "cell_type": "code",
   "execution_count": 28,
   "metadata": {},
   "outputs": [
    {
     "data": {
      "text/plain": [
       "['append',\n",
       " 'clear',\n",
       " 'copy',\n",
       " 'count',\n",
       " 'extend',\n",
       " 'index',\n",
       " 'insert',\n",
       " 'pop',\n",
       " 'remove',\n",
       " 'reverse',\n",
       " 'sort']"
      ]
     },
     "execution_count": 28,
     "metadata": {},
     "output_type": "execute_result"
    }
   ],
   "source": [
    "[i for i in dir(list) if \"_\" not in i]"
   ]
  },
  {
   "cell_type": "markdown",
   "metadata": {},
   "source": [
    "# Help\n",
    "* help(object)\n",
    "* object?\n",
    "* object??\n",
    "* ?object\n",
    "* ??object\n"
   ]
  },
  {
   "cell_type": "code",
   "execution_count": 29,
   "metadata": {},
   "outputs": [
    {
     "name": "stdout",
     "output_type": "stream",
     "text": [
      "Help on built-in function print in module builtins:\n",
      "\n",
      "print(*args, sep=' ', end='\\n', file=None, flush=False)\n",
      "    Prints the values to a stream, or to sys.stdout by default.\n",
      "\n",
      "    sep\n",
      "      string inserted between values, default a space.\n",
      "    end\n",
      "      string appended after the last value, default a newline.\n",
      "    file\n",
      "      a file-like object (stream); defaults to the current sys.stdout.\n",
      "    flush\n",
      "      whether to forcibly flush the stream.\n",
      "\n"
     ]
    }
   ],
   "source": [
    "# 1st method of help\n",
    "help(print)"
   ]
  },
  {
   "cell_type": "code",
   "execution_count": 31,
   "metadata": {},
   "outputs": [
    {
     "name": "stdout",
     "output_type": "stream",
     "text": [
      "\u001b[1;31mSignature:\u001b[0m \u001b[0mprint\u001b[0m\u001b[1;33m(\u001b[0m\u001b[1;33m*\u001b[0m\u001b[0margs\u001b[0m\u001b[1;33m,\u001b[0m \u001b[0msep\u001b[0m\u001b[1;33m=\u001b[0m\u001b[1;34m' '\u001b[0m\u001b[1;33m,\u001b[0m \u001b[0mend\u001b[0m\u001b[1;33m=\u001b[0m\u001b[1;34m'\\n'\u001b[0m\u001b[1;33m,\u001b[0m \u001b[0mfile\u001b[0m\u001b[1;33m=\u001b[0m\u001b[1;32mNone\u001b[0m\u001b[1;33m,\u001b[0m \u001b[0mflush\u001b[0m\u001b[1;33m=\u001b[0m\u001b[1;32mFalse\u001b[0m\u001b[1;33m)\u001b[0m\u001b[1;33m\u001b[0m\u001b[1;33m\u001b[0m\u001b[0m\n",
      "\u001b[1;31mDocstring:\u001b[0m\n",
      "Prints the values to a stream, or to sys.stdout by default.\n",
      "\n",
      "sep\n",
      "  string inserted between values, default a space.\n",
      "end\n",
      "  string appended after the last value, default a newline.\n",
      "file\n",
      "  a file-like object (stream); defaults to the current sys.stdout.\n",
      "flush\n",
      "  whether to forcibly flush the stream.\n",
      "\u001b[1;31mType:\u001b[0m      builtin_function_or_method"
     ]
    }
   ],
   "source": [
    "# 2nd method of help\n",
    "print?\n",
    "print??"
   ]
  },
  {
   "cell_type": "code",
   "execution_count": 32,
   "metadata": {},
   "outputs": [
    {
     "name": "stdout",
     "output_type": "stream",
     "text": [
      "\u001b[1;31mSignature:\u001b[0m \u001b[0mprint\u001b[0m\u001b[1;33m(\u001b[0m\u001b[1;33m*\u001b[0m\u001b[0margs\u001b[0m\u001b[1;33m,\u001b[0m \u001b[0msep\u001b[0m\u001b[1;33m=\u001b[0m\u001b[1;34m' '\u001b[0m\u001b[1;33m,\u001b[0m \u001b[0mend\u001b[0m\u001b[1;33m=\u001b[0m\u001b[1;34m'\\n'\u001b[0m\u001b[1;33m,\u001b[0m \u001b[0mfile\u001b[0m\u001b[1;33m=\u001b[0m\u001b[1;32mNone\u001b[0m\u001b[1;33m,\u001b[0m \u001b[0mflush\u001b[0m\u001b[1;33m=\u001b[0m\u001b[1;32mFalse\u001b[0m\u001b[1;33m)\u001b[0m\u001b[1;33m\u001b[0m\u001b[1;33m\u001b[0m\u001b[0m\n",
      "\u001b[1;31mDocstring:\u001b[0m\n",
      "Prints the values to a stream, or to sys.stdout by default.\n",
      "\n",
      "sep\n",
      "  string inserted between values, default a space.\n",
      "end\n",
      "  string appended after the last value, default a newline.\n",
      "file\n",
      "  a file-like object (stream); defaults to the current sys.stdout.\n",
      "flush\n",
      "  whether to forcibly flush the stream.\n",
      "\u001b[1;31mType:\u001b[0m      builtin_function_or_method"
     ]
    }
   ],
   "source": [
    "# 3rd method of help\n",
    "\n",
    "print??"
   ]
  },
  {
   "cell_type": "code",
   "execution_count": 33,
   "metadata": {},
   "outputs": [
    {
     "name": "stdout",
     "output_type": "stream",
     "text": [
      "\u001b[1;31mSignature:\u001b[0m \u001b[0mprint\u001b[0m\u001b[1;33m(\u001b[0m\u001b[1;33m*\u001b[0m\u001b[0margs\u001b[0m\u001b[1;33m,\u001b[0m \u001b[0msep\u001b[0m\u001b[1;33m=\u001b[0m\u001b[1;34m' '\u001b[0m\u001b[1;33m,\u001b[0m \u001b[0mend\u001b[0m\u001b[1;33m=\u001b[0m\u001b[1;34m'\\n'\u001b[0m\u001b[1;33m,\u001b[0m \u001b[0mfile\u001b[0m\u001b[1;33m=\u001b[0m\u001b[1;32mNone\u001b[0m\u001b[1;33m,\u001b[0m \u001b[0mflush\u001b[0m\u001b[1;33m=\u001b[0m\u001b[1;32mFalse\u001b[0m\u001b[1;33m)\u001b[0m\u001b[1;33m\u001b[0m\u001b[1;33m\u001b[0m\u001b[0m\n",
      "\u001b[1;31mDocstring:\u001b[0m\n",
      "Prints the values to a stream, or to sys.stdout by default.\n",
      "\n",
      "sep\n",
      "  string inserted between values, default a space.\n",
      "end\n",
      "  string appended after the last value, default a newline.\n",
      "file\n",
      "  a file-like object (stream); defaults to the current sys.stdout.\n",
      "flush\n",
      "  whether to forcibly flush the stream.\n",
      "\u001b[1;31mType:\u001b[0m      builtin_function_or_method"
     ]
    }
   ],
   "source": [
    "# 4th method of help\n",
    "\n",
    "??print"
   ]
  },
  {
   "cell_type": "code",
   "execution_count": 26,
   "metadata": {},
   "outputs": [
    {
     "name": "stdout",
     "output_type": "stream",
     "text": [
      "['adeel', 'khalid', 'Ansari', True]\n",
      "['Muhammad Adeel', 'khalid', 'Ansari', True]\n"
     ]
    }
   ],
   "source": [
    "names : list[Any] = [\"adeel\", \"khalid\", \"Ansari\", True]\n",
    "\n",
    "print(names)\n",
    "names[0] = \"Muhammad Adeel\"  # mutable -> editable\n",
    "print(names)"
   ]
  },
  {
   "cell_type": "code",
   "execution_count": 27,
   "metadata": {},
   "outputs": [
    {
     "name": "stdout",
     "output_type": "stream",
     "text": [
      "['adeel', 'khalid', 'Ansari', 20, True]\n",
      "['adeel', 'khalid', 'Ansari', True]\n"
     ]
    }
   ],
   "source": [
    "names : list[Any] = [\"adeel\", \"khalid\", \"Ansari\", 20, True]\n",
    "\n",
    "print(names)\n",
    "del names[3]  # delete 20\n",
    "print(names)"
   ]
  },
  {
   "cell_type": "code",
   "execution_count": 49,
   "metadata": {},
   "outputs": [
    {
     "name": "stdout",
     "output_type": "stream",
     "text": [
      "['adeel', 'khalid', 'Ansari', 20, True]\n",
      "True\n"
     ]
    }
   ],
   "source": [
    "names : list[Any] = [\"adeel\", \"khalid\", \"Ansari\", 20, True]\n",
    "\n",
    "print(names)\n",
    "a : str = names.pop() # pop() method use hta h del krne k liye.by default last del ho ga\n",
    "print(a)\n"
   ]
  },
  {
   "cell_type": "code",
   "execution_count": 51,
   "metadata": {},
   "outputs": [
    {
     "name": "stdout",
     "output_type": "stream",
     "text": [
      "['adeel', 'khalid', 'Ansari', 20, True]\n",
      "adeel\n",
      "['khalid', 'Ansari', 20, True]\n"
     ]
    }
   ],
   "source": [
    "names : list[Any] = [\"adeel\", \"khalid\", \"Ansari\", 20, True]\n",
    "\n",
    "print(names)\n",
    "a : str = names.pop(0) # jo index number dn gy wo del ho ga\n",
    "print(a)\n",
    "print(names)"
   ]
  },
  {
   "cell_type": "code",
   "execution_count": 56,
   "metadata": {},
   "outputs": [
    {
     "name": "stdout",
     "output_type": "stream",
     "text": [
      "['a', 'b']\n",
      "['a', 'b', 'aadeel']\n",
      "['a', 'b', 'aadeel', 'kkhalid']\n",
      "['a', 'b', 'aadeel', 'kkhalid', 'aansari']\n"
     ]
    }
   ],
   "source": [
    "names : list[str] = [\"a\",\"b\"]\n",
    "print(names)\n",
    "names.append(\"aadeel\") # add element in last\n",
    "print(names)\n",
    "names.append(\"kkhalid\") # add element in last\n",
    "print(names)\n",
    "names.append(\"aansari\") # add element in last\n",
    "\n",
    "print(names)"
   ]
  },
  {
   "cell_type": "code",
   "execution_count": 58,
   "metadata": {},
   "outputs": [
    {
     "name": "stdout",
     "output_type": "stream",
     "text": [
      "['a', 'b', 'c', 'd']\n",
      "['a', 'b', 'add', 'c', 'd']\n"
     ]
    }
   ],
   "source": [
    "names : list[str] = ['a','b','c','d']\n",
    "print(names)\n",
    "\n",
    "names.insert(2, \"add\") # add value in any where in list\n",
    "print(names)"
   ]
  },
  {
   "cell_type": "code",
   "execution_count": 60,
   "metadata": {},
   "outputs": [
    {
     "name": "stdout",
     "output_type": "stream",
     "text": [
      "['a', 'b', 'c']\n",
      "[]\n"
     ]
    }
   ],
   "source": [
    "a : list[str] = ['a','b','c']\n",
    "print(a)\n",
    "a.clear() # remove all element in the variable. but the empty variable available but del remove variable\n",
    "print(a) "
   ]
  },
  {
   "cell_type": "code",
   "execution_count": 64,
   "metadata": {},
   "outputs": [
    {
     "name": "stdout",
     "output_type": "stream",
     "text": [
      "['a', 'b', 'c', 'd']\n",
      "['a', 'b', 'c', 'd']\n"
     ]
    }
   ],
   "source": [
    "# copy\n",
    "a : list[str] = ['a','b','c','d']\n",
    "b = a\n",
    "print(a)\n",
    "print(b)"
   ]
  },
  {
   "cell_type": "code",
   "execution_count": 65,
   "metadata": {},
   "outputs": [
    {
     "name": "stdout",
     "output_type": "stream",
     "text": [
      "['a', 'b', 'c', 'd']\n",
      "['a', 'b', 'c', 'd']\n",
      "['Pakistan', 'b', 'c', 'd']\n",
      "['Pakistan', 'b', 'c', 'd']\n"
     ]
    }
   ],
   "source": [
    "# copy\n",
    "a : list[str] = ['a','b','c','d']\n",
    "b = a  # shallow copy\n",
    "print(a)\n",
    "print(b)\n",
    "b[0] = 'Pakistan' # changes on both a and b\n",
    "print(a)\n",
    "print(b)"
   ]
  },
  {
   "cell_type": "code",
   "execution_count": 67,
   "metadata": {},
   "outputs": [
    {
     "name": "stdout",
     "output_type": "stream",
     "text": [
      "a ['a', 'b', 'c', 'd']\n",
      "b ['a', 'b', 'c', 'd']\n",
      "a ['a', 'b', 'c', 'd']\n",
      "b ['Pakistan', 'b', 'c', 'd']\n"
     ]
    }
   ],
   "source": [
    "# copy\n",
    "a : list[str] = ['a','b','c','d']\n",
    "b = a.copy()  # deep copy\n",
    "print(\"a\",a)\n",
    "print(\"b\",b)\n",
    "b[0] = 'Pakistan' # changes only in b variable\n",
    "print(\"a\",a)\n",
    "print(\"b\",b)"
   ]
  },
  {
   "cell_type": "code",
   "execution_count": 70,
   "metadata": {},
   "outputs": [
    {
     "name": "stdout",
     "output_type": "stream",
     "text": [
      "b 2\n",
      "d 3\n"
     ]
    }
   ],
   "source": [
    "# count\n",
    "names : list[str] = ['a','b','b','d','c','d','d']\n",
    "print(\"b\",names.count(\"b\")) # count kr k btae ga k b kitni dfa aya\n",
    "print(\"d\",names.count(\"d\")) # count kr k btae ga k d kitni dfa aya"
   ]
  },
  {
   "cell_type": "code",
   "execution_count": 74,
   "metadata": {},
   "outputs": [
    {
     "name": "stdout",
     "output_type": "stream",
     "text": [
      "['adeel', 'khalid', 'ansari']\n",
      "['adeel', 'khalid', 'ansari', ['1', '2', '3']]\n",
      "['adeel', 'khalid', 'ansari', '1', '2', '3']\n"
     ]
    }
   ],
   "source": [
    "# append and extend\n",
    "names : list[str] = [\"adeel\",\"khalid\",\"ansari\"]\n",
    "print(names)\n",
    "new_faculty_members : list[str] = ['1','2','3']\n",
    "names.append(new_faculty_members) # array list mai add ho gey\n",
    "print(names)\n",
    "new : list[str] = [\"adeel\",\"khalid\",\"ansari\"]\n",
    "new.extend(new_faculty_members) # ak ak element add kre ga\n",
    "print(new)\n"
   ]
  },
  {
   "cell_type": "code",
   "execution_count": 78,
   "metadata": {},
   "outputs": [
    {
     "name": "stdout",
     "output_type": "stream",
     "text": [
      "['adeel', 'khalid', 'ansari']\n",
      "['khalid', 'ansari']\n"
     ]
    }
   ],
   "source": [
    "# remove with text valus\n",
    "names : list[str] = ['adeel', 'khalid', 'ansari']\n",
    "print(names)\n",
    "names.remove(\"adeel\") # remove with text valus \n",
    "print(names)\n"
   ]
  },
  {
   "cell_type": "code",
   "execution_count": 82,
   "metadata": {},
   "outputs": [
    {
     "name": "stdout",
     "output_type": "stream",
     "text": [
      "['adeel', 'khalid', 'ansari']\n",
      "['adeel', 'khalid', 'ansari']\n"
     ]
    }
   ],
   "source": [
    "names : list[str] = ['adeel', 'khalid', 'ansari']\n",
    "print(names)\n",
    "names.index('adeel') # index number pta krne k liye kis index pe h\n",
    "print(names)"
   ]
  },
  {
   "cell_type": "code",
   "execution_count": 84,
   "metadata": {},
   "outputs": [
    {
     "name": "stdout",
     "output_type": "stream",
     "text": [
      "['1', '2', '3', '4']\n",
      "['4', '3', '2', '1']\n"
     ]
    }
   ],
   "source": [
    "names : list[str] = ['1', '2', '3','4']\n",
    "print(names)\n",
    "names.reverse() # in memory = changes real data\n",
    "print(names)\n"
   ]
  },
  {
   "cell_type": "code",
   "execution_count": 87,
   "metadata": {},
   "outputs": [
    {
     "name": "stdout",
     "output_type": "stream",
     "text": [
      "['1', '2', '3', '4', '9', '8']\n",
      "['1', '2', '3', '4', '8', '9']\n"
     ]
    }
   ],
   "source": [
    "names : list[str] = ['1', '2', '3','4','9','8']\n",
    "print(names)\n",
    "names.sort() # in memory = changes real data sort (Assending mai sort kre ga)\n",
    "print(names)"
   ]
  },
  {
   "cell_type": "code",
   "execution_count": 88,
   "metadata": {},
   "outputs": [
    {
     "name": "stdout",
     "output_type": "stream",
     "text": [
      "['1', '2', '3', '4', '9', '8']\n",
      "['9', '8', '4', '3', '2', '1']\n"
     ]
    }
   ],
   "source": [
    "names : list[str] = ['1', '2', '3','4','9','8']\n",
    "print(names)\n",
    "names.sort(reverse=True) # in memory = changes real data sort (Desending mai sort kre ga)\n",
    "print(names)"
   ]
  }
 ],
 "metadata": {
  "kernelspec": {
   "display_name": "python12",
   "language": "python",
   "name": "python3"
  },
  "language_info": {
   "codemirror_mode": {
    "name": "ipython",
    "version": 3
   },
   "file_extension": ".py",
   "mimetype": "text/x-python",
   "name": "python",
   "nbconvert_exporter": "python",
   "pygments_lexer": "ipython3",
   "version": "3.12.0"
  }
 },
 "nbformat": 4,
 "nbformat_minor": 2
}
