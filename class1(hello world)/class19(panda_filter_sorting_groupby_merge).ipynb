{
 "cells": [
  {
   "cell_type": "markdown",
   "metadata": {},
   "source": [
    "# panda\n",
    "* filter\n",
    "* sorting\n",
    "* groupby\n",
    "* mergr\n",
    "* useful method"
   ]
  },
  {
   "cell_type": "code",
   "execution_count": 36,
   "metadata": {},
   "outputs": [
    {
     "data": {
      "text/html": [
       "<div>\n",
       "<style scoped>\n",
       "    .dataframe tbody tr th:only-of-type {\n",
       "        vertical-align: middle;\n",
       "    }\n",
       "\n",
       "    .dataframe tbody tr th {\n",
       "        vertical-align: top;\n",
       "    }\n",
       "\n",
       "    .dataframe thead th {\n",
       "        text-align: right;\n",
       "    }\n",
       "</style>\n",
       "<table border=\"1\" class=\"dataframe\">\n",
       "  <thead>\n",
       "    <tr style=\"text-align: right;\">\n",
       "      <th></th>\n",
       "      <th>roll_no</th>\n",
       "      <th>name</th>\n",
       "      <th>father</th>\n",
       "      <th>course</th>\n",
       "      <th>date_of_admission</th>\n",
       "      <th>fee</th>\n",
       "    </tr>\n",
       "  </thead>\n",
       "  <tbody>\n",
       "    <tr>\n",
       "      <th>0</th>\n",
       "      <td>1</td>\n",
       "      <td>Alice</td>\n",
       "      <td>Bob</td>\n",
       "      <td>Physics</td>\n",
       "      <td>2023-01-10</td>\n",
       "      <td>10000</td>\n",
       "    </tr>\n",
       "    <tr>\n",
       "      <th>1</th>\n",
       "      <td>2</td>\n",
       "      <td>Brian</td>\n",
       "      <td>Steve</td>\n",
       "      <td>Chemistry</td>\n",
       "      <td>2023-02-12</td>\n",
       "      <td>11000</td>\n",
       "    </tr>\n",
       "    <tr>\n",
       "      <th>2</th>\n",
       "      <td>3</td>\n",
       "      <td>Chloe</td>\n",
       "      <td>Tim</td>\n",
       "      <td>Biology</td>\n",
       "      <td>2023-03-14</td>\n",
       "      <td>12000</td>\n",
       "    </tr>\n",
       "    <tr>\n",
       "      <th>3</th>\n",
       "      <td>4</td>\n",
       "      <td>David</td>\n",
       "      <td>Rick</td>\n",
       "      <td>Physics</td>\n",
       "      <td>2023-04-10</td>\n",
       "      <td>13000</td>\n",
       "    </tr>\n",
       "    <tr>\n",
       "      <th>4</th>\n",
       "      <td>5</td>\n",
       "      <td>Eva</td>\n",
       "      <td>John</td>\n",
       "      <td>Physics</td>\n",
       "      <td>2023-05-16</td>\n",
       "      <td>14000</td>\n",
       "    </tr>\n",
       "    <tr>\n",
       "      <th>5</th>\n",
       "      <td>6</td>\n",
       "      <td>Frank</td>\n",
       "      <td>Tom</td>\n",
       "      <td>Economics</td>\n",
       "      <td>2023-06-21</td>\n",
       "      <td>15000</td>\n",
       "    </tr>\n",
       "    <tr>\n",
       "      <th>6</th>\n",
       "      <td>7</td>\n",
       "      <td>Grace</td>\n",
       "      <td>Harry</td>\n",
       "      <td>History</td>\n",
       "      <td>2023-07-25</td>\n",
       "      <td>16000</td>\n",
       "    </tr>\n",
       "    <tr>\n",
       "      <th>7</th>\n",
       "      <td>8</td>\n",
       "      <td>Henry</td>\n",
       "      <td>Charles</td>\n",
       "      <td>Geography</td>\n",
       "      <td>2023-08-17</td>\n",
       "      <td>17000</td>\n",
       "    </tr>\n",
       "    <tr>\n",
       "      <th>8</th>\n",
       "      <td>9</td>\n",
       "      <td>Isabel</td>\n",
       "      <td>Oliver</td>\n",
       "      <td>English</td>\n",
       "      <td>2023-09-10</td>\n",
       "      <td>18000</td>\n",
       "    </tr>\n",
       "    <tr>\n",
       "      <th>9</th>\n",
       "      <td>10</td>\n",
       "      <td>Jack</td>\n",
       "      <td>Noah</td>\n",
       "      <td>Art</td>\n",
       "      <td>2023-10-05</td>\n",
       "      <td>19000</td>\n",
       "    </tr>\n",
       "  </tbody>\n",
       "</table>\n",
       "</div>"
      ],
      "text/plain": [
       "   roll_no    name   father     course date_of_admission    fee\n",
       "0        1   Alice      Bob    Physics        2023-01-10  10000\n",
       "1        2   Brian    Steve  Chemistry        2023-02-12  11000\n",
       "2        3   Chloe      Tim    Biology        2023-03-14  12000\n",
       "3        4   David     Rick    Physics        2023-04-10  13000\n",
       "4        5     Eva     John    Physics        2023-05-16  14000\n",
       "5        6   Frank      Tom  Economics        2023-06-21  15000\n",
       "6        7   Grace    Harry    History        2023-07-25  16000\n",
       "7        8   Henry  Charles  Geography        2023-08-17  17000\n",
       "8        9  Isabel   Oliver    English        2023-09-10  18000\n",
       "9       10    Jack     Noah        Art        2023-10-05  19000"
      ]
     },
     "metadata": {},
     "output_type": "display_data"
    },
    {
     "name": "stdout",
     "output_type": "stream",
     "text": [
      "roll_no                       int64\n",
      "name                         object\n",
      "father                       object\n",
      "course                       object\n",
      "date_of_admission    datetime64[ns]\n",
      "fee                           int64\n",
      "dtype: object\n"
     ]
    }
   ],
   "source": [
    "import pandas as pd\n",
    "from datetime import datetime\n",
    "\n",
    "student_data = [\n",
    "    {'roll_no': 1, 'name': 'Alice', 'father': 'Bob', 'course': 'Physics', 'date_of_admission': '2023-01-10', 'fee': 10000},\n",
    "    {'roll_no': 2, 'name': 'Brian', 'father': 'Steve', 'course': 'Chemistry', 'date_of_admission': '2023-02-12', 'fee': 11000},\n",
    "    {'roll_no': 3, 'name': 'Chloe', 'father': 'Tim', 'course': 'Biology', 'date_of_admission': '2023-03-14', 'fee': 12000},\n",
    "    {'roll_no': 4, 'name': 'David', 'father': 'Rick', 'course': 'Physics', 'date_of_admission': '2023-04-10', 'fee': 13000},\n",
    "    {'roll_no': 5, 'name': 'Eva', 'father': 'John', 'course': 'Physics', 'date_of_admission': '2023-05-16', 'fee': 14000},\n",
    "    {'roll_no': 6, 'name': 'Frank', 'father': 'Tom', 'course': 'Economics', 'date_of_admission': '2023-06-21', 'fee': 15000},\n",
    "    {'roll_no': 7, 'name': 'Grace', 'father': 'Harry', 'course': 'History', 'date_of_admission': '2023-07-25', 'fee': 16000},\n",
    "    {'roll_no': 8, 'name': 'Henry', 'father': 'Charles', 'course': 'Geography', 'date_of_admission': '2023-08-17', 'fee': 17000},\n",
    "    {'roll_no': 9, 'name': 'Isabel', 'father': 'Oliver', 'course': 'English', 'date_of_admission': '2023-09-10', 'fee': 18000},\n",
    "    {'roll_no': 10, 'name': 'Jack', 'father': 'Noah', 'course': 'Art', 'date_of_admission': '2023-10-05', 'fee': 19000},\n",
    "]\n",
    "\n",
    "# Create the DataFrame\n",
    "students_df : pd.DataFrame = pd.DataFrame(student_data)\n",
    "\n",
    "# Convert 'data_ofadmission' to datetime\n",
    "students_df['date_of_admission'] = pd.to_datetime(students_df['date_of_admission'])\n",
    "\n",
    "# Show the dataframe\n",
    "display(students_df)\n",
    "\n",
    "# Verify the data types\n",
    "print(students_df.dtypes)"
   ]
  },
  {
   "cell_type": "markdown",
   "metadata": {},
   "source": [
    "# apply the filter or filter functions on dataframe"
   ]
  },
  {
   "cell_type": "code",
   "execution_count": 8,
   "metadata": {},
   "outputs": [
    {
     "data": {
      "text/html": [
       "<div>\n",
       "<style scoped>\n",
       "    .dataframe tbody tr th:only-of-type {\n",
       "        vertical-align: middle;\n",
       "    }\n",
       "\n",
       "    .dataframe tbody tr th {\n",
       "        vertical-align: top;\n",
       "    }\n",
       "\n",
       "    .dataframe thead th {\n",
       "        text-align: right;\n",
       "    }\n",
       "</style>\n",
       "<table border=\"1\" class=\"dataframe\">\n",
       "  <thead>\n",
       "    <tr style=\"text-align: right;\">\n",
       "      <th></th>\n",
       "      <th>roll_no</th>\n",
       "      <th>name</th>\n",
       "      <th>father</th>\n",
       "      <th>course</th>\n",
       "      <th>date_of_admission</th>\n",
       "      <th>fee</th>\n",
       "    </tr>\n",
       "  </thead>\n",
       "  <tbody>\n",
       "    <tr>\n",
       "      <th>0</th>\n",
       "      <td>1</td>\n",
       "      <td>Alice</td>\n",
       "      <td>Bob</td>\n",
       "      <td>Physics</td>\n",
       "      <td>2023-01-10</td>\n",
       "      <td>10000</td>\n",
       "    </tr>\n",
       "  </tbody>\n",
       "</table>\n",
       "</div>"
      ],
      "text/plain": [
       "   roll_no   name father   course date_of_admission    fee\n",
       "0        1  Alice    Bob  Physics        2023-01-10  10000"
      ]
     },
     "execution_count": 8,
     "metadata": {},
     "output_type": "execute_result"
    }
   ],
   "source": [
    "students_df.head(1)"
   ]
  },
  {
   "cell_type": "code",
   "execution_count": 9,
   "metadata": {},
   "outputs": [
    {
     "data": {
      "text/plain": [
       "course\n",
       "Physics      3\n",
       "Chemistry    1\n",
       "Biology      1\n",
       "Economic     1\n",
       "History      1\n",
       "Geography    1\n",
       "English      1\n",
       "Art          1\n",
       "Name: count, dtype: int64"
      ]
     },
     "execution_count": 9,
     "metadata": {},
     "output_type": "execute_result"
    }
   ],
   "source": [
    "# course.value_counts() kitni dfa kon sa course prha ja rha h physic 3 dfa or baki sb 1 dfa\n",
    "# course.value_counts ksi b column pe lgya ja skta h\n",
    "students_df.course.value_counts()"
   ]
  },
  {
   "cell_type": "code",
   "execution_count": 10,
   "metadata": {},
   "outputs": [
    {
     "data": {
      "text/plain": [
       "course\n",
       "Physics      3\n",
       "Chemistry    1\n",
       "Biology      1\n",
       "Economic     1\n",
       "History      1\n",
       "Geography    1\n",
       "English      1\n",
       "Art          1\n",
       "Name: count, dtype: int64"
      ]
     },
     "execution_count": 10,
     "metadata": {},
     "output_type": "execute_result"
    }
   ],
   "source": [
    "# also count null cell values(khali cell b btae ga )\n",
    "\n",
    "students_df.course.value_counts(dropna=False) "
   ]
  },
  {
   "cell_type": "code",
   "execution_count": 12,
   "metadata": {},
   "outputs": [
    {
     "data": {
      "text/plain": [
       "course\n",
       "Physics      0.3\n",
       "Chemistry    0.1\n",
       "Biology      0.1\n",
       "Economic     0.1\n",
       "History      0.1\n",
       "Geography    0.1\n",
       "English      0.1\n",
       "Art          0.1\n",
       "Name: proportion, dtype: float64"
      ]
     },
     "execution_count": 12,
     "metadata": {},
     "output_type": "execute_result"
    }
   ],
   "source": [
    "# percentage mai btae ga kitne percent kon sa course hm krwa rhe hai\n",
    "\n",
    "students_df.course.value_counts(dropna=False,normalize=True) "
   ]
  },
  {
   "cell_type": "code",
   "execution_count": 13,
   "metadata": {},
   "outputs": [
    {
     "data": {
      "text/plain": [
       "course\n",
       "Physics      30.0\n",
       "Chemistry    10.0\n",
       "Biology      10.0\n",
       "Economic     10.0\n",
       "History      10.0\n",
       "Geography    10.0\n",
       "English      10.0\n",
       "Art          10.0\n",
       "Name: proportion, dtype: float64"
      ]
     },
     "execution_count": 13,
     "metadata": {},
     "output_type": "execute_result"
    }
   ],
   "source": [
    "students_df.course.value_counts(dropna=False,normalize=True)*100 "
   ]
  },
  {
   "cell_type": "code",
   "execution_count": 14,
   "metadata": {},
   "outputs": [
    {
     "data": {
      "text/html": [
       "<div>\n",
       "<style scoped>\n",
       "    .dataframe tbody tr th:only-of-type {\n",
       "        vertical-align: middle;\n",
       "    }\n",
       "\n",
       "    .dataframe tbody tr th {\n",
       "        vertical-align: top;\n",
       "    }\n",
       "\n",
       "    .dataframe thead th {\n",
       "        text-align: right;\n",
       "    }\n",
       "</style>\n",
       "<table border=\"1\" class=\"dataframe\">\n",
       "  <thead>\n",
       "    <tr style=\"text-align: right;\">\n",
       "      <th></th>\n",
       "      <th>roll_no</th>\n",
       "      <th>name</th>\n",
       "      <th>father</th>\n",
       "      <th>course</th>\n",
       "      <th>date_of_admission</th>\n",
       "      <th>fee</th>\n",
       "    </tr>\n",
       "  </thead>\n",
       "  <tbody>\n",
       "    <tr>\n",
       "      <th>0</th>\n",
       "      <td>1</td>\n",
       "      <td>Alice</td>\n",
       "      <td>Bob</td>\n",
       "      <td>Physics</td>\n",
       "      <td>2023-01-10</td>\n",
       "      <td>10000</td>\n",
       "    </tr>\n",
       "    <tr>\n",
       "      <th>1</th>\n",
       "      <td>2</td>\n",
       "      <td>Brian</td>\n",
       "      <td>Steve</td>\n",
       "      <td>Chemistry</td>\n",
       "      <td>2023-02-12</td>\n",
       "      <td>11000</td>\n",
       "    </tr>\n",
       "    <tr>\n",
       "      <th>2</th>\n",
       "      <td>3</td>\n",
       "      <td>Chloe</td>\n",
       "      <td>Tim</td>\n",
       "      <td>Biology</td>\n",
       "      <td>2023-03-14</td>\n",
       "      <td>12000</td>\n",
       "    </tr>\n",
       "    <tr>\n",
       "      <th>3</th>\n",
       "      <td>4</td>\n",
       "      <td>David</td>\n",
       "      <td>Rick</td>\n",
       "      <td>Physics</td>\n",
       "      <td>2023-04-10</td>\n",
       "      <td>13000</td>\n",
       "    </tr>\n",
       "    <tr>\n",
       "      <th>4</th>\n",
       "      <td>5</td>\n",
       "      <td>Eva</td>\n",
       "      <td>John</td>\n",
       "      <td>Physics</td>\n",
       "      <td>2023-05-16</td>\n",
       "      <td>14000</td>\n",
       "    </tr>\n",
       "    <tr>\n",
       "      <th>5</th>\n",
       "      <td>6</td>\n",
       "      <td>Frank</td>\n",
       "      <td>Tom</td>\n",
       "      <td>Economic</td>\n",
       "      <td>2023-06-21</td>\n",
       "      <td>15000</td>\n",
       "    </tr>\n",
       "    <tr>\n",
       "      <th>6</th>\n",
       "      <td>7</td>\n",
       "      <td>Grace</td>\n",
       "      <td>Harry</td>\n",
       "      <td>History</td>\n",
       "      <td>2023-07-25</td>\n",
       "      <td>16000</td>\n",
       "    </tr>\n",
       "    <tr>\n",
       "      <th>7</th>\n",
       "      <td>8</td>\n",
       "      <td>Henry</td>\n",
       "      <td>Charles</td>\n",
       "      <td>Geography</td>\n",
       "      <td>2023-08-17</td>\n",
       "      <td>17000</td>\n",
       "    </tr>\n",
       "    <tr>\n",
       "      <th>8</th>\n",
       "      <td>9</td>\n",
       "      <td>Isabel</td>\n",
       "      <td>Oliver</td>\n",
       "      <td>English</td>\n",
       "      <td>2023-09-10</td>\n",
       "      <td>18000</td>\n",
       "    </tr>\n",
       "    <tr>\n",
       "      <th>9</th>\n",
       "      <td>10</td>\n",
       "      <td>Jack</td>\n",
       "      <td>Noah</td>\n",
       "      <td>Art</td>\n",
       "      <td>2023-10-05</td>\n",
       "      <td>19000</td>\n",
       "    </tr>\n",
       "  </tbody>\n",
       "</table>\n",
       "</div>"
      ],
      "text/plain": [
       "   roll_no    name   father     course date_of_admission    fee\n",
       "0        1   Alice      Bob    Physics        2023-01-10  10000\n",
       "1        2   Brian    Steve  Chemistry        2023-02-12  11000\n",
       "2        3   Chloe      Tim    Biology        2023-03-14  12000\n",
       "3        4   David     Rick    Physics        2023-04-10  13000\n",
       "4        5     Eva     John    Physics        2023-05-16  14000\n",
       "5        6   Frank      Tom   Economic        2023-06-21  15000\n",
       "6        7   Grace    Harry    History        2023-07-25  16000\n",
       "7        8   Henry  Charles  Geography        2023-08-17  17000\n",
       "8        9  Isabel   Oliver    English        2023-09-10  18000\n",
       "9       10    Jack     Noah        Art        2023-10-05  19000"
      ]
     },
     "execution_count": 14,
     "metadata": {},
     "output_type": "execute_result"
    }
   ],
   "source": [
    "students_df"
   ]
  },
  {
   "cell_type": "code",
   "execution_count": 18,
   "metadata": {},
   "outputs": [
    {
     "name": "stdout",
     "output_type": "stream",
     "text": [
      "          date   fee\n",
      "0   2023-01-01  1194\n",
      "1   2023-01-01  4525\n",
      "2   2023-01-01  2404\n",
      "3   2023-01-01  1544\n",
      "4   2023-01-03  3878\n",
      "..         ...   ...\n",
      "995 2023-11-30  3533\n",
      "996 2023-12-01  3467\n",
      "997 2023-12-01   581\n",
      "998 2023-12-01  1796\n",
      "999 2023-12-01  4200\n",
      "\n",
      "[1000 rows x 2 columns]\n"
     ]
    }
   ],
   "source": [
    "import pandas as pd\n",
    "import numpy as np\n",
    "from datetime import datetime, timedelta\n",
    "\n",
    "# Set a seed for reproducibility\n",
    "np.random.seed(0)\n",
    "\n",
    "# Define the number of transactions\n",
    "num_transactions = 1000\n",
    "\n",
    "# Generate random dates within the current year\n",
    "current_year = datetime.now().year\n",
    "start_date = datetime(current_year, 1, 1)\n",
    "end_date = datetime.now()\n",
    "\n",
    "# Generate a list of random dates within the year\n",
    "random_dates = [start_date + timedelta(days=np. random. randint(0, (end_date - start_date).days))\n",
    "for _ in range(num_transactions)]\n",
    "\n",
    "\n",
    "# Generate a list of random fee amounts\n",
    "random_fees = np.random.randint(low=1, high=5000, size=num_transactions)\n",
    "\n",
    "# Create the DataFrame\n",
    "fee_transactions = pd.DataFrame({\n",
    "'date': random_dates,\n",
    "'fee': random_fees\n",
    "})\n",
    "# Sort by date for readability\n",
    "fee_transactions.sort_values('date', inplace=True)\n",
    "\n",
    "\n",
    "# Reset index after sorting\n",
    "fee_transactions.reset_index(drop=True, inplace=True)\n",
    "\n",
    "print(fee_transactions)"
   ]
  },
  {
   "cell_type": "code",
   "execution_count": 19,
   "metadata": {},
   "outputs": [
    {
     "data": {
      "text/plain": [
       "0      (1000, 3000]\n",
       "1      (4000, 5000]\n",
       "2      (1000, 3000]\n",
       "3      (1000, 3000]\n",
       "4      (3000, 4000]\n",
       "           ...     \n",
       "995    (3000, 4000]\n",
       "996    (3000, 4000]\n",
       "997     (500, 1000]\n",
       "998    (1000, 3000]\n",
       "999    (4000, 5000]\n",
       "Name: fee, Length: 1000, dtype: category\n",
       "Categories (5, interval[int64, right]): [(1, 500] < (500, 1000] < (1000, 3000] < (3000, 4000] < (4000, 5000]]"
      ]
     },
     "execution_count": 19,
     "metadata": {},
     "output_type": "execute_result"
    }
   ],
   "source": [
    "pd.cut(fee_transactions.fee,[1,500,1000,3000,4000,5000])"
   ]
  },
  {
   "cell_type": "code",
   "execution_count": 20,
   "metadata": {},
   "outputs": [
    {
     "data": {
      "text/plain": [
       "fee\n",
       "(1000, 3000]    422\n",
       "(3000, 4000]    199\n",
       "(4000, 5000]    197\n",
       "(1, 500]        108\n",
       "(500, 1000]      74\n",
       "Name: count, dtype: int64"
      ]
     },
     "execution_count": 20,
     "metadata": {},
     "output_type": "execute_result"
    }
   ],
   "source": [
    "# kis count ya slab k transcution zyda ho ri hai\n",
    "\n",
    "pd.cut(fee_transactions.fee,[1,500,1000,3000,4000,5000]).value_counts()"
   ]
  },
  {
   "cell_type": "code",
   "execution_count": 22,
   "metadata": {},
   "outputs": [
    {
     "data": {
      "text/plain": [
       "fee\n",
       "(1000, 3000]    42.2\n",
       "(3000, 4000]    19.9\n",
       "(4000, 5000]    19.7\n",
       "(1, 500]        10.8\n",
       "(500, 1000]      7.4\n",
       "Name: proportion, dtype: float64"
      ]
     },
     "execution_count": 22,
     "metadata": {},
     "output_type": "execute_result"
    }
   ],
   "source": [
    "pd.cut(fee_transactions.fee,[1,500,1000,3000,4000,5000]).value_counts(normalize=True)*100"
   ]
  },
  {
   "cell_type": "code",
   "execution_count": 23,
   "metadata": {},
   "outputs": [
    {
     "data": {
      "text/plain": [
       "0                     NaN\n",
       "1        (4461.7, 4998.0]\n",
       "2      (1546.999, 2432.0]\n",
       "3                     NaN\n",
       "4        (3552.4, 4461.7]\n",
       "              ...        \n",
       "995      (2432.0, 3552.4]\n",
       "996      (2432.0, 3552.4]\n",
       "997                   NaN\n",
       "998    (1546.999, 2432.0]\n",
       "999      (3552.4, 4461.7]\n",
       "Name: fee, Length: 1000, dtype: category\n",
       "Categories (4, interval[float64, right]): [(1546.999, 2432.0] < (2432.0, 3552.4] < (3552.4, 4461.7] < (4461.7, 4998.0]]"
      ]
     },
     "execution_count": 23,
     "metadata": {},
     "output_type": "execute_result"
    }
   ],
   "source": [
    "pd.qcut(fee_transactions.fee,[0.3,0.5,0.7,0.9,1])"
   ]
  },
  {
   "cell_type": "code",
   "execution_count": 25,
   "metadata": {},
   "outputs": [
    {
     "data": {
      "text/plain": [
       "fee\n",
       "(13.999, 1547.0]    301\n",
       "(2432.0, 3552.4]    200\n",
       "(3552.4, 4461.7]    200\n",
       "(1547.0, 2432.0]    199\n",
       "(4461.7, 4998.0]    100\n",
       "Name: count, dtype: int64"
      ]
     },
     "execution_count": 25,
     "metadata": {},
     "output_type": "execute_result"
    }
   ],
   "source": [
    "pd.qcut(fee_transactions.fee,[0,0.3,0.5,0.7,0.9,1]).value_counts()"
   ]
  },
  {
   "cell_type": "code",
   "execution_count": 26,
   "metadata": {},
   "outputs": [
    {
     "data": {
      "text/plain": [
       "fee\n",
       "(13.999, 1547.0]    30.1\n",
       "(2432.0, 3552.4]    20.0\n",
       "(3552.4, 4461.7]    20.0\n",
       "(1547.0, 2432.0]    19.9\n",
       "(4461.7, 4998.0]    10.0\n",
       "Name: proportion, dtype: float64"
      ]
     },
     "execution_count": 26,
     "metadata": {},
     "output_type": "execute_result"
    }
   ],
   "source": [
    "pd.qcut(fee_transactions.fee,[0,0.3,0.5,0.7,0.9,1]).value_counts(normalize=True)*100"
   ]
  },
  {
   "cell_type": "code",
   "execution_count": 28,
   "metadata": {},
   "outputs": [
    {
     "data": {
      "text/html": [
       "<div>\n",
       "<style scoped>\n",
       "    .dataframe tbody tr th:only-of-type {\n",
       "        vertical-align: middle;\n",
       "    }\n",
       "\n",
       "    .dataframe tbody tr th {\n",
       "        vertical-align: top;\n",
       "    }\n",
       "\n",
       "    .dataframe thead th {\n",
       "        text-align: right;\n",
       "    }\n",
       "</style>\n",
       "<table border=\"1\" class=\"dataframe\">\n",
       "  <thead>\n",
       "    <tr style=\"text-align: right;\">\n",
       "      <th></th>\n",
       "      <th>roll_no</th>\n",
       "      <th>name</th>\n",
       "      <th>father</th>\n",
       "      <th>course</th>\n",
       "      <th>date_of_admission</th>\n",
       "      <th>fee</th>\n",
       "    </tr>\n",
       "  </thead>\n",
       "  <tbody>\n",
       "    <tr>\n",
       "      <th>0</th>\n",
       "      <td>1</td>\n",
       "      <td>Alice</td>\n",
       "      <td>Bob</td>\n",
       "      <td>Physics</td>\n",
       "      <td>2023-01-10</td>\n",
       "      <td>10000</td>\n",
       "    </tr>\n",
       "    <tr>\n",
       "      <th>1</th>\n",
       "      <td>2</td>\n",
       "      <td>Brian</td>\n",
       "      <td>Steve</td>\n",
       "      <td>Chemistry</td>\n",
       "      <td>2023-02-12</td>\n",
       "      <td>11000</td>\n",
       "    </tr>\n",
       "    <tr>\n",
       "      <th>2</th>\n",
       "      <td>3</td>\n",
       "      <td>Chloe</td>\n",
       "      <td>Tim</td>\n",
       "      <td>Biology</td>\n",
       "      <td>2023-03-14</td>\n",
       "      <td>12000</td>\n",
       "    </tr>\n",
       "    <tr>\n",
       "      <th>3</th>\n",
       "      <td>4</td>\n",
       "      <td>David</td>\n",
       "      <td>Rick</td>\n",
       "      <td>Physics</td>\n",
       "      <td>2023-04-10</td>\n",
       "      <td>13000</td>\n",
       "    </tr>\n",
       "    <tr>\n",
       "      <th>4</th>\n",
       "      <td>5</td>\n",
       "      <td>Eva</td>\n",
       "      <td>John</td>\n",
       "      <td>Physics</td>\n",
       "      <td>2023-05-16</td>\n",
       "      <td>14000</td>\n",
       "    </tr>\n",
       "  </tbody>\n",
       "</table>\n",
       "</div>"
      ],
      "text/plain": [
       "   roll_no   name father     course date_of_admission    fee\n",
       "0        1  Alice    Bob    Physics        2023-01-10  10000\n",
       "1        2  Brian  Steve  Chemistry        2023-02-12  11000\n",
       "2        3  Chloe    Tim    Biology        2023-03-14  12000\n",
       "3        4  David   Rick    Physics        2023-04-10  13000\n",
       "4        5    Eva   John    Physics        2023-05-16  14000"
      ]
     },
     "execution_count": 28,
     "metadata": {},
     "output_type": "execute_result"
    }
   ],
   "source": [
    "students_df.head()"
   ]
  },
  {
   "cell_type": "markdown",
   "metadata": {},
   "source": [
    "# filter on columns\n",
    "\n",
    "* & , | , ~\n",
    "syntex:```\n",
    "dataframe[(dataframe.column1=='value1') & (dataframe.column2=='value2)]\n",
    "```\n",
    "\n",
    "* string columns\n",
    "* numeric columns\n",
    "* datatime columns"
   ]
  },
  {
   "cell_type": "code",
   "execution_count": 29,
   "metadata": {},
   "outputs": [
    {
     "data": {
      "text/html": [
       "<div>\n",
       "<style scoped>\n",
       "    .dataframe tbody tr th:only-of-type {\n",
       "        vertical-align: middle;\n",
       "    }\n",
       "\n",
       "    .dataframe tbody tr th {\n",
       "        vertical-align: top;\n",
       "    }\n",
       "\n",
       "    .dataframe thead th {\n",
       "        text-align: right;\n",
       "    }\n",
       "</style>\n",
       "<table border=\"1\" class=\"dataframe\">\n",
       "  <thead>\n",
       "    <tr style=\"text-align: right;\">\n",
       "      <th></th>\n",
       "      <th>roll_no</th>\n",
       "      <th>name</th>\n",
       "      <th>father</th>\n",
       "      <th>course</th>\n",
       "      <th>date_of_admission</th>\n",
       "      <th>fee</th>\n",
       "    </tr>\n",
       "  </thead>\n",
       "  <tbody>\n",
       "    <tr>\n",
       "      <th>0</th>\n",
       "      <td>1</td>\n",
       "      <td>Alice</td>\n",
       "      <td>Bob</td>\n",
       "      <td>Physics</td>\n",
       "      <td>2023-01-10</td>\n",
       "      <td>10000</td>\n",
       "    </tr>\n",
       "    <tr>\n",
       "      <th>1</th>\n",
       "      <td>2</td>\n",
       "      <td>Brian</td>\n",
       "      <td>Steve</td>\n",
       "      <td>Chemistry</td>\n",
       "      <td>2023-02-12</td>\n",
       "      <td>11000</td>\n",
       "    </tr>\n",
       "    <tr>\n",
       "      <th>2</th>\n",
       "      <td>3</td>\n",
       "      <td>Chloe</td>\n",
       "      <td>Tim</td>\n",
       "      <td>Biology</td>\n",
       "      <td>2023-03-14</td>\n",
       "      <td>12000</td>\n",
       "    </tr>\n",
       "    <tr>\n",
       "      <th>3</th>\n",
       "      <td>4</td>\n",
       "      <td>David</td>\n",
       "      <td>Rick</td>\n",
       "      <td>Physics</td>\n",
       "      <td>2023-04-10</td>\n",
       "      <td>13000</td>\n",
       "    </tr>\n",
       "    <tr>\n",
       "      <th>4</th>\n",
       "      <td>5</td>\n",
       "      <td>Eva</td>\n",
       "      <td>John</td>\n",
       "      <td>Physics</td>\n",
       "      <td>2023-05-16</td>\n",
       "      <td>14000</td>\n",
       "    </tr>\n",
       "    <tr>\n",
       "      <th>5</th>\n",
       "      <td>6</td>\n",
       "      <td>Frank</td>\n",
       "      <td>Tom</td>\n",
       "      <td>Economic</td>\n",
       "      <td>2023-06-21</td>\n",
       "      <td>15000</td>\n",
       "    </tr>\n",
       "    <tr>\n",
       "      <th>6</th>\n",
       "      <td>7</td>\n",
       "      <td>Grace</td>\n",
       "      <td>Harry</td>\n",
       "      <td>History</td>\n",
       "      <td>2023-07-25</td>\n",
       "      <td>16000</td>\n",
       "    </tr>\n",
       "    <tr>\n",
       "      <th>7</th>\n",
       "      <td>8</td>\n",
       "      <td>Henry</td>\n",
       "      <td>Charles</td>\n",
       "      <td>Geography</td>\n",
       "      <td>2023-08-17</td>\n",
       "      <td>17000</td>\n",
       "    </tr>\n",
       "    <tr>\n",
       "      <th>8</th>\n",
       "      <td>9</td>\n",
       "      <td>Isabel</td>\n",
       "      <td>Oliver</td>\n",
       "      <td>English</td>\n",
       "      <td>2023-09-10</td>\n",
       "      <td>18000</td>\n",
       "    </tr>\n",
       "    <tr>\n",
       "      <th>9</th>\n",
       "      <td>10</td>\n",
       "      <td>Jack</td>\n",
       "      <td>Noah</td>\n",
       "      <td>Art</td>\n",
       "      <td>2023-10-05</td>\n",
       "      <td>19000</td>\n",
       "    </tr>\n",
       "  </tbody>\n",
       "</table>\n",
       "</div>"
      ],
      "text/plain": [
       "   roll_no    name   father     course date_of_admission    fee\n",
       "0        1   Alice      Bob    Physics        2023-01-10  10000\n",
       "1        2   Brian    Steve  Chemistry        2023-02-12  11000\n",
       "2        3   Chloe      Tim    Biology        2023-03-14  12000\n",
       "3        4   David     Rick    Physics        2023-04-10  13000\n",
       "4        5     Eva     John    Physics        2023-05-16  14000\n",
       "5        6   Frank      Tom   Economic        2023-06-21  15000\n",
       "6        7   Grace    Harry    History        2023-07-25  16000\n",
       "7        8   Henry  Charles  Geography        2023-08-17  17000\n",
       "8        9  Isabel   Oliver    English        2023-09-10  18000\n",
       "9       10    Jack     Noah        Art        2023-10-05  19000"
      ]
     },
     "execution_count": 29,
     "metadata": {},
     "output_type": "execute_result"
    }
   ],
   "source": [
    "students_df.head(10)"
   ]
  },
  {
   "cell_type": "code",
   "execution_count": 32,
   "metadata": {},
   "outputs": [
    {
     "data": {
      "text/html": [
       "<div>\n",
       "<style scoped>\n",
       "    .dataframe tbody tr th:only-of-type {\n",
       "        vertical-align: middle;\n",
       "    }\n",
       "\n",
       "    .dataframe tbody tr th {\n",
       "        vertical-align: top;\n",
       "    }\n",
       "\n",
       "    .dataframe thead th {\n",
       "        text-align: right;\n",
       "    }\n",
       "</style>\n",
       "<table border=\"1\" class=\"dataframe\">\n",
       "  <thead>\n",
       "    <tr style=\"text-align: right;\">\n",
       "      <th></th>\n",
       "      <th>roll_no</th>\n",
       "      <th>name</th>\n",
       "      <th>father</th>\n",
       "      <th>course</th>\n",
       "      <th>date_of_admission</th>\n",
       "      <th>fee</th>\n",
       "    </tr>\n",
       "  </thead>\n",
       "  <tbody>\n",
       "    <tr>\n",
       "      <th>0</th>\n",
       "      <td>1</td>\n",
       "      <td>Alice</td>\n",
       "      <td>Bob</td>\n",
       "      <td>Physics</td>\n",
       "      <td>2023-01-10</td>\n",
       "      <td>10000</td>\n",
       "    </tr>\n",
       "    <tr>\n",
       "      <th>3</th>\n",
       "      <td>4</td>\n",
       "      <td>David</td>\n",
       "      <td>Rick</td>\n",
       "      <td>Physics</td>\n",
       "      <td>2023-04-10</td>\n",
       "      <td>13000</td>\n",
       "    </tr>\n",
       "    <tr>\n",
       "      <th>4</th>\n",
       "      <td>5</td>\n",
       "      <td>Eva</td>\n",
       "      <td>John</td>\n",
       "      <td>Physics</td>\n",
       "      <td>2023-05-16</td>\n",
       "      <td>14000</td>\n",
       "    </tr>\n",
       "  </tbody>\n",
       "</table>\n",
       "</div>"
      ],
      "text/plain": [
       "   roll_no   name father   course date_of_admission    fee\n",
       "0        1  Alice    Bob  Physics        2023-01-10  10000\n",
       "3        4  David   Rick  Physics        2023-04-10  13000\n",
       "4        5    Eva   John  Physics        2023-05-16  14000"
      ]
     },
     "execution_count": 32,
     "metadata": {},
     "output_type": "execute_result"
    }
   ],
   "source": [
    "# akela koi ak subject niklna ho jse k physic niklna h to \n",
    "\n",
    "students_df[students_df['course']=='Physics']"
   ]
  },
  {
   "cell_type": "code",
   "execution_count": 37,
   "metadata": {},
   "outputs": [
    {
     "data": {
      "text/html": [
       "<div>\n",
       "<style scoped>\n",
       "    .dataframe tbody tr th:only-of-type {\n",
       "        vertical-align: middle;\n",
       "    }\n",
       "\n",
       "    .dataframe tbody tr th {\n",
       "        vertical-align: top;\n",
       "    }\n",
       "\n",
       "    .dataframe thead th {\n",
       "        text-align: right;\n",
       "    }\n",
       "</style>\n",
       "<table border=\"1\" class=\"dataframe\">\n",
       "  <thead>\n",
       "    <tr style=\"text-align: right;\">\n",
       "      <th></th>\n",
       "      <th>roll_no</th>\n",
       "      <th>name</th>\n",
       "      <th>father</th>\n",
       "      <th>course</th>\n",
       "      <th>date_of_admission</th>\n",
       "      <th>fee</th>\n",
       "    </tr>\n",
       "  </thead>\n",
       "  <tbody>\n",
       "    <tr>\n",
       "      <th>0</th>\n",
       "      <td>1</td>\n",
       "      <td>Alice</td>\n",
       "      <td>Bob</td>\n",
       "      <td>Physics</td>\n",
       "      <td>2023-01-10</td>\n",
       "      <td>10000</td>\n",
       "    </tr>\n",
       "    <tr>\n",
       "      <th>3</th>\n",
       "      <td>4</td>\n",
       "      <td>David</td>\n",
       "      <td>Rick</td>\n",
       "      <td>Physics</td>\n",
       "      <td>2023-04-10</td>\n",
       "      <td>13000</td>\n",
       "    </tr>\n",
       "    <tr>\n",
       "      <th>4</th>\n",
       "      <td>5</td>\n",
       "      <td>Eva</td>\n",
       "      <td>John</td>\n",
       "      <td>Physics</td>\n",
       "      <td>2023-05-16</td>\n",
       "      <td>14000</td>\n",
       "    </tr>\n",
       "    <tr>\n",
       "      <th>5</th>\n",
       "      <td>6</td>\n",
       "      <td>Frank</td>\n",
       "      <td>Tom</td>\n",
       "      <td>Economics</td>\n",
       "      <td>2023-06-21</td>\n",
       "      <td>15000</td>\n",
       "    </tr>\n",
       "  </tbody>\n",
       "</table>\n",
       "</div>"
      ],
      "text/plain": [
       "   roll_no   name father     course date_of_admission    fee\n",
       "0        1  Alice    Bob    Physics        2023-01-10  10000\n",
       "3        4  David   Rick    Physics        2023-04-10  13000\n",
       "4        5    Eva   John    Physics        2023-05-16  14000\n",
       "5        6  Frank    Tom  Economics        2023-06-21  15000"
      ]
     },
     "execution_count": 37,
     "metadata": {},
     "output_type": "execute_result"
    }
   ],
   "source": [
    "# jha jha cs likha ho ga wo sb le ae ga\n",
    "students_df[students_df['course'].str.lower().str.contains('cs')]"
   ]
  },
  {
   "cell_type": "code",
   "execution_count": 38,
   "metadata": {},
   "outputs": [
    {
     "data": {
      "text/html": [
       "<div>\n",
       "<style scoped>\n",
       "    .dataframe tbody tr th:only-of-type {\n",
       "        vertical-align: middle;\n",
       "    }\n",
       "\n",
       "    .dataframe tbody tr th {\n",
       "        vertical-align: top;\n",
       "    }\n",
       "\n",
       "    .dataframe thead th {\n",
       "        text-align: right;\n",
       "    }\n",
       "</style>\n",
       "<table border=\"1\" class=\"dataframe\">\n",
       "  <thead>\n",
       "    <tr style=\"text-align: right;\">\n",
       "      <th></th>\n",
       "      <th>roll_no</th>\n",
       "      <th>name</th>\n",
       "      <th>father</th>\n",
       "      <th>course</th>\n",
       "      <th>date_of_admission</th>\n",
       "      <th>fee</th>\n",
       "    </tr>\n",
       "  </thead>\n",
       "  <tbody>\n",
       "    <tr>\n",
       "      <th>4</th>\n",
       "      <td>5</td>\n",
       "      <td>Eva</td>\n",
       "      <td>John</td>\n",
       "      <td>Physics</td>\n",
       "      <td>2023-05-16</td>\n",
       "      <td>14000</td>\n",
       "    </tr>\n",
       "    <tr>\n",
       "      <th>5</th>\n",
       "      <td>6</td>\n",
       "      <td>Frank</td>\n",
       "      <td>Tom</td>\n",
       "      <td>Economics</td>\n",
       "      <td>2023-06-21</td>\n",
       "      <td>15000</td>\n",
       "    </tr>\n",
       "  </tbody>\n",
       "</table>\n",
       "</div>"
      ],
      "text/plain": [
       "   roll_no   name father     course date_of_admission    fee\n",
       "4        5    Eva   John    Physics        2023-05-16  14000\n",
       "5        6  Frank    Tom  Economics        2023-06-21  15000"
      ]
     },
     "execution_count": 38,
     "metadata": {},
     "output_type": "execute_result"
    }
   ],
   "source": [
    "# use multiple filters\n",
    "students_df[(students_df['course'].str.lower().str.contains('cs')) & (students_df['fee']>=14000)]"
   ]
  },
  {
   "cell_type": "code",
   "execution_count": 39,
   "metadata": {},
   "outputs": [
    {
     "data": {
      "text/html": [
       "<div>\n",
       "<style scoped>\n",
       "    .dataframe tbody tr th:only-of-type {\n",
       "        vertical-align: middle;\n",
       "    }\n",
       "\n",
       "    .dataframe tbody tr th {\n",
       "        vertical-align: top;\n",
       "    }\n",
       "\n",
       "    .dataframe thead th {\n",
       "        text-align: right;\n",
       "    }\n",
       "</style>\n",
       "<table border=\"1\" class=\"dataframe\">\n",
       "  <thead>\n",
       "    <tr style=\"text-align: right;\">\n",
       "      <th></th>\n",
       "      <th>roll_no</th>\n",
       "      <th>name</th>\n",
       "      <th>father</th>\n",
       "      <th>course</th>\n",
       "      <th>date_of_admission</th>\n",
       "      <th>fee</th>\n",
       "    </tr>\n",
       "  </thead>\n",
       "  <tbody>\n",
       "    <tr>\n",
       "      <th>0</th>\n",
       "      <td>1</td>\n",
       "      <td>Alice</td>\n",
       "      <td>Bob</td>\n",
       "      <td>Physics</td>\n",
       "      <td>2023-01-10</td>\n",
       "      <td>10000</td>\n",
       "    </tr>\n",
       "    <tr>\n",
       "      <th>1</th>\n",
       "      <td>2</td>\n",
       "      <td>Brian</td>\n",
       "      <td>Steve</td>\n",
       "      <td>Chemistry</td>\n",
       "      <td>2023-02-12</td>\n",
       "      <td>11000</td>\n",
       "    </tr>\n",
       "    <tr>\n",
       "      <th>3</th>\n",
       "      <td>4</td>\n",
       "      <td>David</td>\n",
       "      <td>Rick</td>\n",
       "      <td>Physics</td>\n",
       "      <td>2023-04-10</td>\n",
       "      <td>13000</td>\n",
       "    </tr>\n",
       "    <tr>\n",
       "      <th>4</th>\n",
       "      <td>5</td>\n",
       "      <td>Eva</td>\n",
       "      <td>John</td>\n",
       "      <td>Physics</td>\n",
       "      <td>2023-05-16</td>\n",
       "      <td>14000</td>\n",
       "    </tr>\n",
       "    <tr>\n",
       "      <th>5</th>\n",
       "      <td>6</td>\n",
       "      <td>Frank</td>\n",
       "      <td>Tom</td>\n",
       "      <td>Economics</td>\n",
       "      <td>2023-06-21</td>\n",
       "      <td>15000</td>\n",
       "    </tr>\n",
       "    <tr>\n",
       "      <th>6</th>\n",
       "      <td>7</td>\n",
       "      <td>Grace</td>\n",
       "      <td>Harry</td>\n",
       "      <td>History</td>\n",
       "      <td>2023-07-25</td>\n",
       "      <td>16000</td>\n",
       "    </tr>\n",
       "    <tr>\n",
       "      <th>7</th>\n",
       "      <td>8</td>\n",
       "      <td>Henry</td>\n",
       "      <td>Charles</td>\n",
       "      <td>Geography</td>\n",
       "      <td>2023-08-17</td>\n",
       "      <td>17000</td>\n",
       "    </tr>\n",
       "    <tr>\n",
       "      <th>9</th>\n",
       "      <td>10</td>\n",
       "      <td>Jack</td>\n",
       "      <td>Noah</td>\n",
       "      <td>Art</td>\n",
       "      <td>2023-10-05</td>\n",
       "      <td>19000</td>\n",
       "    </tr>\n",
       "  </tbody>\n",
       "</table>\n",
       "</div>"
      ],
      "text/plain": [
       "   roll_no   name   father     course date_of_admission    fee\n",
       "0        1  Alice      Bob    Physics        2023-01-10  10000\n",
       "1        2  Brian    Steve  Chemistry        2023-02-12  11000\n",
       "3        4  David     Rick    Physics        2023-04-10  13000\n",
       "4        5    Eva     John    Physics        2023-05-16  14000\n",
       "5        6  Frank      Tom  Economics        2023-06-21  15000\n",
       "6        7  Grace    Harry    History        2023-07-25  16000\n",
       "7        8  Henry  Charles  Geography        2023-08-17  17000\n",
       "9       10   Jack     Noah        Art        2023-10-05  19000"
      ]
     },
     "execution_count": 39,
     "metadata": {},
     "output_type": "execute_result"
    }
   ],
   "source": [
    "students_df[students_df['course'].str.lower().str.contains(\"cs\") | students_df['course'].str.lower().str.contains(\"r\")]"
   ]
  },
  {
   "cell_type": "markdown",
   "metadata": {},
   "source": [
    "# apply filter on data column\n",
    "* dataframe.column.dt"
   ]
  },
  {
   "cell_type": "code",
   "execution_count": 41,
   "metadata": {},
   "outputs": [
    {
     "data": {
      "text/plain": [
       "0   2023-01-10\n",
       "1   2023-02-12\n",
       "2   2023-03-14\n",
       "3   2023-04-10\n",
       "4   2023-05-16\n",
       "5   2023-06-21\n",
       "6   2023-07-25\n",
       "7   2023-08-17\n",
       "8   2023-09-10\n",
       "9   2023-10-05\n",
       "Name: date_of_admission, dtype: datetime64[ns]"
      ]
     },
     "execution_count": 41,
     "metadata": {},
     "output_type": "execute_result"
    }
   ],
   "source": [
    "students_df['date_of_admission']"
   ]
  },
  {
   "cell_type": "code",
   "execution_count": 43,
   "metadata": {},
   "outputs": [
    {
     "data": {
      "text/plain": [
       "['ceil',\n",
       " 'date',\n",
       " 'day',\n",
       " 'dayofweek',\n",
       " 'dayofyear',\n",
       " 'daysinmonth',\n",
       " 'floor',\n",
       " 'freq',\n",
       " 'hour',\n",
       " 'isocalendar',\n",
       " 'microsecond',\n",
       " 'minute',\n",
       " 'month',\n",
       " 'nanosecond',\n",
       " 'normalize',\n",
       " 'quarter',\n",
       " 'round',\n",
       " 'second',\n",
       " 'strftime',\n",
       " 'time',\n",
       " 'timetz',\n",
       " 'tz',\n",
       " 'unit',\n",
       " 'weekday',\n",
       " 'year']"
      ]
     },
     "execution_count": 43,
     "metadata": {},
     "output_type": "execute_result"
    }
   ],
   "source": [
    "[i for i in dir(students_df['date_of_admission'].dt) if \"_\" not in i]"
   ]
  },
  {
   "cell_type": "code",
   "execution_count": 45,
   "metadata": {},
   "outputs": [
    {
     "data": {
      "text/plain": [
       "0    1\n",
       "1    6\n",
       "2    1\n",
       "3    0\n",
       "4    1\n",
       "5    2\n",
       "6    1\n",
       "7    3\n",
       "8    6\n",
       "9    3\n",
       "Name: date_of_admission, dtype: int32"
      ]
     },
     "execution_count": 45,
     "metadata": {},
     "output_type": "execute_result"
    }
   ],
   "source": [
    "students_df['date_of_admission'].dt.year\n",
    "students_df['date_of_admission'].dt.month\n",
    "students_df['date_of_admission'].dt.day\n",
    "students_df['date_of_admission'].dt.weekday\n",
    "students_df['date_of_admission'].dt. "
   ]
  },
  {
   "cell_type": "code",
   "execution_count": null,
   "metadata": {},
   "outputs": [],
   "source": []
  },
  {
   "cell_type": "code",
   "execution_count": null,
   "metadata": {},
   "outputs": [],
   "source": []
  },
  {
   "cell_type": "code",
   "execution_count": null,
   "metadata": {},
   "outputs": [],
   "source": []
  },
  {
   "cell_type": "code",
   "execution_count": null,
   "metadata": {},
   "outputs": [],
   "source": []
  },
  {
   "cell_type": "code",
   "execution_count": null,
   "metadata": {},
   "outputs": [],
   "source": []
  },
  {
   "cell_type": "code",
   "execution_count": null,
   "metadata": {},
   "outputs": [],
   "source": []
  },
  {
   "cell_type": "code",
   "execution_count": null,
   "metadata": {},
   "outputs": [],
   "source": []
  }
 ],
 "metadata": {
  "kernelspec": {
   "display_name": "python12",
   "language": "python",
   "name": "python3"
  },
  "language_info": {
   "codemirror_mode": {
    "name": "ipython",
    "version": 3
   },
   "file_extension": ".py",
   "mimetype": "text/x-python",
   "name": "python",
   "nbconvert_exporter": "python",
   "pygments_lexer": "ipython3",
   "version": "3.12.0"
  }
 },
 "nbformat": 4,
 "nbformat_minor": 2
}
