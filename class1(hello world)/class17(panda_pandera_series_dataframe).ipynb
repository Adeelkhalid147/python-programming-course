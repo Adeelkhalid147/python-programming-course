{
 "cells": [
  {
   "cell_type": "code",
   "execution_count": 3,
   "metadata": {},
   "outputs": [],
   "source": [
    "import pandas as pd\n",
    "import pandera as pa"
   ]
  },
  {
   "cell_type": "code",
   "execution_count": 1,
   "metadata": {},
   "outputs": [
    {
     "name": "stdout",
     "output_type": "stream",
     "text": [
      "Collecting panderaNote: you may need to restart the kernel to use updated packages.\n",
      "\n",
      "  Obtaining dependency information for pandera from https://files.pythonhosted.org/packages/04/f8/e00c7a27b5a7c13bc51baa8f75f4c55d8fa2549ff96402699ac56b864d6d/pandera-0.17.2-py3-none-any.whl.metadata\n",
      "  Downloading pandera-0.17.2-py3-none-any.whl.metadata (15 kB)\n",
      "Collecting multimethod (from pandera)\n",
      "  Obtaining dependency information for multimethod from https://files.pythonhosted.org/packages/7f/bd/750245e47e7f307d9f94d4fa84727f4ed9956005dfa671d58be1d531a0f6/multimethod-1.10-py3-none-any.whl.metadata\n",
      "  Downloading multimethod-1.10-py3-none-any.whl.metadata (8.2 kB)\n",
      "Requirement already satisfied: numpy>=1.19.0 in c:\\users\\adeel\\.conda\\envs\\python12\\lib\\site-packages (from pandera) (1.26.1)\n",
      "Requirement already satisfied: packaging>=20.0 in c:\\users\\adeel\\.conda\\envs\\python12\\lib\\site-packages (from pandera) (23.2)\n",
      "Requirement already satisfied: pandas>=1.2.0 in c:\\users\\adeel\\.conda\\envs\\python12\\lib\\site-packages (from pandera) (2.1.1)\n",
      "Collecting pydantic (from pandera)\n",
      "  Obtaining dependency information for pydantic from https://files.pythonhosted.org/packages/73/66/0a72c9fcde42e5650c8d8d5c5c1873b9a3893018020c77ca8eb62708b923/pydantic-2.4.2-py3-none-any.whl.metadata\n",
      "  Downloading pydantic-2.4.2-py3-none-any.whl.metadata (158 kB)\n",
      "     ---------------------------------------- 0.0/158.6 kB ? eta -:--:--\n",
      "     ---------------------------------------- 0.0/158.6 kB ? eta -:--:--\n",
      "     ---------------------------------------- 0.0/158.6 kB ? eta -:--:--\n",
      "     ---------- ----------------------------- 41.0/158.6 kB ? eta -:--:--\n",
      "     --------------- ----------------------- 61.4/158.6 kB 3.2 MB/s eta 0:00:01\n",
      "     --------------------- --------------- 92.2/158.6 kB 871.5 kB/s eta 0:00:01\n",
      "     -------------------------------- --- 143.4/158.6 kB 853.3 kB/s eta 0:00:01\n",
      "     ------------------------------------ 158.6/158.6 kB 731.0 kB/s eta 0:00:00\n",
      "Collecting typeguard>=3.0.2 (from pandera)\n",
      "  Obtaining dependency information for typeguard>=3.0.2 from https://files.pythonhosted.org/packages/18/01/5fc45558268ced46d86292763477996a3cdd505567cd590a688e8cdc386e/typeguard-4.1.5-py3-none-any.whl.metadata\n",
      "  Downloading typeguard-4.1.5-py3-none-any.whl.metadata (3.7 kB)\n",
      "Collecting typing-inspect>=0.6.0 (from pandera)\n",
      "  Obtaining dependency information for typing-inspect>=0.6.0 from https://files.pythonhosted.org/packages/65/f3/107a22063bf27bdccf2024833d3445f4eea42b2e598abfbd46f6a63b6cb0/typing_inspect-0.9.0-py3-none-any.whl.metadata\n",
      "  Downloading typing_inspect-0.9.0-py3-none-any.whl.metadata (1.5 kB)\n",
      "Collecting wrapt (from pandera)\n",
      "  Obtaining dependency information for wrapt from https://files.pythonhosted.org/packages/5c/cc/8297f9658506b224aa4bd71906447dea6bb0ba629861a758c28f67428b91/wrapt-1.16.0-cp312-cp312-win_amd64.whl.metadata\n",
      "  Downloading wrapt-1.16.0-cp312-cp312-win_amd64.whl.metadata (6.8 kB)\n",
      "Requirement already satisfied: python-dateutil>=2.8.2 in c:\\users\\adeel\\.conda\\envs\\python12\\lib\\site-packages (from pandas>=1.2.0->pandera) (2.8.2)\n",
      "Requirement already satisfied: pytz>=2020.1 in c:\\users\\adeel\\.conda\\envs\\python12\\lib\\site-packages (from pandas>=1.2.0->pandera) (2023.3.post1)\n",
      "Requirement already satisfied: tzdata>=2022.1 in c:\\users\\adeel\\.conda\\envs\\python12\\lib\\site-packages (from pandas>=1.2.0->pandera) (2023.3)\n",
      "Requirement already satisfied: mypy-extensions>=0.3.0 in c:\\users\\adeel\\.conda\\envs\\python12\\lib\\site-packages (from typing-inspect>=0.6.0->pandera) (1.0.0)\n",
      "Requirement already satisfied: typing-extensions>=3.7.4 in c:\\users\\adeel\\.conda\\envs\\python12\\lib\\site-packages (from typing-inspect>=0.6.0->pandera) (4.8.0)\n",
      "Collecting annotated-types>=0.4.0 (from pydantic->pandera)\n",
      "  Obtaining dependency information for annotated-types>=0.4.0 from https://files.pythonhosted.org/packages/28/78/d31230046e58c207284c6b2c4e8d96e6d3cb4e52354721b944d3e1ee4aa5/annotated_types-0.6.0-py3-none-any.whl.metadata\n",
      "  Downloading annotated_types-0.6.0-py3-none-any.whl.metadata (12 kB)\n",
      "Collecting pydantic-core==2.10.1 (from pydantic->pandera)\n",
      "  Obtaining dependency information for pydantic-core==2.10.1 from https://files.pythonhosted.org/packages/a4/5e/f8436267bb9a35099a75237325107beb640a5a8c8b718492381e9b836719/pydantic_core-2.10.1-cp312-none-win_amd64.whl.metadata\n",
      "  Downloading pydantic_core-2.10.1-cp312-none-win_amd64.whl.metadata (6.6 kB)\n",
      "Requirement already satisfied: six>=1.5 in c:\\users\\adeel\\.conda\\envs\\python12\\lib\\site-packages (from python-dateutil>=2.8.2->pandas>=1.2.0->pandera) (1.16.0)\n",
      "Downloading pandera-0.17.2-py3-none-any.whl (203 kB)\n",
      "   ---------------------------------------- 0.0/203.4 kB ? eta -:--:--\n",
      "   ------ --------------------------------- 30.7/203.4 kB 1.3 MB/s eta 0:00:01\n",
      "   ------------- ------------------------- 71.7/203.4 kB 787.7 kB/s eta 0:00:01\n",
      "   ----------------- --------------------- 92.2/203.4 kB 655.4 kB/s eta 0:00:01\n",
      "   ---------------------- --------------- 122.9/203.4 kB 722.1 kB/s eta 0:00:01\n",
      "   -------------------------------- ----- 174.1/203.4 kB 748.1 kB/s eta 0:00:01\n",
      "   ------------------------------------ - 194.6/203.4 kB 692.9 kB/s eta 0:00:01\n",
      "   -------------------------------------- 203.4/203.4 kB 589.0 kB/s eta 0:00:00\n",
      "Downloading typeguard-4.1.5-py3-none-any.whl (34 kB)\n",
      "Downloading typing_inspect-0.9.0-py3-none-any.whl (8.8 kB)\n",
      "Downloading multimethod-1.10-py3-none-any.whl (9.9 kB)\n",
      "Downloading pydantic-2.4.2-py3-none-any.whl (395 kB)\n",
      "   ---------------------------------------- 0.0/395.8 kB ? eta -:--:--\n",
      "   ---- ---------------------------------- 41.0/395.8 kB 991.0 kB/s eta 0:00:01\n",
      "   --------- ------------------------------ 92.2/395.8 kB 1.1 MB/s eta 0:00:01\n",
      "   ------------- ------------------------ 143.4/395.8 kB 853.3 kB/s eta 0:00:01\n",
      "   ---------------- --------------------- 174.1/395.8 kB 876.1 kB/s eta 0:00:01\n",
      "   --------------------- ---------------- 225.3/395.8 kB 811.5 kB/s eta 0:00:01\n",
      "   ------------------------ ------------- 256.0/395.8 kB 874.6 kB/s eta 0:00:01\n",
      "   ----------------------------- -------- 307.2/395.8 kB 827.2 kB/s eta 0:00:01\n",
      "   ---------------------------------- --- 358.4/395.8 kB 857.5 kB/s eta 0:00:01\n",
      "   -------------------------------------  389.1/395.8 kB 836.4 kB/s eta 0:00:01\n",
      "   -------------------------------------- 395.8/395.8 kB 796.5 kB/s eta 0:00:00\n",
      "Downloading pydantic_core-2.10.1-cp312-none-win_amd64.whl (2.0 MB)\n",
      "   ---------------------------------------- 0.0/2.0 MB ? eta -:--:--\n",
      "   - -------------------------------------- 0.1/2.0 MB 1.1 MB/s eta 0:00:02\n",
      "   -- ------------------------------------- 0.1/2.0 MB 980.4 kB/s eta 0:00:02\n",
      "   --- ------------------------------------ 0.2/2.0 MB 1.0 MB/s eta 0:00:02\n",
      "   ---- ----------------------------------- 0.2/2.0 MB 953.7 kB/s eta 0:00:02\n",
      "   ----- ---------------------------------- 0.3/2.0 MB 983.0 kB/s eta 0:00:02\n",
      "   ----- ---------------------------------- 0.3/2.0 MB 930.9 kB/s eta 0:00:02\n",
      "   ------ --------------------------------- 0.3/2.0 MB 952.6 kB/s eta 0:00:02\n",
      "   ------- -------------------------------- 0.4/2.0 MB 916.6 kB/s eta 0:00:02\n",
      "   ------- -------------------------------- 0.4/2.0 MB 930.9 kB/s eta 0:00:02\n",
      "   -------- ------------------------------- 0.4/2.0 MB 865.6 kB/s eta 0:00:02\n",
      "   --------- ------------------------------ 0.5/2.0 MB 866.2 kB/s eta 0:00:02\n",
      "   ---------- ----------------------------- 0.5/2.0 MB 873.0 kB/s eta 0:00:02\n",
      "   ---------- ----------------------------- 0.5/2.0 MB 856.1 kB/s eta 0:00:02\n",
      "   ----------- ---------------------------- 0.6/2.0 MB 872.8 kB/s eta 0:00:02\n",
      "   ------------ --------------------------- 0.6/2.0 MB 887.3 kB/s eta 0:00:02\n",
      "   ------------- -------------------------- 0.7/2.0 MB 868.9 kB/s eta 0:00:02\n",
      "   ------------- -------------------------- 0.7/2.0 MB 868.9 kB/s eta 0:00:02\n",
      "   ------------- -------------------------- 0.7/2.0 MB 827.6 kB/s eta 0:00:02\n",
      "   -------------- ------------------------- 0.7/2.0 MB 804.5 kB/s eta 0:00:02\n",
      "   -------------- ------------------------- 0.7/2.0 MB 799.7 kB/s eta 0:00:02\n",
      "   -------------- ------------------------- 0.7/2.0 MB 799.7 kB/s eta 0:00:02\n",
      "   --------------- ------------------------ 0.8/2.0 MB 735.7 kB/s eta 0:00:02\n",
      "   --------------- ------------------------ 0.8/2.0 MB 702.0 kB/s eta 0:00:02\n",
      "   ---------------- ----------------------- 0.8/2.0 MB 690.3 kB/s eta 0:00:02\n",
      "   ---------------- ----------------------- 0.8/2.0 MB 689.6 kB/s eta 0:00:02\n",
      "   ----------------- ---------------------- 0.9/2.0 MB 679.9 kB/s eta 0:00:02\n",
      "   ------------------ --------------------- 0.9/2.0 MB 694.8 kB/s eta 0:00:02\n",
      "   ------------------- -------------------- 1.0/2.0 MB 700.2 kB/s eta 0:00:02\n",
      "   -------------------- ------------------- 1.0/2.0 MB 698.5 kB/s eta 0:00:02\n",
      "   -------------------- ------------------- 1.0/2.0 MB 719.2 kB/s eta 0:00:02\n",
      "   --------------------- ------------------ 1.1/2.0 MB 702.5 kB/s eta 0:00:02\n",
      "   ---------------------- ----------------- 1.1/2.0 MB 713.4 kB/s eta 0:00:02\n",
      "   ----------------------- ---------------- 1.2/2.0 MB 731.4 kB/s eta 0:00:02\n",
      "   ------------------------- -------------- 1.2/2.0 MB 741.1 kB/s eta 0:00:02\n",
      "   -------------------------- ------------- 1.3/2.0 MB 743.7 kB/s eta 0:00:01\n",
      "   --------------------------- ------------ 1.4/2.0 MB 752.8 kB/s eta 0:00:01\n",
      "   ---------------------------- ----------- 1.4/2.0 MB 761.4 kB/s eta 0:00:01\n",
      "   ----------------------------- ---------- 1.5/2.0 MB 775.5 kB/s eta 0:00:01\n",
      "   ------------------------------ --------- 1.5/2.0 MB 783.2 kB/s eta 0:00:01\n",
      "   ------------------------------- -------- 1.6/2.0 MB 789.3 kB/s eta 0:00:01\n",
      "   -------------------------------- ------- 1.6/2.0 MB 786.1 kB/s eta 0:00:01\n",
      "   --------------------------------- ------ 1.7/2.0 MB 802.8 kB/s eta 0:00:01\n",
      "   ---------------------------------- ----- 1.7/2.0 MB 809.6 kB/s eta 0:00:01\n",
      "   ----------------------------------- ---- 1.8/2.0 MB 814.3 kB/s eta 0:00:01\n",
      "   ------------------------------------ --- 1.8/2.0 MB 815.5 kB/s eta 0:00:01\n",
      "   ------------------------------------- -- 1.9/2.0 MB 827.0 kB/s eta 0:00:01\n",
      "   ---------------------------------------  2.0/2.0 MB 841.2 kB/s eta 0:00:01\n",
      "   ---------------------------------------- 2.0/2.0 MB 835.8 kB/s eta 0:00:00\n",
      "Downloading wrapt-1.16.0-cp312-cp312-win_amd64.whl (37 kB)\n",
      "Downloading annotated_types-0.6.0-py3-none-any.whl (12 kB)\n",
      "Installing collected packages: wrapt, typing-inspect, typeguard, pydantic-core, multimethod, annotated-types, pydantic, pandera\n",
      "Successfully installed annotated-types-0.6.0 multimethod-1.10 pandera-0.17.2 pydantic-2.4.2 pydantic-core-2.10.1 typeguard-4.1.5 typing-inspect-0.9.0 wrapt-1.16.0\n"
     ]
    }
   ],
   "source": [
    "%pip install pandera"
   ]
  },
  {
   "cell_type": "code",
   "execution_count": 7,
   "metadata": {},
   "outputs": [
    {
     "data": {
      "text/plain": [
       "[1, 2, 3, 4, 5, 6, 7, 8, 9]"
      ]
     },
     "execution_count": 7,
     "metadata": {},
     "output_type": "execute_result"
    }
   ],
   "source": [
    "# list mai just list mai jo data h wo show hta\n",
    "l1 : list[int] = [1,2,3,4,5,6,7,8,9]\n",
    "l1"
   ]
  },
  {
   "cell_type": "code",
   "execution_count": 4,
   "metadata": {},
   "outputs": [
    {
     "data": {
      "text/plain": [
       "0    1\n",
       "1    2\n",
       "2    3\n",
       "3    4\n",
       "4    5\n",
       "dtype: int64"
      ]
     },
     "execution_count": 4,
     "metadata": {},
     "output_type": "execute_result"
    }
   ],
   "source": [
    "# list we can use for creating series.(jb k pd.Series mai index number b show hta or list b or data type b sth show krwa deti jse as mai dtype: int64)\n",
    "s1 : pd.Series = pd.Series([1,2,3,4,5])\n",
    "s1"
   ]
  },
  {
   "cell_type": "code",
   "execution_count": 5,
   "metadata": {},
   "outputs": [
    {
     "ename": "TypeError",
     "evalue": "'set' type is unordered",
     "output_type": "error",
     "traceback": [
      "\u001b[1;31m---------------------------------------------------------------------------\u001b[0m",
      "\u001b[1;31mTypeError\u001b[0m                                 Traceback (most recent call last)",
      "\u001b[1;32md:\\python\\class1(hello world)\\class17(panda_pandera_series_dataframe).ipynb Cell 4\u001b[0m line \u001b[0;36m2\n\u001b[0;32m      <a href='vscode-notebook-cell:/d%3A/python/class1%28hello%20world%29/class17%28panda_pandera_series_dataframe%29.ipynb#W4sZmlsZQ%3D%3D?line=0'>1</a>\u001b[0m \u001b[39m# list we can use for creating series\u001b[39;00m\n\u001b[1;32m----> <a href='vscode-notebook-cell:/d%3A/python/class1%28hello%20world%29/class17%28panda_pandera_series_dataframe%29.ipynb#W4sZmlsZQ%3D%3D?line=1'>2</a>\u001b[0m s1 : pd\u001b[39m.\u001b[39mSeries \u001b[39m=\u001b[39m pd\u001b[39m.\u001b[39;49mSeries({\u001b[39m1\u001b[39;49m,\u001b[39m2\u001b[39;49m,\u001b[39m3\u001b[39;49m,\u001b[39m4\u001b[39;49m,\u001b[39m5\u001b[39;49m})\n\u001b[0;32m      <a href='vscode-notebook-cell:/d%3A/python/class1%28hello%20world%29/class17%28panda_pandera_series_dataframe%29.ipynb#W4sZmlsZQ%3D%3D?line=2'>3</a>\u001b[0m s1\n",
      "File \u001b[1;32mc:\\Users\\adeel\\.conda\\envs\\python12\\Lib\\site-packages\\pandas\\core\\series.py:512\u001b[0m, in \u001b[0;36mSeries.__init__\u001b[1;34m(self, data, index, dtype, name, copy, fastpath)\u001b[0m\n\u001b[0;32m    510\u001b[0m         data \u001b[39m=\u001b[39m data\u001b[39m.\u001b[39mcopy()\n\u001b[0;32m    511\u001b[0m \u001b[39melse\u001b[39;00m:\n\u001b[1;32m--> 512\u001b[0m     data \u001b[39m=\u001b[39m sanitize_array(data, index, dtype, copy)\n\u001b[0;32m    514\u001b[0m     manager \u001b[39m=\u001b[39m get_option(\u001b[39m\"\u001b[39m\u001b[39mmode.data_manager\u001b[39m\u001b[39m\"\u001b[39m)\n\u001b[0;32m    515\u001b[0m     \u001b[39mif\u001b[39;00m manager \u001b[39m==\u001b[39m \u001b[39m\"\u001b[39m\u001b[39mblock\u001b[39m\u001b[39m\"\u001b[39m:\n",
      "File \u001b[1;32mc:\\Users\\adeel\\.conda\\envs\\python12\\Lib\\site-packages\\pandas\\core\\construction.py:619\u001b[0m, in \u001b[0;36msanitize_array\u001b[1;34m(data, index, dtype, copy, allow_2d)\u001b[0m\n\u001b[0;32m    610\u001b[0m     \u001b[39mreturn\u001b[39;00m sanitize_array(\n\u001b[0;32m    611\u001b[0m         data,\n\u001b[0;32m    612\u001b[0m         index\u001b[39m=\u001b[39mindex,\n\u001b[1;32m   (...)\u001b[0m\n\u001b[0;32m    615\u001b[0m         allow_2d\u001b[39m=\u001b[39mallow_2d,\n\u001b[0;32m    616\u001b[0m     )\n\u001b[0;32m    618\u001b[0m \u001b[39melse\u001b[39;00m:\n\u001b[1;32m--> 619\u001b[0m     _sanitize_non_ordered(data)\n\u001b[0;32m    620\u001b[0m     \u001b[39m# materialize e.g. generators, convert e.g. tuples, abc.ValueView\u001b[39;00m\n\u001b[0;32m    621\u001b[0m     data \u001b[39m=\u001b[39m \u001b[39mlist\u001b[39m(data)\n",
      "File \u001b[1;32mc:\\Users\\adeel\\.conda\\envs\\python12\\Lib\\site-packages\\pandas\\core\\construction.py:670\u001b[0m, in \u001b[0;36m_sanitize_non_ordered\u001b[1;34m(data)\u001b[0m\n\u001b[0;32m    666\u001b[0m \u001b[39m\u001b[39m\u001b[39m\"\"\"\u001b[39;00m\n\u001b[0;32m    667\u001b[0m \u001b[39mRaise only for unordered sets, e.g., not for dict_keys\u001b[39;00m\n\u001b[0;32m    668\u001b[0m \u001b[39m\"\"\"\u001b[39;00m\n\u001b[0;32m    669\u001b[0m \u001b[39mif\u001b[39;00m \u001b[39misinstance\u001b[39m(data, (\u001b[39mset\u001b[39m, \u001b[39mfrozenset\u001b[39m)):\n\u001b[1;32m--> 670\u001b[0m     \u001b[39mraise\u001b[39;00m \u001b[39mTypeError\u001b[39;00m(\u001b[39mf\u001b[39m\u001b[39m\"\u001b[39m\u001b[39m'\u001b[39m\u001b[39m{\u001b[39;00m\u001b[39mtype\u001b[39m(data)\u001b[39m.\u001b[39m\u001b[39m__name__\u001b[39m\u001b[39m}\u001b[39;00m\u001b[39m'\u001b[39m\u001b[39m type is unordered\u001b[39m\u001b[39m\"\u001b[39m)\n",
      "\u001b[1;31mTypeError\u001b[0m: 'set' type is unordered"
     ]
    }
   ],
   "source": [
    "# set we can use for creating series\n",
    "s1 : pd.Series = pd.Series({1,2,3,4,5})\n",
    "s1"
   ]
  },
  {
   "cell_type": "code",
   "execution_count": 6,
   "metadata": {},
   "outputs": [
    {
     "data": {
      "text/plain": [
       "0    1\n",
       "1    2\n",
       "2    3\n",
       "3    4\n",
       "4    5\n",
       "dtype: int64"
      ]
     },
     "execution_count": 6,
     "metadata": {},
     "output_type": "execute_result"
    }
   ],
   "source": [
    "# Typle we can use for creating series\n",
    "s1 : pd.Series = pd.Series((1,2,3,4,5))\n",
    "s1"
   ]
  },
  {
   "cell_type": "markdown",
   "metadata": {},
   "source": [
    "https://pandera.readthedocs.io/en/stable/index.html"
   ]
  }
 ],
 "metadata": {
  "kernelspec": {
   "display_name": "python12",
   "language": "python",
   "name": "python3"
  },
  "language_info": {
   "codemirror_mode": {
    "name": "ipython",
    "version": 3
   },
   "file_extension": ".py",
   "mimetype": "text/x-python",
   "name": "python",
   "nbconvert_exporter": "python",
   "pygments_lexer": "ipython3",
   "version": "3.12.0"
  }
 },
 "nbformat": 4,
 "nbformat_minor": 2
}
