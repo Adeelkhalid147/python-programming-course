{
 "cells": [
  {
   "cell_type": "code",
   "execution_count": 1,
   "metadata": {},
   "outputs": [
    {
     "name": "stdout",
     "output_type": "stream",
     "text": [
      "['clear', 'copy', 'fromkeys', 'get', 'items', 'keys', 'pop', 'popitem', 'setdefault', 'update', 'values']\n"
     ]
    }
   ],
   "source": [
    "from typing import Dict, Union,Optional\n",
    "import pprint\n",
    "\n",
    "key = Union[int,str] # create custom type\n",
    "value = Union[int,str,list,dict,tuple,set]\n",
    "# List\n",
    "data : Dict[key,value] = {\n",
    "                        \"fname\":\"Muhammad Adeel\",\n",
    "                        \"name\":\"Khalid\",\n",
    "                        \"education\":\"MBA\",\n",
    "                        }\n",
    "methods : list[str] = [m for m in dir(data) if \"__\" not in m]\n",
    "print(methods)"
   ]
  },
  {
   "cell_type": "code",
   "execution_count": 2,
   "metadata": {},
   "outputs": [
    {
     "name": "stdout",
     "output_type": "stream",
     "text": [
      "Before {'fname': 'Muhammad Adeel', 'name': 'Khalid', 'education': 'MBA'}\n",
      "After {}\n",
      "['clear', 'copy', 'fromkeys', 'get', 'items', 'keys', 'pop', 'popitem', 'setdefault', 'update', 'values']\n"
     ]
    }
   ],
   "source": [
    "# clear()\n",
    "from typing import Dict, Union,Optional\n",
    "import pprint\n",
    "\n",
    "key = Union[int,str] # create custom type\n",
    "value = Union[int,str,list,dict,tuple,set]\n",
    "# List\n",
    "data : Dict[key,value] = {\n",
    "                        \"fname\":\"Muhammad Adeel\",\n",
    "                        \"name\":\"Khalid\",\n",
    "                        \"education\":\"MBA\",\n",
    "                        }\n",
    "print(\"Before\",data)\n",
    "data.clear()\n",
    "print(\"After\",data)\n",
    "\n",
    "\n",
    "methods : list[str] = [m for m in dir(data) if \"__\" not in m]\n",
    "print(methods)"
   ]
  },
  {
   "cell_type": "code",
   "execution_count": 3,
   "metadata": {},
   "outputs": [
    {
     "ename": "SyntaxError",
     "evalue": "cannot delete function call (1874582493.py, line 13)",
     "output_type": "error",
     "traceback": [
      "\u001b[1;36m  Cell \u001b[1;32mIn[3], line 13\u001b[1;36m\u001b[0m\n\u001b[1;33m    del data()\u001b[0m\n\u001b[1;37m        ^\u001b[0m\n\u001b[1;31mSyntaxError\u001b[0m\u001b[1;31m:\u001b[0m cannot delete function call\n"
     ]
    }
   ],
   "source": [
    "# del data()\n",
    "from typing import Dict, Union,Optional\n",
    "import pprint\n",
    "\n",
    "key = Union[int,str] # create custom type\n",
    "value = Union[int,str,list,dict,tuple,set]\n",
    "# List\n",
    "data : Dict[key,value] = {\n",
    "                        \"fname\":\"Muhammad Adeel\",\n",
    "                        \"name\":\"Khalid\",\n",
    "                        \"education\":\"MBA\",\n",
    "                        }\n",
    "print(\"Before\",data)\n",
    "del data()\n",
    "print(\"After\",data)\n",
    "\n",
    "\n",
    "methods : list[str] = [m for m in dir(data) if \"__\" not in m]\n",
    "print(methods)"
   ]
  },
  {
   "cell_type": "code",
   "execution_count": 8,
   "metadata": {},
   "outputs": [
    {
     "name": "stdout",
     "output_type": "stream",
     "text": [
      "Before {'fname': 'Muhammad Adeel', 'name': 'Khalid', 'education': 'MBA'}\n",
      "MBA\n",
      "('name', 'Khalid')\n",
      "After {'fname': 'Muhammad Adeel'}\n",
      "['clear', 'copy', 'fromkeys', 'get', 'items', 'keys', 'pop', 'popitem', 'setdefault', 'update', 'values']\n"
     ]
    }
   ],
   "source": [
    "# pop()\n",
    "from typing import Dict, Union,Optional\n",
    "import pprint\n",
    "\n",
    "key = Union[int,str] # create custom type\n",
    "value = Union[int,str,list,dict,tuple,set]\n",
    "# List\n",
    "data : Dict[key,value] = {\n",
    "                        \"fname\":\"Muhammad Adeel\",\n",
    "                        \"name\":\"Khalid\",\n",
    "                        \"education\":\"MBA\",\n",
    "                        }\n",
    "print(\"Before\",data)\n",
    "a : str = data.pop(\"education\")\n",
    "\n",
    "print(a)\n",
    "print(\"After\",data)\n",
    "\n",
    "\n",
    "methods : list[str] = [m for m in dir(data) if \"__\" not in m]\n",
    "print(methods)"
   ]
  },
  {
   "cell_type": "code",
   "execution_count": 9,
   "metadata": {},
   "outputs": [
    {
     "name": "stdout",
     "output_type": "stream",
     "text": [
      "Before {'fname': 'Muhammad Adeel', 'name': 'Khalid', 'education': 'MBA'}\n",
      "('education', 'MBA')\n",
      "After {'fname': 'Muhammad Adeel', 'name': 'Khalid'}\n",
      "['clear', 'copy', 'fromkeys', 'get', 'items', 'keys', 'pop', 'popitem', 'setdefault', 'update', 'values']\n"
     ]
    }
   ],
   "source": [
    "# popitem()\n",
    "from typing import Dict, Union,Optional\n",
    "import pprint\n",
    "\n",
    "key = Union[int,str] # create custom type\n",
    "value = Union[int,str,list,dict,tuple,set]\n",
    "# List\n",
    "data : Dict[key,value] = {\n",
    "                        \"fname\":\"Muhammad Adeel\",\n",
    "                        \"name\":\"Khalid\",\n",
    "                        \"education\":\"MBA\",\n",
    "                        }\n",
    "print(\"Before\",data)\n",
    "a : str = data.popitem()\n",
    "\n",
    "print(a)\n",
    "print(\"After\",data)\n",
    "\n",
    "\n",
    "methods : list[str] = [m for m in dir(data) if \"__\" not in m]\n",
    "print(methods)"
   ]
  },
  {
   "cell_type": "code",
   "execution_count": 10,
   "metadata": {},
   "outputs": [
    {
     "name": "stdout",
     "output_type": "stream",
     "text": [
      "Before {'fname': 'Muhammad Adeel', 'name': 'Khalid', 'education': 'MBA'}\n",
      "NA\n",
      "After {'fname': 'Muhammad Adeel', 'name': 'Khalid', 'education': 'MBA'}\n",
      "['clear', 'copy', 'fromkeys', 'get', 'items', 'keys', 'pop', 'popitem', 'setdefault', 'update', 'values']\n"
     ]
    }
   ],
   "source": [
    "# get()\n",
    "from typing import Dict, Union,Optional\n",
    "import pprint\n",
    "\n",
    "key = Union[int,str] # create custom type\n",
    "value = Union[int,str,list,dict,tuple,set]\n",
    "# List\n",
    "data : Dict[key,value] = {\n",
    "                        \"fname\":\"Muhammad Adeel\",\n",
    "                        \"name\":\"Khalid\",\n",
    "                        \"education\":\"MBA\",\n",
    "                        }\n",
    "print(\"Before\",data)\n",
    "a : str = data.get(\"pakistan\",\"NA\")\n",
    "print(a)\n",
    "\n",
    "print(\"After\",data)\n",
    "\n",
    "\n",
    "methods : list[str] = [m for m in dir(data) if \"__\" not in m]\n",
    "print(methods)"
   ]
  },
  {
   "cell_type": "code",
   "execution_count": 13,
   "metadata": {},
   "outputs": [
    {
     "name": "stdout",
     "output_type": "stream",
     "text": [
      "Before {'fname': 'Muhammad Adeel', 'name': 'Khalid', 'education': 'MBA'}\n",
      "Empty value\n",
      "After {'fname': 'Muhammad Adeel', 'name': 'Khalid', 'education': 'MBA', 'pakistan': 'Empty value'}\n",
      "['clear', 'copy', 'fromkeys', 'get', 'items', 'keys', 'pop', 'popitem', 'setdefault', 'update', 'values']\n"
     ]
    }
   ],
   "source": [
    "# setdefault\n",
    "from typing import Dict, Union,Optional\n",
    "import pprint\n",
    "\n",
    "key = Union[int,str] # create custom type\n",
    "value = Union[int,str,list,dict,tuple,set]\n",
    "# List\n",
    "data : Dict[key,value] = {\n",
    "                        \"fname\":\"Muhammad Adeel\",\n",
    "                        \"name\":\"Khalid\",\n",
    "                        \"education\":\"MBA\",\n",
    "                        }\n",
    "print(\"Before\",data)\n",
    "\n",
    "a : str = data.setdefault(\"pakistan\",\"Empty value\") # agr pakistan k key ni h to add kr do key or value dono add hn gy\n",
    "print(a)\n",
    "\n",
    "print(\"After\",data)\n",
    "\n",
    "\n",
    "methods : list[str] = [m for m in dir(data) if \"__\" not in m]\n",
    "print(methods)"
   ]
  },
  {
   "cell_type": "code",
   "execution_count": 15,
   "metadata": {},
   "outputs": [
    {
     "data": {
      "text/plain": [
       "{'fname': 'Muhammad Adeel',\n",
       " 'name': 'M.Adeel',\n",
       " 'education': 'MBA',\n",
       " 'age': 30,\n",
       " 'Height': '6 Feet'}"
      ]
     },
     "execution_count": 15,
     "metadata": {},
     "output_type": "execute_result"
    }
   ],
   "source": [
    "# update\n",
    "key = Union[int,str] # create custom type\n",
    "value = Union[int,str,list,dict,tuple,set]\n",
    "# List\n",
    "data : Dict[key,value] = {\n",
    "                        \"fname\":\"Muhammad Adeel\",\n",
    "                        \"name\":\"Khalid\",\n",
    "                        \"education\":\"MBA\",\n",
    "                        }\n",
    "data1 : Dict[key,value] = {\"name\":\"M.Adeel\",\n",
    "                            \"age\":30,\n",
    "                            \"Height\":\"6 Feet\"}\n",
    "data.update(data1)\n",
    "data"
   ]
  },
  {
   "cell_type": "code",
   "execution_count": 19,
   "metadata": {},
   "outputs": [
    {
     "data": {
      "text/html": [
       "<div>\n",
       "<style scoped>\n",
       "    .dataframe tbody tr th:only-of-type {\n",
       "        vertical-align: middle;\n",
       "    }\n",
       "\n",
       "    .dataframe tbody tr th {\n",
       "        vertical-align: top;\n",
       "    }\n",
       "\n",
       "    .dataframe thead th {\n",
       "        text-align: right;\n",
       "    }\n",
       "</style>\n",
       "<table border=\"1\" class=\"dataframe\">\n",
       "  <thead>\n",
       "    <tr style=\"text-align: right;\">\n",
       "      <th></th>\n",
       "      <th>roll no</th>\n",
       "      <th>Name</th>\n",
       "      <th>education</th>\n",
       "    </tr>\n",
       "  </thead>\n",
       "  <tbody>\n",
       "    <tr>\n",
       "      <th>0</th>\n",
       "      <td>1</td>\n",
       "      <td>Sir A</td>\n",
       "      <td>Master</td>\n",
       "    </tr>\n",
       "    <tr>\n",
       "      <th>1</th>\n",
       "      <td>2</td>\n",
       "      <td>Sir B</td>\n",
       "      <td>Master</td>\n",
       "    </tr>\n",
       "    <tr>\n",
       "      <th>2</th>\n",
       "      <td>3</td>\n",
       "      <td>Sir C</td>\n",
       "      <td>Master</td>\n",
       "    </tr>\n",
       "  </tbody>\n",
       "</table>\n",
       "</div>"
      ],
      "text/plain": [
       "   roll no   Name education\n",
       "0        1  Sir A    Master\n",
       "1        2  Sir B    Master\n",
       "2        3  Sir C    Master"
      ]
     },
     "execution_count": 19,
     "metadata": {},
     "output_type": "execute_result"
    }
   ],
   "source": [
    "import pandas as pd\n",
    "from typing import Any\n",
    "\n",
    "\n",
    "students_data : Dict[str,list[Any]] = {\n",
    "    \"roll no\": [1,2,3],\n",
    "    \"Name\": [\"Sir A\",\"Sir B\",\"Sir C\"],\n",
    "    \"education\": [\"Master\",\"Master\",\"Master\"]\n",
    "}\n",
    "\n",
    "df : pd.DataFrame = pd.DataFrame(students_data)\n",
    "df"
   ]
  },
  {
   "cell_type": "code",
   "execution_count": 21,
   "metadata": {},
   "outputs": [
    {
     "name": "stdout",
     "output_type": "stream",
     "text": [
      "original position: 0\n",
      "New Position: 2\n"
     ]
    }
   ],
   "source": [
    "alien_0 = {'x_position':0,'y_position':25,'speed':'medium'}\n",
    "print(f\"original position: {alien_0['x_position']}\")\n",
    "\n",
    "# alien_0['speed'] = 'fast'\n",
    "\n",
    "if alien_0['speed'] == 'slow':\n",
    "    x_increment = 1\n",
    "elif alien_0['speed'] == 'medium':\n",
    "    x_increment = 2\n",
    "else:\n",
    "    x_increment = 3\n",
    "alien_0['x_position'] += x_increment\n",
    "print(f\"New Position: {alien_0['x_position']}\")\n",
    "\n",
    "    "
   ]
  },
  {
   "cell_type": "code",
   "execution_count": 23,
   "metadata": {},
   "outputs": [
    {
     "name": "stdout",
     "output_type": "stream",
     "text": [
      "{'fname': 'Muhammad Adeel', 'name': 'M.Khalid', 'education': 'MBA'}\n"
     ]
    }
   ],
   "source": [
    "# dublication mai latest value ae gey jse yha name k key do dfa h or print m.khalid ho gey\n",
    "key = Union[int,str] # create custom type\n",
    "value = Union[int,str,list,dict,tuple,set]\n",
    "# List\n",
    "data : Dict[key,value] = {\n",
    "                        \"fname\":\"Muhammad Adeel\",\n",
    "                        \"name\":\"Khalid\",\n",
    "                        \"education\":\"MBA\",\n",
    "                        \"name\":\"M.Khalid\"\n",
    "                        }\n",
    "print(data)"
   ]
  },
  {
   "cell_type": "code",
   "execution_count": 28,
   "metadata": {},
   "outputs": [
    {
     "name": "stdout",
     "output_type": "stream",
     "text": [
      "Hi Jen.\n",
      "Hi Sarah.\n",
      "\tSarah, i see you love C!\n",
      "Hi Edward.\n",
      "Hi Phil.\n",
      "\tPhil, i see you love Python!\n"
     ]
    }
   ],
   "source": [
    "\n",
    "favorite_languages = {\n",
    "    'jen': 'python',\n",
    "    'sarah': 'c',\n",
    "    'edward': 'rust',\n",
    "    'phil' : 'python',\n",
    "     }\n",
    "\n",
    "friends = ['phil','sarah']\n",
    "for name in favorite_languages.keys():\n",
    "    print(f\"Hi {name.title()}.\")\n",
    "    if name in friends:\n",
    "        language = favorite_languages[name].title()\n",
    "        print(f\"\\t{name.title()}, i see you love {language}!\")"
   ]
  },
  {
   "cell_type": "code",
   "execution_count": 31,
   "metadata": {},
   "outputs": [
    {
     "name": "stdout",
     "output_type": "stream",
     "text": [
      "True\n",
      "dict_keys(['jen', 'sarah', 'edward', 'phil'])\n"
     ]
    }
   ],
   "source": [
    "print('erin' not in favorite_languages.keys())\n",
    "print(favorite_languages.keys())"
   ]
  },
  {
   "cell_type": "code",
   "execution_count": 32,
   "metadata": {},
   "outputs": [
    {
     "data": {
      "text/plain": [
       "True"
      ]
     },
     "execution_count": 32,
     "metadata": {},
     "output_type": "execute_result"
    }
   ],
   "source": [
    "\"Adeel\" in \"\"\"My Name is Muhammad Adeel\"\"\""
   ]
  },
  {
   "cell_type": "code",
   "execution_count": 33,
   "metadata": {},
   "outputs": [
    {
     "name": "stdout",
     "output_type": "stream",
     "text": [
      "[]\n",
      "[{'color': 'green', 'points': 5, 'speed': 'slow'},\n",
      " {'color': 'green', 'points': 5, 'speed': 'slow'},\n",
      " {'color': 'green', 'points': 5, 'speed': 'slow'},\n",
      " {'color': 'green', 'points': 5, 'speed': 'slow'},\n",
      " {'color': 'green', 'points': 5, 'speed': 'slow'},\n",
      " {'color': 'green', 'points': 5, 'speed': 'slow'},\n",
      " {'color': 'green', 'points': 5, 'speed': 'slow'},\n",
      " {'color': 'green', 'points': 5, 'speed': 'slow'},\n",
      " {'color': 'green', 'points': 5, 'speed': 'slow'},\n",
      " {'color': 'green', 'points': 5, 'speed': 'slow'},\n",
      " {'color': 'green', 'points': 5, 'speed': 'slow'},\n",
      " {'color': 'green', 'points': 5, 'speed': 'slow'},\n",
      " {'color': 'green', 'points': 5, 'speed': 'slow'},\n",
      " {'color': 'green', 'points': 5, 'speed': 'slow'},\n",
      " {'color': 'green', 'points': 5, 'speed': 'slow'},\n",
      " {'color': 'green', 'points': 5, 'speed': 'slow'},\n",
      " {'color': 'green', 'points': 5, 'speed': 'slow'},\n",
      " {'color': 'green', 'points': 5, 'speed': 'slow'},\n",
      " {'color': 'green', 'points': 5, 'speed': 'slow'},\n",
      " {'color': 'green', 'points': 5, 'speed': 'slow'},\n",
      " {'color': 'green', 'points': 5, 'speed': 'slow'},\n",
      " {'color': 'green', 'points': 5, 'speed': 'slow'},\n",
      " {'color': 'green', 'points': 5, 'speed': 'slow'},\n",
      " {'color': 'green', 'points': 5, 'speed': 'slow'},\n",
      " {'color': 'green', 'points': 5, 'speed': 'slow'},\n",
      " {'color': 'green', 'points': 5, 'speed': 'slow'},\n",
      " {'color': 'green', 'points': 5, 'speed': 'slow'},\n",
      " {'color': 'green', 'points': 5, 'speed': 'slow'},\n",
      " {'color': 'green', 'points': 5, 'speed': 'slow'},\n",
      " {'color': 'green', 'points': 5, 'speed': 'slow'}]\n"
     ]
    }
   ],
   "source": [
    "# same name k 30 print hn gy\n",
    "aliens : list[Dict[str,str]] = []\n",
    "import pprint\n",
    "print(aliens)\n",
    "# make 30 green aliens.\n",
    "for alien_number in range(30):\n",
    "    new_alien = {'color':'green','points':5,'speed':'slow'}\n",
    "    aliens.append(new_alien)\n",
    "pprint.pprint(aliens)"
   ]
  },
  {
   "cell_type": "code",
   "execution_count": 35,
   "metadata": {},
   "outputs": [
    {
     "name": "stdout",
     "output_type": "stream",
     "text": [
      "[{'color': 'green', 'points': 5, 'speed': 'slow'},\n",
      " {'color': 'green', 'points': 5, 'speed': 'slow'},\n",
      " {'color': 'green', 'points': 5, 'speed': 'slow'},\n",
      " {'color': 'green', 'points': 5, 'speed': 'slow'},\n",
      " {'color': 'green', 'points': 5, 'speed': 'slow'}]\n"
     ]
    }
   ],
   "source": [
    "# agr 5 dekhne hn to slicing krwa ln gy\n",
    "pprint.pprint(aliens[:5])"
   ]
  },
  {
   "cell_type": "code",
   "execution_count": 36,
   "metadata": {},
   "outputs": [],
   "source": [
    "# start k 3 k values ko update \n",
    "for alien in aliens[:3]:\n",
    "    if alien['color'] == 'green':\n",
    "        alien['color'] = 'yellow'\n",
    "        alien['speed'] = 'medium'\n",
    "        alien['points'] = 10\n"
   ]
  },
  {
   "cell_type": "code",
   "execution_count": 37,
   "metadata": {},
   "outputs": [
    {
     "data": {
      "text/plain": [
       "[{'color': 'yellow', 'points': 10, 'speed': 'medium'},\n",
       " {'color': 'yellow', 'points': 10, 'speed': 'medium'},\n",
       " {'color': 'yellow', 'points': 10, 'speed': 'medium'},\n",
       " {'color': 'green', 'points': 5, 'speed': 'slow'},\n",
       " {'color': 'green', 'points': 5, 'speed': 'slow'}]"
      ]
     },
     "execution_count": 37,
     "metadata": {},
     "output_type": "execute_result"
    }
   ],
   "source": [
    "# start k 3 k color,points,speed k property change ho gye\n",
    "aliens[:5]"
   ]
  },
  {
   "cell_type": "code",
   "execution_count": 40,
   "metadata": {},
   "outputs": [
    {
     "name": "stdout",
     "output_type": "stream",
     "text": [
      "{'fname': 'Muhammad Adeel', 'name': 'Khalid', 'education': 'MBA'}\n",
      "<class 'dict'>\n"
     ]
    }
   ],
   "source": [
    "# create json\n",
    "key = Union[int,str] # create custom type\n",
    "value = Union[int,str,list,dict,tuple,set]\n",
    "# List\n",
    "data : Dict[key,value] = {\n",
    "                        \"fname\":\"Muhammad Adeel\",\n",
    "                        \"name\":\"Khalid\",\n",
    "                        \"education\":\"MBA\",\n",
    "                        }\n",
    "print(data)\n",
    "print(type(data))"
   ]
  },
  {
   "cell_type": "code",
   "execution_count": 43,
   "metadata": {},
   "outputs": [
    {
     "name": "stdout",
     "output_type": "stream",
     "text": [
      "<class 'str'>\n",
      "{\n",
      "    \"fname\": \"Muhammad Adeel\",\n",
      "    \"name\": \"Khalid\",\n",
      "    \"education\": \"MBA\"\n",
      "}\n"
     ]
    }
   ],
   "source": [
    "# \n",
    "import json\n",
    "data1 = json.dumps(data,indent=4)\n",
    "\n",
    "print(type(data1))\n",
    "print(data1)"
   ]
  }
 ],
 "metadata": {
  "kernelspec": {
   "display_name": "python12",
   "language": "python",
   "name": "python3"
  },
  "language_info": {
   "codemirror_mode": {
    "name": "ipython",
    "version": 3
   },
   "file_extension": ".py",
   "mimetype": "text/x-python",
   "name": "python",
   "nbconvert_exporter": "python",
   "pygments_lexer": "ipython3",
   "version": "3.12.0"
  }
 },
 "nbformat": 4,
 "nbformat_minor": 2
}
